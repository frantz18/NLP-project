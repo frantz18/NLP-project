{
  "nbformat": 4,
  "nbformat_minor": 0,
  "metadata": {
    "colab": {
      "name": "NLP_PROJECT_LeHelloco_Strub.ipynb",
      "provenance": [],
      "collapsed_sections": [],
      "toc_visible": true,
      "include_colab_link": true
    },
    "kernelspec": {
      "display_name": "Python 3",
      "name": "python3"
    },
    "language_info": {
      "name": "python"
    }
  },
  "cells": [
    {
      "cell_type": "markdown",
      "metadata": {
        "id": "view-in-github",
        "colab_type": "text"
      },
      "source": [
        "<a href=\"https://colab.research.google.com/github/frantz18/NLP-project/blob/main/NLP_PROJECT_LeHelloco_Strub.ipynb\" target=\"_parent\"><img src=\"https://colab.research.google.com/assets/colab-badge.svg\" alt=\"Open In Colab\"/></a>"
      ]
    },
    {
      "cell_type": "markdown",
      "metadata": {
        "id": "-FCkbUAYJSZO"
      },
      "source": [
        "#**NLP PROJECT**\n",
        "#**Predicting genres and success from song lyrics**\n",
        "Le Helloco François - Strub Thomas"
      ]
    },
    {
      "cell_type": "code",
      "metadata": {
        "id": "9HXVwGdnfKAR"
      },
      "source": [
        "import numpy as np\n",
        "import pandas as pd\n",
        "import seaborn as sns\n",
        "import matplotlib.pyplot as plt\n",
        "import csv \n",
        "%matplotlib inline\n",
        "\n",
        "import string\n",
        "import tensorflow as tf\n",
        "import keras\n",
        "from keras.datasets import imdb\n",
        "from keras.models import Sequential\n",
        "from keras.layers import Dense\n",
        "from keras.layers import LSTM\n",
        "from keras.layers import Bidirectional\n",
        "from keras.layers import GlobalMaxPooling1D\n",
        "from keras.layers.embeddings import Embedding\n",
        "from keras.preprocessing import sequence, text\n",
        "from keras.metrics import Recall\n",
        "import json\n",
        "import sklearn\n",
        "from sklearn import preprocessing as skpp\n",
        "\n"
      ],
      "execution_count": null,
      "outputs": []
    },
    {
      "cell_type": "markdown",
      "metadata": {
        "id": "oH91Xo3-Y22S"
      },
      "source": [
        "##**0. Data Pre-Processing**"
      ]
    },
    {
      "cell_type": "markdown",
      "metadata": {
        "id": "eI1CPb8wjW5b"
      },
      "source": [
        "First, we import the cleaned english lyrics data."
      ]
    },
    {
      "cell_type": "code",
      "metadata": {
        "id": "DVFKNNhqgi22"
      },
      "source": [
        "#! wget https://github.com/frantz18/NLP-project/blob/main/new_english_cleaned_lyrics.zip"
      ],
      "execution_count": null,
      "outputs": []
    },
    {
      "cell_type": "markdown",
      "metadata": {
        "id": "rpH8uQVZaKDs"
      },
      "source": [
        "We faced a problem while unpacking the data : the compressed database is not considered as a .zip file with both methods.\\\n",
        "In that respect, the data should be imported manually."
      ]
    },
    {
      "cell_type": "code",
      "metadata": {
        "id": "dS3GNlhErkne"
      },
      "source": [
        "#import shutil\n",
        "\n",
        "#shutil.unpack_archive(\"new_english_cleaned_lyrics.zip\")"
      ],
      "execution_count": null,
      "outputs": []
    },
    {
      "cell_type": "code",
      "metadata": {
        "id": "n9LTkjtkgvH4"
      },
      "source": [
        "#from zipfile import ZipFile \n",
        "#zip = ZipFile('/content/new_english_cleaned_lyrics.zip', mode='r')\n",
        "#zip.extract('english_cleaned_lyrics.csv', '')\n",
        " \n",
        "#zip.close()"
      ],
      "execution_count": null,
      "outputs": []
    },
    {
      "cell_type": "code",
      "metadata": {
        "id": "REPf_eMn2BM6",
        "colab": {
          "base_uri": "https://localhost:8080/",
          "height": 204
        },
        "outputId": "c94a8f5f-5a8c-4cd2-bde1-3046998a47d8"
      },
      "source": [
        "path = 'english_cleaned_lyrics.csv'\n",
        "data_genre = pd.read_csv(path, skip_blank_lines=False)\n",
        "data_genre.head()"
      ],
      "execution_count": null,
      "outputs": [
        {
          "output_type": "execute_result",
          "data": {
            "text/html": [
              "<div>\n",
              "<style scoped>\n",
              "    .dataframe tbody tr th:only-of-type {\n",
              "        vertical-align: middle;\n",
              "    }\n",
              "\n",
              "    .dataframe tbody tr th {\n",
              "        vertical-align: top;\n",
              "    }\n",
              "\n",
              "    .dataframe thead th {\n",
              "        text-align: right;\n",
              "    }\n",
              "</style>\n",
              "<table border=\"1\" class=\"dataframe\">\n",
              "  <thead>\n",
              "    <tr style=\"text-align: right;\">\n",
              "      <th></th>\n",
              "      <th>Unnamed: 0</th>\n",
              "      <th>index</th>\n",
              "      <th>song</th>\n",
              "      <th>year</th>\n",
              "      <th>artist</th>\n",
              "      <th>genre</th>\n",
              "      <th>lyrics</th>\n",
              "    </tr>\n",
              "  </thead>\n",
              "  <tbody>\n",
              "    <tr>\n",
              "      <th>0</th>\n",
              "      <td>0</td>\n",
              "      <td>0</td>\n",
              "      <td>ego-remix</td>\n",
              "      <td>2009</td>\n",
              "      <td>beyonce-knowles</td>\n",
              "      <td>Pop</td>\n",
              "      <td>Oh baby how you doing You know I'm gonna cut r...</td>\n",
              "    </tr>\n",
              "    <tr>\n",
              "      <th>1</th>\n",
              "      <td>1</td>\n",
              "      <td>1</td>\n",
              "      <td>then-tell-me</td>\n",
              "      <td>2009</td>\n",
              "      <td>beyonce-knowles</td>\n",
              "      <td>Pop</td>\n",
              "      <td>playin everything so easy it's like you seem s...</td>\n",
              "    </tr>\n",
              "    <tr>\n",
              "      <th>2</th>\n",
              "      <td>2</td>\n",
              "      <td>2</td>\n",
              "      <td>honesty</td>\n",
              "      <td>2009</td>\n",
              "      <td>beyonce-knowles</td>\n",
              "      <td>Pop</td>\n",
              "      <td>If you search For tenderness It isn't hard to ...</td>\n",
              "    </tr>\n",
              "    <tr>\n",
              "      <th>3</th>\n",
              "      <td>3</td>\n",
              "      <td>3</td>\n",
              "      <td>you-are-my-rock</td>\n",
              "      <td>2009</td>\n",
              "      <td>beyonce-knowles</td>\n",
              "      <td>Pop</td>\n",
              "      <td>Oh oh oh I oh oh oh I If I wrote a book about ...</td>\n",
              "    </tr>\n",
              "    <tr>\n",
              "      <th>4</th>\n",
              "      <td>4</td>\n",
              "      <td>4</td>\n",
              "      <td>black-culture</td>\n",
              "      <td>2009</td>\n",
              "      <td>beyonce-knowles</td>\n",
              "      <td>Pop</td>\n",
              "      <td>Party the people the people the party it's pop...</td>\n",
              "    </tr>\n",
              "  </tbody>\n",
              "</table>\n",
              "</div>"
            ],
            "text/plain": [
              "   Unnamed: 0  index  ... genre                                             lyrics\n",
              "0           0      0  ...   Pop  Oh baby how you doing You know I'm gonna cut r...\n",
              "1           1      1  ...   Pop  playin everything so easy it's like you seem s...\n",
              "2           2      2  ...   Pop  If you search For tenderness It isn't hard to ...\n",
              "3           3      3  ...   Pop  Oh oh oh I oh oh oh I If I wrote a book about ...\n",
              "4           4      4  ...   Pop  Party the people the people the party it's pop...\n",
              "\n",
              "[5 rows x 7 columns]"
            ]
          },
          "metadata": {
            "tags": []
          },
          "execution_count": 3
        }
      ]
    },
    {
      "cell_type": "code",
      "metadata": {
        "colab": {
          "base_uri": "https://localhost:8080/"
        },
        "id": "47rWlB2BJsyY",
        "outputId": "7de3dd64-be1c-42db-99a3-db2d9618dc11"
      },
      "source": [
        "data_genre.shape"
      ],
      "execution_count": null,
      "outputs": [
        {
          "output_type": "execute_result",
          "data": {
            "text/plain": [
              "(218210, 7)"
            ]
          },
          "metadata": {
            "tags": []
          },
          "execution_count": 4
        }
      ]
    },
    {
      "cell_type": "markdown",
      "metadata": {
        "id": "BJ4O92DEkEGW"
      },
      "source": [
        "We create a 100 song random subset in order to create manually a measure of success for each song.\n",
        "Success will be captures using :\n",
        "- the Spotify number of streams\n",
        "- the Deezer rate\n",
        "- the Youtube number of views"
      ]
    },
    {
      "cell_type": "code",
      "metadata": {
        "id": "9d6SrapIKans"
      },
      "source": [
        "data_genre_1 = data_genre[['index', 'song', 'year', 'artist', 'genre', 'lyrics']]\n",
        "data_100songs = data_genre_1.sample(n=100) # select randomly 100 songs \n",
        "data_100songs.to_excel('100songs.xlsx')"
      ],
      "execution_count": null,
      "outputs": []
    },
    {
      "cell_type": "markdown",
      "metadata": {
        "id": "uE5vmgWokXOC"
      },
      "source": [
        "We then import the success database fully completed."
      ]
    },
    {
      "cell_type": "code",
      "metadata": {
        "id": "L-wG1xQIlS9p"
      },
      "source": [
        "#! wget https://github.com/frantz18/NLP-project/blob/main/100songs_rempli_final.csv"
      ],
      "execution_count": null,
      "outputs": []
    },
    {
      "cell_type": "markdown",
      "metadata": {
        "id": "5AL888J5cNPl"
      },
      "source": [
        "As before, importing data from our github does not seem to work. In that respect, data should be imported manually."
      ]
    },
    {
      "cell_type": "code",
      "metadata": {
        "colab": {
          "base_uri": "https://localhost:8080/",
          "height": 204
        },
        "id": "zIYA_kc6kc6n",
        "outputId": "c7c077b6-1193-4a30-a2e0-ccb4878b51b9"
      },
      "source": [
        "path = '100songs_rempli_final.csv'\n",
        "data_success = pd.read_csv(path, sep= ';', skip_blank_lines=False)\n",
        "data_success.head()"
      ],
      "execution_count": null,
      "outputs": [
        {
          "output_type": "execute_result",
          "data": {
            "text/html": [
              "<div>\n",
              "<style scoped>\n",
              "    .dataframe tbody tr th:only-of-type {\n",
              "        vertical-align: middle;\n",
              "    }\n",
              "\n",
              "    .dataframe tbody tr th {\n",
              "        vertical-align: top;\n",
              "    }\n",
              "\n",
              "    .dataframe thead th {\n",
              "        text-align: right;\n",
              "    }\n",
              "</style>\n",
              "<table border=\"1\" class=\"dataframe\">\n",
              "  <thead>\n",
              "    <tr style=\"text-align: right;\">\n",
              "      <th></th>\n",
              "      <th>index</th>\n",
              "      <th>song</th>\n",
              "      <th>year</th>\n",
              "      <th>artist</th>\n",
              "      <th>genre</th>\n",
              "      <th>lyrics</th>\n",
              "      <th>spotify_streams</th>\n",
              "      <th>deezer_rate</th>\n",
              "      <th>youtube_views</th>\n",
              "    </tr>\n",
              "  </thead>\n",
              "  <tbody>\n",
              "    <tr>\n",
              "      <th>0</th>\n",
              "      <td>248635</td>\n",
              "      <td>live-for-the-one-you-love</td>\n",
              "      <td>2008</td>\n",
              "      <td>celine-dion</td>\n",
              "      <td>Pop</td>\n",
              "      <td>A million stars light This beautiful night Thi...</td>\n",
              "      <td>1724337.0</td>\n",
              "      <td>3,03</td>\n",
              "      <td>104000</td>\n",
              "    </tr>\n",
              "    <tr>\n",
              "      <th>1</th>\n",
              "      <td>117972</td>\n",
              "      <td>perfection</td>\n",
              "      <td>2006</td>\n",
              "      <td>bonnie-tyler</td>\n",
              "      <td>Pop</td>\n",
              "      <td>desmond child diane warren Producer for bonni...</td>\n",
              "      <td>NaN</td>\n",
              "      <td>NaN</td>\n",
              "      <td>18000</td>\n",
              "    </tr>\n",
              "    <tr>\n",
              "      <th>2</th>\n",
              "      <td>362048</td>\n",
              "      <td>watch-this</td>\n",
              "      <td>2006</td>\n",
              "      <td>clay-walker</td>\n",
              "      <td>Country</td>\n",
              "      <td>If you've never felt what happens When two hea...</td>\n",
              "      <td>751902.0</td>\n",
              "      <td>1,45</td>\n",
              "      <td>301000</td>\n",
              "    </tr>\n",
              "    <tr>\n",
              "      <th>3</th>\n",
              "      <td>316112</td>\n",
              "      <td>stormy-ballad-of-a-vampire</td>\n",
              "      <td>2008</td>\n",
              "      <td>blind-iris</td>\n",
              "      <td>Rock</td>\n",
              "      <td>Stormy says the sun is too bright She sleeps i...</td>\n",
              "      <td>1000.0</td>\n",
              "      <td>0,31</td>\n",
              "      <td>43</td>\n",
              "    </tr>\n",
              "    <tr>\n",
              "      <th>4</th>\n",
              "      <td>23395</td>\n",
              "      <td>the-revelation-embodied</td>\n",
              "      <td>2007</td>\n",
              "      <td>cult-of-luna</td>\n",
              "      <td>Rock</td>\n",
              "      <td>A time lost to the sick crowd of a new demonic...</td>\n",
              "      <td>117748.0</td>\n",
              "      <td>0,86</td>\n",
              "      <td>2300</td>\n",
              "    </tr>\n",
              "  </tbody>\n",
              "</table>\n",
              "</div>"
            ],
            "text/plain": [
              "    index                        song  ...  deezer_rate youtube_views\n",
              "0  248635   live-for-the-one-you-love  ...         3,03        104000\n",
              "1  117972                  perfection  ...          NaN         18000\n",
              "2  362048                  watch-this  ...         1,45        301000\n",
              "3  316112  stormy-ballad-of-a-vampire  ...         0,31            43\n",
              "4   23395     the-revelation-embodied  ...         0,86          2300\n",
              "\n",
              "[5 rows x 9 columns]"
            ]
          },
          "metadata": {
            "tags": []
          },
          "execution_count": 6
        }
      ]
    },
    {
      "cell_type": "markdown",
      "metadata": {
        "id": "4YKVqy7NHtbw"
      },
      "source": [
        "##**1. Data Analysis**"
      ]
    },
    {
      "cell_type": "code",
      "metadata": {
        "id": "AKSsczPhH3nP"
      },
      "source": [
        "data = data_genre"
      ],
      "execution_count": null,
      "outputs": []
    },
    {
      "cell_type": "code",
      "metadata": {
        "colab": {
          "base_uri": "https://localhost:8080/",
          "height": 204
        },
        "id": "iy_wx5ieII-n",
        "outputId": "e7d57167-ff4e-49e5-eafa-19d0e47a7e7f"
      },
      "source": [
        "data.head()"
      ],
      "execution_count": null,
      "outputs": [
        {
          "output_type": "execute_result",
          "data": {
            "text/html": [
              "<div>\n",
              "<style scoped>\n",
              "    .dataframe tbody tr th:only-of-type {\n",
              "        vertical-align: middle;\n",
              "    }\n",
              "\n",
              "    .dataframe tbody tr th {\n",
              "        vertical-align: top;\n",
              "    }\n",
              "\n",
              "    .dataframe thead th {\n",
              "        text-align: right;\n",
              "    }\n",
              "</style>\n",
              "<table border=\"1\" class=\"dataframe\">\n",
              "  <thead>\n",
              "    <tr style=\"text-align: right;\">\n",
              "      <th></th>\n",
              "      <th>Unnamed: 0</th>\n",
              "      <th>index</th>\n",
              "      <th>song</th>\n",
              "      <th>year</th>\n",
              "      <th>artist</th>\n",
              "      <th>genre</th>\n",
              "      <th>lyrics</th>\n",
              "    </tr>\n",
              "  </thead>\n",
              "  <tbody>\n",
              "    <tr>\n",
              "      <th>0</th>\n",
              "      <td>0</td>\n",
              "      <td>0</td>\n",
              "      <td>ego-remix</td>\n",
              "      <td>2009</td>\n",
              "      <td>beyonce-knowles</td>\n",
              "      <td>Pop</td>\n",
              "      <td>Oh baby how you doing You know I'm gonna cut r...</td>\n",
              "    </tr>\n",
              "    <tr>\n",
              "      <th>1</th>\n",
              "      <td>1</td>\n",
              "      <td>1</td>\n",
              "      <td>then-tell-me</td>\n",
              "      <td>2009</td>\n",
              "      <td>beyonce-knowles</td>\n",
              "      <td>Pop</td>\n",
              "      <td>playin everything so easy it's like you seem s...</td>\n",
              "    </tr>\n",
              "    <tr>\n",
              "      <th>2</th>\n",
              "      <td>2</td>\n",
              "      <td>2</td>\n",
              "      <td>honesty</td>\n",
              "      <td>2009</td>\n",
              "      <td>beyonce-knowles</td>\n",
              "      <td>Pop</td>\n",
              "      <td>If you search For tenderness It isn't hard to ...</td>\n",
              "    </tr>\n",
              "    <tr>\n",
              "      <th>3</th>\n",
              "      <td>3</td>\n",
              "      <td>3</td>\n",
              "      <td>you-are-my-rock</td>\n",
              "      <td>2009</td>\n",
              "      <td>beyonce-knowles</td>\n",
              "      <td>Pop</td>\n",
              "      <td>Oh oh oh I oh oh oh I If I wrote a book about ...</td>\n",
              "    </tr>\n",
              "    <tr>\n",
              "      <th>4</th>\n",
              "      <td>4</td>\n",
              "      <td>4</td>\n",
              "      <td>black-culture</td>\n",
              "      <td>2009</td>\n",
              "      <td>beyonce-knowles</td>\n",
              "      <td>Pop</td>\n",
              "      <td>Party the people the people the party it's pop...</td>\n",
              "    </tr>\n",
              "  </tbody>\n",
              "</table>\n",
              "</div>"
            ],
            "text/plain": [
              "   Unnamed: 0  index  ... genre                                             lyrics\n",
              "0           0      0  ...   Pop  Oh baby how you doing You know I'm gonna cut r...\n",
              "1           1      1  ...   Pop  playin everything so easy it's like you seem s...\n",
              "2           2      2  ...   Pop  If you search For tenderness It isn't hard to ...\n",
              "3           3      3  ...   Pop  Oh oh oh I oh oh oh I If I wrote a book about ...\n",
              "4           4      4  ...   Pop  Party the people the people the party it's pop...\n",
              "\n",
              "[5 rows x 7 columns]"
            ]
          },
          "metadata": {
            "tags": []
          },
          "execution_count": 8
        }
      ]
    },
    {
      "cell_type": "code",
      "metadata": {
        "colab": {
          "base_uri": "https://localhost:8080/"
        },
        "id": "w8V8eUhbJylv",
        "outputId": "0c4816dd-c7ff-4a86-f7da-5866faffd89f"
      },
      "source": [
        "data.shape"
      ],
      "execution_count": null,
      "outputs": [
        {
          "output_type": "execute_result",
          "data": {
            "text/plain": [
              "(218210, 7)"
            ]
          },
          "metadata": {
            "tags": []
          },
          "execution_count": 9
        }
      ]
    },
    {
      "cell_type": "code",
      "metadata": {
        "id": "7W7QD2nNJ3H7"
      },
      "source": [
        "data_lyrics = data[['index', 'song', 'year', 'artist', 'genre', 'lyrics']]"
      ],
      "execution_count": null,
      "outputs": []
    },
    {
      "cell_type": "code",
      "metadata": {
        "colab": {
          "base_uri": "https://localhost:8080/",
          "height": 204
        },
        "id": "rWADoZ-NKKZ6",
        "outputId": "5c0b483d-49dc-4269-9e6c-548593b31a1b"
      },
      "source": [
        "data_lyrics.head()"
      ],
      "execution_count": null,
      "outputs": [
        {
          "output_type": "execute_result",
          "data": {
            "text/html": [
              "<div>\n",
              "<style scoped>\n",
              "    .dataframe tbody tr th:only-of-type {\n",
              "        vertical-align: middle;\n",
              "    }\n",
              "\n",
              "    .dataframe tbody tr th {\n",
              "        vertical-align: top;\n",
              "    }\n",
              "\n",
              "    .dataframe thead th {\n",
              "        text-align: right;\n",
              "    }\n",
              "</style>\n",
              "<table border=\"1\" class=\"dataframe\">\n",
              "  <thead>\n",
              "    <tr style=\"text-align: right;\">\n",
              "      <th></th>\n",
              "      <th>index</th>\n",
              "      <th>song</th>\n",
              "      <th>year</th>\n",
              "      <th>artist</th>\n",
              "      <th>genre</th>\n",
              "      <th>lyrics</th>\n",
              "    </tr>\n",
              "  </thead>\n",
              "  <tbody>\n",
              "    <tr>\n",
              "      <th>0</th>\n",
              "      <td>0</td>\n",
              "      <td>ego-remix</td>\n",
              "      <td>2009</td>\n",
              "      <td>beyonce-knowles</td>\n",
              "      <td>Pop</td>\n",
              "      <td>Oh baby how you doing You know I'm gonna cut r...</td>\n",
              "    </tr>\n",
              "    <tr>\n",
              "      <th>1</th>\n",
              "      <td>1</td>\n",
              "      <td>then-tell-me</td>\n",
              "      <td>2009</td>\n",
              "      <td>beyonce-knowles</td>\n",
              "      <td>Pop</td>\n",
              "      <td>playin everything so easy it's like you seem s...</td>\n",
              "    </tr>\n",
              "    <tr>\n",
              "      <th>2</th>\n",
              "      <td>2</td>\n",
              "      <td>honesty</td>\n",
              "      <td>2009</td>\n",
              "      <td>beyonce-knowles</td>\n",
              "      <td>Pop</td>\n",
              "      <td>If you search For tenderness It isn't hard to ...</td>\n",
              "    </tr>\n",
              "    <tr>\n",
              "      <th>3</th>\n",
              "      <td>3</td>\n",
              "      <td>you-are-my-rock</td>\n",
              "      <td>2009</td>\n",
              "      <td>beyonce-knowles</td>\n",
              "      <td>Pop</td>\n",
              "      <td>Oh oh oh I oh oh oh I If I wrote a book about ...</td>\n",
              "    </tr>\n",
              "    <tr>\n",
              "      <th>4</th>\n",
              "      <td>4</td>\n",
              "      <td>black-culture</td>\n",
              "      <td>2009</td>\n",
              "      <td>beyonce-knowles</td>\n",
              "      <td>Pop</td>\n",
              "      <td>Party the people the people the party it's pop...</td>\n",
              "    </tr>\n",
              "  </tbody>\n",
              "</table>\n",
              "</div>"
            ],
            "text/plain": [
              "   index  ...                                             lyrics\n",
              "0      0  ...  Oh baby how you doing You know I'm gonna cut r...\n",
              "1      1  ...  playin everything so easy it's like you seem s...\n",
              "2      2  ...  If you search For tenderness It isn't hard to ...\n",
              "3      3  ...  Oh oh oh I oh oh oh I If I wrote a book about ...\n",
              "4      4  ...  Party the people the people the party it's pop...\n",
              "\n",
              "[5 rows x 6 columns]"
            ]
          },
          "metadata": {
            "tags": []
          },
          "execution_count": 11
        }
      ]
    },
    {
      "cell_type": "code",
      "metadata": {
        "colab": {
          "base_uri": "https://localhost:8080/"
        },
        "id": "g3-aYMIHnAwP",
        "outputId": "400b694b-83d6-425e-a900-7d4f2cd85cf5"
      },
      "source": [
        "data_lyrics.dtypes"
      ],
      "execution_count": null,
      "outputs": [
        {
          "output_type": "execute_result",
          "data": {
            "text/plain": [
              "index      int64\n",
              "song      object\n",
              "year       int64\n",
              "artist    object\n",
              "genre     object\n",
              "lyrics    object\n",
              "dtype: object"
            ]
          },
          "metadata": {
            "tags": []
          },
          "execution_count": 12
        }
      ]
    },
    {
      "cell_type": "code",
      "metadata": {
        "id": "J2NPtvw2nDzb",
        "colab": {
          "base_uri": "https://localhost:8080/"
        },
        "outputId": "96bbb374-dd7c-4e5f-ddca-6b9956565b10"
      },
      "source": [
        "data_lyrics[\"lyrics\"] = data_lyrics[\"lyrics\"].astype(str)"
      ],
      "execution_count": null,
      "outputs": [
        {
          "output_type": "stream",
          "text": [
            "/usr/local/lib/python3.7/dist-packages/ipykernel_launcher.py:1: SettingWithCopyWarning: \n",
            "A value is trying to be set on a copy of a slice from a DataFrame.\n",
            "Try using .loc[row_indexer,col_indexer] = value instead\n",
            "\n",
            "See the caveats in the documentation: https://pandas.pydata.org/pandas-docs/stable/user_guide/indexing.html#returning-a-view-versus-a-copy\n",
            "  \"\"\"Entry point for launching an IPython kernel.\n"
          ],
          "name": "stderr"
        }
      ]
    },
    {
      "cell_type": "code",
      "metadata": {
        "colab": {
          "base_uri": "https://localhost:8080/"
        },
        "id": "Y7R9l5Q6PCNW",
        "outputId": "1a7c36fd-a780-4c6e-fc2d-cdc0822369e7"
      },
      "source": [
        "data_lyrics[\"genre\"].value_counts(normalize=True)"
      ],
      "execution_count": null,
      "outputs": [
        {
          "output_type": "execute_result",
          "data": {
            "text/plain": [
              "Rock          0.458517\n",
              "Pop           0.156441\n",
              "Hip-Hop       0.103817\n",
              "Metal         0.097200\n",
              "Country       0.064882\n",
              "Jazz          0.033500\n",
              "Electronic    0.031813\n",
              "Other         0.017350\n",
              "R&B           0.015288\n",
              "Indie         0.013450\n",
              "Folk          0.007740\n",
              "Name: genre, dtype: float64"
            ]
          },
          "metadata": {
            "tags": []
          },
          "execution_count": 14
        }
      ]
    },
    {
      "cell_type": "markdown",
      "metadata": {
        "id": "KLLAxa3HIS3E"
      },
      "source": [
        "Rock is predominant in the dataset, followed by Pop and Hip-Hop"
      ]
    },
    {
      "cell_type": "code",
      "metadata": {
        "colab": {
          "base_uri": "https://localhost:8080/"
        },
        "id": "NJ2600D9TcVn",
        "outputId": "428c853f-8a54-4012-e1d2-6416c6e56de4"
      },
      "source": [
        "data_lyrics[\"genre\"].value_counts()"
      ],
      "execution_count": null,
      "outputs": [
        {
          "output_type": "execute_result",
          "data": {
            "text/plain": [
              "Rock          100053\n",
              "Pop            34137\n",
              "Hip-Hop        22654\n",
              "Metal          21210\n",
              "Country        14158\n",
              "Jazz            7310\n",
              "Electronic      6942\n",
              "Other           3786\n",
              "R&B             3336\n",
              "Indie           2935\n",
              "Folk            1689\n",
              "Name: genre, dtype: int64"
            ]
          },
          "metadata": {
            "tags": []
          },
          "execution_count": 15
        }
      ]
    },
    {
      "cell_type": "code",
      "metadata": {
        "colab": {
          "base_uri": "https://localhost:8080/"
        },
        "id": "RSwZulc2OAEu",
        "outputId": "47bd4fa7-4c50-4761-a9fc-755d9cacddec"
      },
      "source": [
        "data_lyrics['lyrics'] = data_lyrics['lyrics'].str.lower()"
      ],
      "execution_count": null,
      "outputs": [
        {
          "output_type": "stream",
          "text": [
            "/usr/local/lib/python3.7/dist-packages/ipykernel_launcher.py:1: SettingWithCopyWarning: \n",
            "A value is trying to be set on a copy of a slice from a DataFrame.\n",
            "Try using .loc[row_indexer,col_indexer] = value instead\n",
            "\n",
            "See the caveats in the documentation: https://pandas.pydata.org/pandas-docs/stable/user_guide/indexing.html#returning-a-view-versus-a-copy\n",
            "  \"\"\"Entry point for launching an IPython kernel.\n"
          ],
          "name": "stderr"
        }
      ]
    },
    {
      "cell_type": "code",
      "metadata": {
        "id": "jVihk-F9Dd3z",
        "colab": {
          "base_uri": "https://localhost:8080/"
        },
        "outputId": "a6458461-4a66-421c-d6b1-ab53e398c665"
      },
      "source": [
        "#number of words in the vocabulary \n",
        "\n",
        "from nltk.tokenize.regexp import WhitespaceTokenizer \n",
        "#let's tokenise the lyrics \n",
        "#by using a tokeniser which uses non-alphabetical characters as a separator\n",
        "#so as to count words\n",
        "\n",
        "data_lyrics['nb of words'] = 0\n",
        "data_lyrics['unique words'] = 0\n",
        "\n",
        "for i in data_lyrics.index:\n",
        "  tokens = WhitespaceTokenizer().tokenize(data_lyrics['lyrics'][i])\n",
        "  data_lyrics['nb of words'][i] = len(tokens)\n",
        "  data_lyrics['unique words'][i] = len(set(tokens))\n",
        "\n",
        "# actually it is more a token counts, since\n",
        "# it gives a word and punctuation count. But punctuation has been removed\n",
        "# then it is ok \n"
      ],
      "execution_count": null,
      "outputs": [
        {
          "output_type": "stream",
          "text": [
            "/usr/local/lib/python3.7/dist-packages/ipykernel_launcher.py:13: SettingWithCopyWarning: \n",
            "A value is trying to be set on a copy of a slice from a DataFrame\n",
            "\n",
            "See the caveats in the documentation: https://pandas.pydata.org/pandas-docs/stable/user_guide/indexing.html#returning-a-view-versus-a-copy\n",
            "  del sys.path[0]\n",
            "/usr/local/lib/python3.7/dist-packages/ipykernel_launcher.py:14: SettingWithCopyWarning: \n",
            "A value is trying to be set on a copy of a slice from a DataFrame\n",
            "\n",
            "See the caveats in the documentation: https://pandas.pydata.org/pandas-docs/stable/user_guide/indexing.html#returning-a-view-versus-a-copy\n",
            "  \n"
          ],
          "name": "stderr"
        }
      ]
    },
    {
      "cell_type": "code",
      "metadata": {
        "colab": {
          "base_uri": "https://localhost:8080/",
          "height": 111
        },
        "id": "XIx6s57XYO4x",
        "outputId": "06929820-213c-44e6-9a9d-3a707e1d4b5f"
      },
      "source": [
        "data_lyrics.head(2)"
      ],
      "execution_count": null,
      "outputs": [
        {
          "output_type": "execute_result",
          "data": {
            "text/html": [
              "<div>\n",
              "<style scoped>\n",
              "    .dataframe tbody tr th:only-of-type {\n",
              "        vertical-align: middle;\n",
              "    }\n",
              "\n",
              "    .dataframe tbody tr th {\n",
              "        vertical-align: top;\n",
              "    }\n",
              "\n",
              "    .dataframe thead th {\n",
              "        text-align: right;\n",
              "    }\n",
              "</style>\n",
              "<table border=\"1\" class=\"dataframe\">\n",
              "  <thead>\n",
              "    <tr style=\"text-align: right;\">\n",
              "      <th></th>\n",
              "      <th>index</th>\n",
              "      <th>song</th>\n",
              "      <th>year</th>\n",
              "      <th>artist</th>\n",
              "      <th>genre</th>\n",
              "      <th>lyrics</th>\n",
              "      <th>nb of words</th>\n",
              "      <th>unique words</th>\n",
              "    </tr>\n",
              "  </thead>\n",
              "  <tbody>\n",
              "    <tr>\n",
              "      <th>0</th>\n",
              "      <td>0</td>\n",
              "      <td>ego-remix</td>\n",
              "      <td>2009</td>\n",
              "      <td>beyonce-knowles</td>\n",
              "      <td>Pop</td>\n",
              "      <td>oh baby how you doing you know i'm gonna cut r...</td>\n",
              "      <td>433</td>\n",
              "      <td>137</td>\n",
              "    </tr>\n",
              "    <tr>\n",
              "      <th>1</th>\n",
              "      <td>1</td>\n",
              "      <td>then-tell-me</td>\n",
              "      <td>2009</td>\n",
              "      <td>beyonce-knowles</td>\n",
              "      <td>Pop</td>\n",
              "      <td>playin everything so easy it's like you seem s...</td>\n",
              "      <td>258</td>\n",
              "      <td>121</td>\n",
              "    </tr>\n",
              "  </tbody>\n",
              "</table>\n",
              "</div>"
            ],
            "text/plain": [
              "   index          song  ...  nb of words unique words\n",
              "0      0     ego-remix  ...          433          137\n",
              "1      1  then-tell-me  ...          258          121\n",
              "\n",
              "[2 rows x 8 columns]"
            ]
          },
          "metadata": {
            "tags": []
          },
          "execution_count": 18
        }
      ]
    },
    {
      "cell_type": "code",
      "metadata": {
        "colab": {
          "base_uri": "https://localhost:8080/"
        },
        "id": "tHiHOZ74UWuE",
        "outputId": "1619faeb-70b0-45d6-b7c0-8a75b564137d"
      },
      "source": [
        "data_lyrics['nb of words'].describe()"
      ],
      "execution_count": null,
      "outputs": [
        {
          "output_type": "execute_result",
          "data": {
            "text/plain": [
              "count    218210.000000\n",
              "mean        233.469273\n",
              "std         157.148181\n",
              "min           1.000000\n",
              "25%         134.000000\n",
              "50%         195.000000\n",
              "75%         283.000000\n",
              "max        5131.000000\n",
              "Name: nb of words, dtype: float64"
            ]
          },
          "metadata": {
            "tags": []
          },
          "execution_count": 19
        }
      ]
    },
    {
      "cell_type": "markdown",
      "metadata": {
        "id": "BcLfcZ5uIxCd"
      },
      "source": [
        "The average number of 'words'/tokens per song is about 230.\\\n",
        "The variance is high, the standard deviation is approximately 157.\\\n",
        "\n",
        "Let's see the difference between the genres :"
      ]
    },
    {
      "cell_type": "code",
      "metadata": {
        "colab": {
          "base_uri": "https://localhost:8080/"
        },
        "id": "c4BjdSOoYxp2",
        "outputId": "20416ada-18ca-441c-c2cb-1dd40ff7524c"
      },
      "source": [
        "data_lyrics['unique words'].describe()"
      ],
      "execution_count": null,
      "outputs": [
        {
          "output_type": "execute_result",
          "data": {
            "text/plain": [
              "count    218210.000000\n",
              "mean        100.316429\n",
              "std          61.574979\n",
              "min           1.000000\n",
              "25%          65.000000\n",
              "50%          86.000000\n",
              "75%         113.000000\n",
              "max        1124.000000\n",
              "Name: unique words, dtype: float64"
            ]
          },
          "metadata": {
            "tags": []
          },
          "execution_count": 20
        }
      ]
    },
    {
      "cell_type": "code",
      "metadata": {
        "colab": {
          "base_uri": "https://localhost:8080/",
          "height": 390
        },
        "id": "eof8vRnhY9WY",
        "outputId": "182ef3f0-2f4d-4b48-fefb-e06b7c4989c9"
      },
      "source": [
        "grouped_genre = data_lyrics.groupby('genre')['nb of words'].mean().round(0).reset_index()\n",
        "grouped_genre.sort_values('nb of words', ascending=False)"
      ],
      "execution_count": null,
      "outputs": [
        {
          "output_type": "execute_result",
          "data": {
            "text/html": [
              "<div>\n",
              "<style scoped>\n",
              "    .dataframe tbody tr th:only-of-type {\n",
              "        vertical-align: middle;\n",
              "    }\n",
              "\n",
              "    .dataframe tbody tr th {\n",
              "        vertical-align: top;\n",
              "    }\n",
              "\n",
              "    .dataframe thead th {\n",
              "        text-align: right;\n",
              "    }\n",
              "</style>\n",
              "<table border=\"1\" class=\"dataframe\">\n",
              "  <thead>\n",
              "    <tr style=\"text-align: right;\">\n",
              "      <th></th>\n",
              "      <th>genre</th>\n",
              "      <th>nb of words</th>\n",
              "    </tr>\n",
              "  </thead>\n",
              "  <tbody>\n",
              "    <tr>\n",
              "      <th>3</th>\n",
              "      <td>Hip-Hop</td>\n",
              "      <td>494.0</td>\n",
              "    </tr>\n",
              "    <tr>\n",
              "      <th>8</th>\n",
              "      <td>Pop</td>\n",
              "      <td>250.0</td>\n",
              "    </tr>\n",
              "    <tr>\n",
              "      <th>9</th>\n",
              "      <td>R&amp;B</td>\n",
              "      <td>226.0</td>\n",
              "    </tr>\n",
              "    <tr>\n",
              "      <th>7</th>\n",
              "      <td>Other</td>\n",
              "      <td>223.0</td>\n",
              "    </tr>\n",
              "    <tr>\n",
              "      <th>1</th>\n",
              "      <td>Electronic</td>\n",
              "      <td>205.0</td>\n",
              "    </tr>\n",
              "    <tr>\n",
              "      <th>2</th>\n",
              "      <td>Folk</td>\n",
              "      <td>201.0</td>\n",
              "    </tr>\n",
              "    <tr>\n",
              "      <th>4</th>\n",
              "      <td>Indie</td>\n",
              "      <td>199.0</td>\n",
              "    </tr>\n",
              "    <tr>\n",
              "      <th>10</th>\n",
              "      <td>Rock</td>\n",
              "      <td>196.0</td>\n",
              "    </tr>\n",
              "    <tr>\n",
              "      <th>0</th>\n",
              "      <td>Country</td>\n",
              "      <td>187.0</td>\n",
              "    </tr>\n",
              "    <tr>\n",
              "      <th>6</th>\n",
              "      <td>Metal</td>\n",
              "      <td>177.0</td>\n",
              "    </tr>\n",
              "    <tr>\n",
              "      <th>5</th>\n",
              "      <td>Jazz</td>\n",
              "      <td>175.0</td>\n",
              "    </tr>\n",
              "  </tbody>\n",
              "</table>\n",
              "</div>"
            ],
            "text/plain": [
              "         genre  nb of words\n",
              "3      Hip-Hop        494.0\n",
              "8          Pop        250.0\n",
              "9          R&B        226.0\n",
              "7        Other        223.0\n",
              "1   Electronic        205.0\n",
              "2         Folk        201.0\n",
              "4        Indie        199.0\n",
              "10        Rock        196.0\n",
              "0      Country        187.0\n",
              "6        Metal        177.0\n",
              "5         Jazz        175.0"
            ]
          },
          "metadata": {
            "tags": []
          },
          "execution_count": 21
        }
      ]
    },
    {
      "cell_type": "code",
      "metadata": {
        "colab": {
          "base_uri": "https://localhost:8080/",
          "height": 390
        },
        "id": "uuXvwY6yeTbM",
        "outputId": "827a5c2e-48e0-476b-df5c-177e583b8ac0"
      },
      "source": [
        "grouped_genre2 = data_lyrics.groupby('genre')['unique words'].mean().round(0).reset_index()\n",
        "grouped_genre2.sort_values('unique words', ascending=False)"
      ],
      "execution_count": null,
      "outputs": [
        {
          "output_type": "execute_result",
          "data": {
            "text/html": [
              "<div>\n",
              "<style scoped>\n",
              "    .dataframe tbody tr th:only-of-type {\n",
              "        vertical-align: middle;\n",
              "    }\n",
              "\n",
              "    .dataframe tbody tr th {\n",
              "        vertical-align: top;\n",
              "    }\n",
              "\n",
              "    .dataframe thead th {\n",
              "        text-align: right;\n",
              "    }\n",
              "</style>\n",
              "<table border=\"1\" class=\"dataframe\">\n",
              "  <thead>\n",
              "    <tr style=\"text-align: right;\">\n",
              "      <th></th>\n",
              "      <th>genre</th>\n",
              "      <th>unique words</th>\n",
              "    </tr>\n",
              "  </thead>\n",
              "  <tbody>\n",
              "    <tr>\n",
              "      <th>3</th>\n",
              "      <td>Hip-Hop</td>\n",
              "      <td>211.0</td>\n",
              "    </tr>\n",
              "    <tr>\n",
              "      <th>2</th>\n",
              "      <td>Folk</td>\n",
              "      <td>94.0</td>\n",
              "    </tr>\n",
              "    <tr>\n",
              "      <th>7</th>\n",
              "      <td>Other</td>\n",
              "      <td>93.0</td>\n",
              "    </tr>\n",
              "    <tr>\n",
              "      <th>8</th>\n",
              "      <td>Pop</td>\n",
              "      <td>92.0</td>\n",
              "    </tr>\n",
              "    <tr>\n",
              "      <th>6</th>\n",
              "      <td>Metal</td>\n",
              "      <td>91.0</td>\n",
              "    </tr>\n",
              "    <tr>\n",
              "      <th>9</th>\n",
              "      <td>R&amp;B</td>\n",
              "      <td>89.0</td>\n",
              "    </tr>\n",
              "    <tr>\n",
              "      <th>0</th>\n",
              "      <td>Country</td>\n",
              "      <td>88.0</td>\n",
              "    </tr>\n",
              "    <tr>\n",
              "      <th>4</th>\n",
              "      <td>Indie</td>\n",
              "      <td>87.0</td>\n",
              "    </tr>\n",
              "    <tr>\n",
              "      <th>10</th>\n",
              "      <td>Rock</td>\n",
              "      <td>86.0</td>\n",
              "    </tr>\n",
              "    <tr>\n",
              "      <th>1</th>\n",
              "      <td>Electronic</td>\n",
              "      <td>76.0</td>\n",
              "    </tr>\n",
              "    <tr>\n",
              "      <th>5</th>\n",
              "      <td>Jazz</td>\n",
              "      <td>76.0</td>\n",
              "    </tr>\n",
              "  </tbody>\n",
              "</table>\n",
              "</div>"
            ],
            "text/plain": [
              "         genre  unique words\n",
              "3      Hip-Hop         211.0\n",
              "2         Folk          94.0\n",
              "7        Other          93.0\n",
              "8          Pop          92.0\n",
              "6        Metal          91.0\n",
              "9          R&B          89.0\n",
              "0      Country          88.0\n",
              "4        Indie          87.0\n",
              "10        Rock          86.0\n",
              "1   Electronic          76.0\n",
              "5         Jazz          76.0"
            ]
          },
          "metadata": {
            "tags": []
          },
          "execution_count": 22
        }
      ]
    },
    {
      "cell_type": "code",
      "metadata": {
        "colab": {
          "base_uri": "https://localhost:8080/",
          "height": 335
        },
        "id": "3CW7MDiyaOim",
        "outputId": "5e99fa34-087d-4a1e-82a3-60ae72a119e1"
      },
      "source": [
        "grouped_genre.sort_values('genre', ascending=False).plot.bar(x='genre', y='nb of words', title='Number of Words for each genre');\n",
        "plt.show()"
      ],
      "execution_count": null,
      "outputs": [
        {
          "output_type": "display_data",
          "data": {
            "image/png": "[encoded data removed]",
            "text/plain": [
              "<Figure size 432x288 with 1 Axes>"
            ]
          },
          "metadata": {
            "tags": [],
            "needs_background": "light"
          }
        }
      ]
    },
    {
      "cell_type": "code",
      "metadata": {
        "colab": {
          "base_uri": "https://localhost:8080/",
          "height": 335
        },
        "id": "IgfGzBPseXmb",
        "outputId": "c7219783-400b-469e-dd6d-d3e0b23147d5"
      },
      "source": [
        "grouped_genre2.sort_values('genre', ascending=False).plot.bar(x='genre', y='unique words', title='Number of unique words for each genre');\n",
        "plt.show()"
      ],
      "execution_count": null,
      "outputs": [
        {
          "output_type": "display_data",
          "data": {
            "image/png": "[encoded data removed]",
            "text/plain": [
              "<Figure size 432x288 with 1 Axes>"
            ]
          },
          "metadata": {
            "tags": [],
            "needs_background": "light"
          }
        }
      ]
    },
    {
      "cell_type": "markdown",
      "metadata": {
        "id": "hEmp9DhwI53y"
      },
      "source": [
        "Interesting fact :\n",
        "Hip Hop is distinctive as twice as many words as all the other genres.\\\n",
        "As far as lexical richness is concerned, it is quite the same."
      ]
    },
    {
      "cell_type": "code",
      "metadata": {
        "id": "d7CBNNtoEqQ4"
      },
      "source": [
        "from wordcloud import WordCloud, STOPWORDS, ImageColorGenerator"
      ],
      "execution_count": null,
      "outputs": []
    },
    {
      "cell_type": "code",
      "metadata": {
        "id": "SUYy3xf6EqVg",
        "colab": {
          "base_uri": "https://localhost:8080/",
          "height": 198
        },
        "outputId": "9f10523d-e438-4b78-cfca-9b5a86eef68c"
      },
      "source": [
        "# Start with one song:\n",
        "text = data_lyrics['lyrics'][0]\n",
        "\n",
        "# Create and generate a word cloud image:\n",
        "wordcloud = WordCloud(max_font_size=50, max_words=50, background_color=\"white\").generate(text)\n",
        "\n",
        "# Display the generated image:\n",
        "plt.imshow(wordcloud, interpolation='bilinear')\n",
        "plt.axis(\"off\")\n",
        "plt.show()"
      ],
      "execution_count": null,
      "outputs": [
        {
          "output_type": "display_data",
          "data": {
            "image/png": "[encoded data removed]",
            "text/plain": [
              "<Figure size 432x288 with 1 Axes>"
            ]
          },
          "metadata": {
            "tags": [],
            "needs_background": "light"
          }
        }
      ]
    },
    {
      "cell_type": "code",
      "metadata": {
        "id": "MgjI4G6SidKP"
      },
      "source": [
        "lyrics_genre = data_lyrics.groupby('genre')['lyrics'].apply(''.join).reset_index()"
      ],
      "execution_count": null,
      "outputs": []
    },
    {
      "cell_type": "code",
      "metadata": {
        "colab": {
          "base_uri": "https://localhost:8080/",
          "height": 390
        },
        "id": "5jmLU69TjLBm",
        "outputId": "f2a22902-e16f-472e-f0d6-5a8f178ca334"
      },
      "source": [
        "pd.options.display.max_colwidth = 100\n",
        "#lyrics_genre.loc[lyrics_genre[\"genre\"] == 'Country']['lyrics']\n",
        "lyrics_genre"
      ],
      "execution_count": null,
      "outputs": [
        {
          "output_type": "execute_result",
          "data": {
            "text/html": [
              "<div>\n",
              "<style scoped>\n",
              "    .dataframe tbody tr th:only-of-type {\n",
              "        vertical-align: middle;\n",
              "    }\n",
              "\n",
              "    .dataframe tbody tr th {\n",
              "        vertical-align: top;\n",
              "    }\n",
              "\n",
              "    .dataframe thead th {\n",
              "        text-align: right;\n",
              "    }\n",
              "</style>\n",
              "<table border=\"1\" class=\"dataframe\">\n",
              "  <thead>\n",
              "    <tr style=\"text-align: right;\">\n",
              "      <th></th>\n",
              "      <th>genre</th>\n",
              "      <th>lyrics</th>\n",
              "    </tr>\n",
              "  </thead>\n",
              "  <tbody>\n",
              "    <tr>\n",
              "      <th>0</th>\n",
              "      <td>Country</td>\n",
              "      <td>verse 1 when the last breath of life is gone from my body and my lips are as cold as the sea whe...</td>\n",
              "    </tr>\n",
              "    <tr>\n",
              "      <th>1</th>\n",
              "      <td>Electronic</td>\n",
              "      <td>reverse behold the finite set of thirteen convex figures the irrational sine versus tangent 45 ...</td>\n",
              "    </tr>\n",
              "    <tr>\n",
              "      <th>2</th>\n",
              "      <td>Folk</td>\n",
              "      <td>rise and fall like the tide my hand goes with your chest steady now moon will pull a slow and ev...</td>\n",
              "    </tr>\n",
              "    <tr>\n",
              "      <th>3</th>\n",
              "      <td>Hip-Hop</td>\n",
              "      <td>horns chorus timbo when you hit me on my phone betta know what cha want when you call me you al...</td>\n",
              "    </tr>\n",
              "    <tr>\n",
              "      <th>4</th>\n",
              "      <td>Indie</td>\n",
              "      <td>don't feel so bad it's just the way the wheel turns stay in where it's quiet and where the sick ...</td>\n",
              "    </tr>\n",
              "    <tr>\n",
              "      <th>5</th>\n",
              "      <td>Jazz</td>\n",
              "      <td>if i've had my way i'd leave here today i'd leave in a hurry i'd find me a place where i could s...</td>\n",
              "    </tr>\n",
              "    <tr>\n",
              "      <th>6</th>\n",
              "      <td>Metal</td>\n",
              "      <td>gods of the mountains sky forest and seas lands of fire ice and the northern deeps cold as a sto...</td>\n",
              "    </tr>\n",
              "    <tr>\n",
              "      <th>7</th>\n",
              "      <td>Other</td>\n",
              "      <td>a little thin band her finger left hand she's wearing my ring though not made of gold it tells ...</td>\n",
              "    </tr>\n",
              "    <tr>\n",
              "      <th>8</th>\n",
              "      <td>Pop</td>\n",
              "      <td>oh baby how you doing you know i'm gonna cut right to the chase some women were made but me myse...</td>\n",
              "    </tr>\n",
              "    <tr>\n",
              "      <th>9</th>\n",
              "      <td>R&amp;B</td>\n",
              "      <td>little wallflower on the shelf standing by herself never had the nerve to take a chance so let ...</td>\n",
              "    </tr>\n",
              "    <tr>\n",
              "      <th>10</th>\n",
              "      <td>Rock</td>\n",
              "      <td>a lot of cats are hatin slandering makin bad statements mad cause they sit on their ass just sta...</td>\n",
              "    </tr>\n",
              "  </tbody>\n",
              "</table>\n",
              "</div>"
            ],
            "text/plain": [
              "         genre                                                                                               lyrics\n",
              "0      Country  verse 1 when the last breath of life is gone from my body and my lips are as cold as the sea whe...\n",
              "1   Electronic   reverse behold the finite set of thirteen convex figures the irrational sine versus tangent 45 ...\n",
              "2         Folk  rise and fall like the tide my hand goes with your chest steady now moon will pull a slow and ev...\n",
              "3      Hip-Hop   horns chorus timbo when you hit me on my phone betta know what cha want when you call me you al...\n",
              "4        Indie  don't feel so bad it's just the way the wheel turns stay in where it's quiet and where the sick ...\n",
              "5         Jazz  if i've had my way i'd leave here today i'd leave in a hurry i'd find me a place where i could s...\n",
              "6        Metal  gods of the mountains sky forest and seas lands of fire ice and the northern deeps cold as a sto...\n",
              "7        Other   a little thin band her finger left hand she's wearing my ring though not made of gold it tells ...\n",
              "8          Pop  oh baby how you doing you know i'm gonna cut right to the chase some women were made but me myse...\n",
              "9          R&B   little wallflower on the shelf standing by herself never had the nerve to take a chance so let ...\n",
              "10        Rock  a lot of cats are hatin slandering makin bad statements mad cause they sit on their ass just sta..."
            ]
          },
          "metadata": {
            "tags": []
          },
          "execution_count": 28
        }
      ]
    },
    {
      "cell_type": "code",
      "metadata": {
        "colab": {
          "base_uri": "https://localhost:8080/",
          "height": 198
        },
        "id": "mIiOcgSAhnWu",
        "outputId": "e455e776-d0ab-4aa1-d0f9-d983f3cf69f9"
      },
      "source": [
        "# Word cloud for each genre \n",
        "\n",
        "#hip hop\n",
        "lyrics_genre = data_lyrics.groupby('genre')['lyrics'].apply(','.join).reset_index()  \n",
        "text = lyrics_genre['lyrics'][3]\n",
        "wordcloud = WordCloud(max_font_size=50, max_words=50, background_color=\"white\").generate(text)\n",
        "\n",
        "plt.imshow(wordcloud, interpolation='bilinear')\n",
        "plt.axis(\"off\")\n",
        "plt.show()"
      ],
      "execution_count": null,
      "outputs": [
        {
          "output_type": "display_data",
          "data": {
            "image/png": "[encoded data removed]",
            "text/plain": [
              "<Figure size 432x288 with 1 Axes>"
            ]
          },
          "metadata": {
            "tags": [],
            "needs_background": "light"
          }
        }
      ]
    },
    {
      "cell_type": "code",
      "metadata": {
        "colab": {
          "base_uri": "https://localhost:8080/"
        },
        "id": "rYD_1NzFlwyu",
        "outputId": "add16c49-bfa0-43ea-9312-06f37e60009b"
      },
      "source": [
        "wordcloud.to_file(\"Hip-hop-cloud.png\")"
      ],
      "execution_count": null,
      "outputs": [
        {
          "output_type": "execute_result",
          "data": {
            "text/plain": [
              "<wordcloud.wordcloud.WordCloud at 0x7f58e5fbbb50>"
            ]
          },
          "metadata": {
            "tags": []
          },
          "execution_count": 30
        }
      ]
    },
    {
      "cell_type": "markdown",
      "metadata": {
        "id": "vyKhRwlrchnO"
      },
      "source": [
        "##**2. Genre prediction**"
      ]
    },
    {
      "cell_type": "markdown",
      "metadata": {
        "id": "66CtH_Q3Eq5G"
      },
      "source": [
        "We start by trying to predict the genre with data_genre.\n"
      ]
    },
    {
      "cell_type": "code",
      "metadata": {
        "id": "xInepkBUsI2f"
      },
      "source": [
        "data = data_genre"
      ],
      "execution_count": null,
      "outputs": []
    },
    {
      "cell_type": "markdown",
      "metadata": {
        "id": "LAurda_NcvvV"
      },
      "source": [
        "We start with the tokenization."
      ]
    },
    {
      "cell_type": "code",
      "metadata": {
        "colab": {
          "base_uri": "https://localhost:8080/"
        },
        "id": "SA01WMktSUx3",
        "outputId": "c92dd561-73bc-4d11-bb75-33440cdd280c"
      },
      "source": [
        "lyrics_data = data['lyrics'].values\n",
        "max_words = 1000\n",
        "\n",
        "# Create a new Tokenizer\n",
        "tokenizer = text.Tokenizer(num_words=max_words, oov_token='<UNK>')\n",
        "# Feed our song lyrics to the Tokenizer\n",
        "tokenizer.fit_on_texts(lyrics_data)\n",
        "\n",
        "# Tokenizers come with a convenient list of words and IDs\n",
        "dictionary = tokenizer.word_index\n",
        "\n",
        "with open('dictionary.json', 'w') as dictionary_file:\n",
        "    json.dump(dictionary, dictionary_file)\n",
        "    \n",
        "tokenizer.word_index = {e:i for e,i in tokenizer.word_index.items() if i <= max_words} # <= because tokenizer is 1 indexed\n",
        "tokenizer.word_index[tokenizer.oov_token] = max_words + 1\n",
        "indexed_data = tokenizer.texts_to_sequences(lyrics_data)\n",
        "indexed_data = np.array(indexed_data)\n",
        "\n",
        "label_encoder = skpp.LabelEncoder()\n",
        "indexed_labels = np.array(label_encoder.fit_transform(data['genre'].values))\n",
        "\n",
        "\n",
        "num_test = 30000\n",
        "\n",
        "# Shuffle data before splitting off test set\n",
        "random_indexes = np.random.permutation(len(indexed_labels))\n",
        "indexed_data = indexed_data[random_indexes]\n",
        "indexed_labels = indexed_labels[random_indexes]\n",
        "\n",
        "X_train = indexed_data[:-num_test]\n",
        "y_train = indexed_labels[:-num_test]\n",
        "X_test  = indexed_data[-num_test:]\n",
        "y_test  = indexed_labels[-num_test:]\n",
        "\n",
        "y_train = keras.utils.to_categorical(y_train)\n",
        "y_test = keras.utils.to_categorical(y_test)\n",
        "\n",
        "num_words = max_words + 2\n",
        "# Truncate and pad input sequences\n",
        "max_review_length = 500\n",
        "\n",
        "X_train_padded = sequence.pad_sequences(X_train, maxlen=max_review_length)\n",
        "X_test_padded = sequence.pad_sequences(X_test, maxlen=max_review_length)"
      ],
      "execution_count": null,
      "outputs": [
        {
          "output_type": "stream",
          "text": [
            "/usr/local/lib/python3.7/dist-packages/ipykernel_launcher.py:18: VisibleDeprecationWarning: Creating an ndarray from ragged nested sequences (which is a list-or-tuple of lists-or-tuples-or ndarrays with different lengths or shapes) is deprecated. If you meant to do this, you must specify 'dtype=object' when creating the ndarray\n"
          ],
          "name": "stderr"
        }
      ]
    },
    {
      "cell_type": "markdown",
      "metadata": {
        "id": "OxG5rwkBtA7-"
      },
      "source": [
        "Here is the correspondance of the labels and the genres."
      ]
    },
    {
      "cell_type": "code",
      "metadata": {
        "colab": {
          "base_uri": "https://localhost:8080/"
        },
        "id": "sAWroalIsX66",
        "outputId": "cae64a7c-64cb-48f3-cd4a-eca3059d0675"
      },
      "source": [
        "genre_str = label_encoder.inverse_transform(np.array([0,1,2,3,4,5,6,7,8,9,10]))\n",
        "label_encoder.inverse_transform(np.array([0,1,2,3,4,5,6,7,8,9,10]))"
      ],
      "execution_count": null,
      "outputs": [
        {
          "output_type": "execute_result",
          "data": {
            "text/plain": [
              "array(['Country', 'Electronic', 'Folk', 'Hip-Hop', 'Indie', 'Jazz',\n",
              "       'Metal', 'Other', 'Pop', 'R&B', 'Rock'], dtype=object)"
            ]
          },
          "metadata": {
            "tags": []
          },
          "execution_count": 8
        }
      ]
    },
    {
      "cell_type": "markdown",
      "metadata": {
        "id": "GJYMMQGWfeGD"
      },
      "source": [
        "After some test with our training dataset, we faced too large computation time.\\\n",
        "That is why we decided to work with less data in order to be able to train more models."
      ]
    },
    {
      "cell_type": "code",
      "metadata": {
        "id": "Yoz_77BgGxYH"
      },
      "source": [
        "X_train_padded_small = X_train_padded[:-150000]\n",
        "y_train_small = y_train[:-150000]"
      ],
      "execution_count": null,
      "outputs": []
    },
    {
      "cell_type": "code",
      "metadata": {
        "id": "TYppXhknHy97"
      },
      "source": [
        "X_test_padded_small = X_test_padded[:-25000]\n",
        "y_test_small = y_test[:-25000]"
      ],
      "execution_count": null,
      "outputs": []
    },
    {
      "cell_type": "markdown",
      "metadata": {
        "id": "dU7xYpUSfISr"
      },
      "source": [
        "After the tokenization, we will test two embedding techniques, FastText and GloVe.\\\n",
        "We then start by loading pre-trained models on common crawl."
      ]
    },
    {
      "cell_type": "code",
      "metadata": {
        "id": "8U9DCR03kGh9"
      },
      "source": [
        "import requests, zipfile, io\n",
        "zip_file_url = 'https://dl.fbaipublicfiles.com/fasttext/vectors-english/wiki-news-300d-1M.vec.zip'\n",
        "r = requests.get(zip_file_url)\n",
        "z = zipfile.ZipFile(io.BytesIO(r.content))\n",
        "z.extractall()"
      ],
      "execution_count": null,
      "outputs": []
    },
    {
      "cell_type": "code",
      "metadata": {
        "id": "zX1DRto1nsl3"
      },
      "source": [
        "import requests, zipfile, io\n",
        "zip_file_url = 'https://dl.fbaipublicfiles.com/fasttext/vectors-english/crawl-300d-2M.vec.zip'\n",
        "r = requests.get(zip_file_url)\n",
        "z = zipfile.ZipFile(io.BytesIO(r.content))\n",
        "z.extractall()"
      ],
      "execution_count": null,
      "outputs": []
    },
    {
      "cell_type": "code",
      "metadata": {
        "id": "rF8xKRcxkepC"
      },
      "source": [
        "import requests, zipfile, io\n",
        "zip_file_url = 'http://nlp.stanford.edu/data/glove.840B.300d.zip'\n",
        "r = requests.get(zip_file_url)\n",
        "z = zipfile.ZipFile(io.BytesIO(r.content))\n",
        "z.extractall()"
      ],
      "execution_count": null,
      "outputs": []
    },
    {
      "cell_type": "markdown",
      "metadata": {
        "id": "feC6rrE1fgpI"
      },
      "source": [
        "###**2.1. FastText Embedding**"
      ]
    },
    {
      "cell_type": "markdown",
      "metadata": {
        "id": "FSso3vKDoM-x"
      },
      "source": [
        "We start with FastText Embedding :\n",
        "We load the already trained model in order to create the Enbedding Matrix that will help us create our Embedding Layer when building the Bidirectional LSTM model."
      ]
    },
    {
      "cell_type": "code",
      "metadata": {
        "colab": {
          "base_uri": "https://localhost:8080/"
        },
        "id": "b_aGjdq8lABf",
        "outputId": "5017974f-cb55-4cd6-c063-2257e1877122"
      },
      "source": [
        "import codecs\n",
        "from tqdm import tqdm\n",
        "embeddings_index = {}\n",
        "#f = codecs.open('wiki-news-300d-1M.vec', encoding='utf-8') #FastText trained on wikipedia 2017\n",
        "f = codecs.open('crawl-300d-2M.vec', encoding='utf-8') #FastText trained on common crawl\n",
        "for line in tqdm(f):\n",
        "  values = line.rstrip().rsplit(' ')\n",
        "  word = values[0]\n",
        "  coefs = np.asarray(values[1:], dtype='float32')\n",
        "  embeddings_index[word] = coefs\n",
        "f.close()"
      ],
      "execution_count": null,
      "outputs": [
        {
          "output_type": "stream",
          "text": [
            "1999996it [03:37, 9181.48it/s]\n"
          ],
          "name": "stderr"
        }
      ]
    },
    {
      "cell_type": "code",
      "metadata": {
        "colab": {
          "base_uri": "https://localhost:8080/"
        },
        "id": "l3yDRtyjkofm",
        "outputId": "d106c0cc-2ca4-4be1-c8d7-5bdc498c592a"
      },
      "source": [
        "word_index = tokenizer.word_index\n",
        "MAX_NB_WORDS = 1000\n",
        "embed_dim = 300\n",
        "\n",
        "words_not_found = []\n",
        "nb_words = min(MAX_NB_WORDS, len(word_index)+1)\n",
        "embedding_matrix = np.zeros((nb_words, embed_dim))\n",
        "for word, i in word_index.items():\n",
        "  if i >= nb_words:\n",
        "     continue\n",
        "  embedding_vector = embeddings_index.get(word)\n",
        "  \n",
        "  if (embedding_vector is not None) and len(embedding_vector) > 0:\n",
        "     embedding_matrix[i] = embedding_vector\n",
        "  else:\n",
        "     words_not_found.append(word)\n",
        "print('number of null word embeddings: %d' % np.sum(np.sum(embedding_matrix, axis=1) == 0))"
      ],
      "execution_count": null,
      "outputs": [
        {
          "output_type": "stream",
          "text": [
            "number of null word embeddings: 24\n"
          ],
          "name": "stdout"
        }
      ]
    },
    {
      "cell_type": "markdown",
      "metadata": {
        "id": "b8SOBBARp_WH"
      },
      "source": [
        "Now that the Embedding Matrix is created, we build the Bidirectional LSTM model."
      ]
    },
    {
      "cell_type": "code",
      "metadata": {
        "colab": {
          "base_uri": "https://localhost:8080/"
        },
        "id": "daXOkD3skpcb",
        "outputId": "ecd423f5-b1d6-4236-c722-3df39256cebf"
      },
      "source": [
        "from keras.layers import BatchNormalization\n",
        "import tensorflow as tf\n",
        "from keras.layers import Dropout\n",
        "\n",
        "\n",
        "# Hyperparameters\n",
        "embedding_vector_length = 50\n",
        "\n",
        "# Create the Bidirectional LSTM model with Keras\n",
        "model = Sequential()\n",
        "model.add(Embedding(num_words, embedding_vector_length, input_length=max_review_length))\n",
        "model.add(Bidirectional(LSTM(60, return_sequences=True)))\n",
        "model.add(GlobalMaxPooling1D())\n",
        "model.add(Dense(11, activation='softmax'))\n",
        "model.compile(loss='categorical_crossentropy', optimizer='adam', metrics=[\n",
        "    'accuracy',\n",
        "    Recall(class_id=0, name='recall_Country_0'),\n",
        "    Recall(class_id=1, name='recall_Electronic_1'),\n",
        "    Recall(class_id=2, name='recall_Folk_2'),\n",
        "    Recall(class_id=3, name='recall_Hip_Hop_3'),\n",
        "    Recall(class_id=4, name='recall_Indie_4'),\n",
        "    Recall(class_id=5, name='recall_Jazz_5'),\n",
        "    Recall(class_id=6, name='recall_Metal_6'),\n",
        "    Recall(class_id=7, name='recall_Other_7'),\n",
        "    Recall(class_id=8, name='recall_Pop_8'),\n",
        "    Recall(class_id=9, name='recall_RB_9'),\n",
        "    Recall(class_id=10, name='recall_Rock_10')\n",
        "])\n",
        "\n",
        "print(model.summary())"
      ],
      "execution_count": null,
      "outputs": [
        {
          "output_type": "stream",
          "text": [
            "Model: \"sequential\"\n",
            "_________________________________________________________________\n",
            "Layer (type)                 Output Shape              Param #   \n",
            "=================================================================\n",
            "embedding (Embedding)        (None, 500, 50)           50100     \n",
            "_________________________________________________________________\n",
            "bidirectional (Bidirectional (None, 500, 120)          53280     \n",
            "_________________________________________________________________\n",
            "global_max_pooling1d (Global (None, 120)               0         \n",
            "_________________________________________________________________\n",
            "dense (Dense)                (None, 11)                1331      \n",
            "=================================================================\n",
            "Total params: 104,711\n",
            "Trainable params: 104,711\n",
            "Non-trainable params: 0\n",
            "_________________________________________________________________\n",
            "None\n"
          ],
          "name": "stdout"
        }
      ]
    },
    {
      "cell_type": "markdown",
      "metadata": {
        "id": "wPz-1KlKqgBa"
      },
      "source": [
        "We then fit the model on the Train dataset."
      ]
    },
    {
      "cell_type": "code",
      "metadata": {
        "colab": {
          "base_uri": "https://localhost:8080/"
        },
        "id": "h-ObydzkqHQY",
        "outputId": "0ea21e32-6316-4fa7-e87f-318dc6cf8990"
      },
      "source": [
        "mod_metrics = model.fit(X_train_padded_small, y_train_small, batch_size=64, epochs=3)"
      ],
      "execution_count": null,
      "outputs": [
        {
          "output_type": "stream",
          "text": [
            "Epoch 1/3\n",
            "626/626 [==============================] - 392s 618ms/step - loss: 1.6868 - accuracy: 0.4972 - recall_Country_0: 0.0000e+00 - recall_Electronic_1: 0.0000e+00 - recall_Folk_2: 0.0000e+00 - recall_Hip_Hop_3: 0.2741 - recall_Indie_4: 0.0000e+00 - recall_Jazz_5: 0.0000e+00 - recall_Metal_6: 0.0388 - recall_Other_7: 0.0000e+00 - recall_Pop_8: 0.0000e+00 - recall_RB_9: 0.0000e+00 - recall_Rock_10: 0.4023\n",
            "Epoch 2/3\n",
            "626/626 [==============================] - 393s 628ms/step - loss: 1.3990 - accuracy: 0.5601 - recall_Country_0: 0.0000e+00 - recall_Electronic_1: 0.0000e+00 - recall_Folk_2: 0.0000e+00 - recall_Hip_Hop_3: 0.6674 - recall_Indie_4: 0.0000e+00 - recall_Jazz_5: 0.0000e+00 - recall_Metal_6: 0.3854 - recall_Other_7: 0.0000e+00 - recall_Pop_8: 4.4458e-04 - recall_RB_9: 0.0000e+00 - recall_Rock_10: 0.6674\n",
            "Epoch 3/3\n",
            "626/626 [==============================] - 392s 627ms/step - loss: 1.3521 - accuracy: 0.5715 - recall_Country_0: 0.0000e+00 - recall_Electronic_1: 0.0000e+00 - recall_Folk_2: 0.0000e+00 - recall_Hip_Hop_3: 0.6859 - recall_Indie_4: 0.0000e+00 - recall_Jazz_5: 0.0000e+00 - recall_Metal_6: 0.4504 - recall_Other_7: 0.0000e+00 - recall_Pop_8: 0.0044 - recall_RB_9: 0.0000e+00 - recall_Rock_10: 0.6512\n"
          ],
          "name": "stdout"
        }
      ]
    },
    {
      "cell_type": "markdown",
      "metadata": {
        "id": "-s29xNTVqjxN"
      },
      "source": [
        "After that, we predict the genres"
      ]
    },
    {
      "cell_type": "code",
      "metadata": {
        "id": "E9WbHbubNzKF"
      },
      "source": [
        "preds = model.predict(X_test_padded_small, batch_size=64)"
      ],
      "execution_count": null,
      "outputs": []
    },
    {
      "cell_type": "code",
      "metadata": {
        "colab": {
          "base_uri": "https://localhost:8080/",
          "height": 265
        },
        "id": "RRe1RgK66S-2",
        "outputId": "1405725c-13ac-4439-f8d8-463841c682a3"
      },
      "source": [
        "plt.plot(mod_metrics.history['recall_Country_0'])\n",
        "plt.show()"
      ],
      "execution_count": null,
      "outputs": [
        {
          "output_type": "display_data",
          "data": {
            "image/png": "[encoded data removed]",
            "text/plain": [
              "<Figure size 432x288 with 1 Axes>"
            ]
          },
          "metadata": {
            "tags": [],
            "needs_background": "light"
          }
        }
      ]
    },
    {
      "cell_type": "code",
      "metadata": {
        "colab": {
          "base_uri": "https://localhost:8080/",
          "height": 265
        },
        "id": "TB-FXk-pBbxE",
        "outputId": "ca28d276-78e6-4a3c-ae8e-6119a700cc91"
      },
      "source": [
        "plt.plot(mod_metrics.history['recall_Electronic_1'])\n",
        "plt.show()"
      ],
      "execution_count": null,
      "outputs": [
        {
          "output_type": "display_data",
          "data": {
            "image/png": "[encoded data removed]",
            "text/plain": [
              "<Figure size 432x288 with 1 Axes>"
            ]
          },
          "metadata": {
            "tags": [],
            "needs_background": "light"
          }
        }
      ]
    },
    {
      "cell_type": "code",
      "metadata": {
        "colab": {
          "base_uri": "https://localhost:8080/",
          "height": 265
        },
        "id": "X8AktAuNBcKL",
        "outputId": "c1836d13-8b44-4542-d1e6-3db27e0cd8ec"
      },
      "source": [
        "plt.plot(mod_metrics.history['recall_Folk_2'])\n",
        "plt.show()"
      ],
      "execution_count": null,
      "outputs": [
        {
          "output_type": "display_data",
          "data": {
            "image/png": "[encoded data removed]",
            "text/plain": [
              "<Figure size 432x288 with 1 Axes>"
            ]
          },
          "metadata": {
            "tags": [],
            "needs_background": "light"
          }
        }
      ]
    },
    {
      "cell_type": "code",
      "metadata": {
        "colab": {
          "base_uri": "https://localhost:8080/",
          "height": 269
        },
        "id": "0XgbYKrFBc8x",
        "outputId": "6bfd79f8-f8ab-4909-9f61-67b06600604d"
      },
      "source": [
        "plt.plot(mod_metrics.history['recall_Hip_Hop_3'])\n",
        "plt.show()"
      ],
      "execution_count": null,
      "outputs": [
        {
          "output_type": "display_data",
          "data": {
            "image/png": "[encoded data removed]",
            "text/plain": [
              "<Figure size 432x288 with 1 Axes>"
            ]
          },
          "metadata": {
            "tags": [],
            "needs_background": "light"
          }
        }
      ]
    },
    {
      "cell_type": "code",
      "metadata": {
        "colab": {
          "base_uri": "https://localhost:8080/",
          "height": 265
        },
        "id": "PxM7PluXBdDt",
        "outputId": "59d1d185-ed32-47d7-b1dd-a7dd4cc5f168"
      },
      "source": [
        "plt.plot(mod_metrics.history['recall_Indie_4'])\n",
        "plt.show()"
      ],
      "execution_count": null,
      "outputs": [
        {
          "output_type": "display_data",
          "data": {
            "image/png": "[encoded data removed]",
            "text/plain": [
              "<Figure size 432x288 with 1 Axes>"
            ]
          },
          "metadata": {
            "tags": [],
            "needs_background": "light"
          }
        }
      ]
    },
    {
      "cell_type": "code",
      "metadata": {
        "colab": {
          "base_uri": "https://localhost:8080/",
          "height": 265
        },
        "id": "85364HhQBdKG",
        "outputId": "8cc7fe13-2daf-4738-c025-873141c26718"
      },
      "source": [
        "plt.plot(mod_metrics.history['recall_Jazz_5'])\n",
        "plt.show()"
      ],
      "execution_count": null,
      "outputs": [
        {
          "output_type": "display_data",
          "data": {
            "image/png": "[encoded data removed]",
            "text/plain": [
              "<Figure size 432x288 with 1 Axes>"
            ]
          },
          "metadata": {
            "tags": [],
            "needs_background": "light"
          }
        }
      ]
    },
    {
      "cell_type": "code",
      "metadata": {
        "colab": {
          "base_uri": "https://localhost:8080/",
          "height": 265
        },
        "id": "oA3dJbR1BdQz",
        "outputId": "c30ff04b-0809-4eeb-b8a0-6ecf6d2d33f7"
      },
      "source": [
        "plt.plot(mod_metrics.history['recall_Metal_6'])\n",
        "plt.show()"
      ],
      "execution_count": null,
      "outputs": [
        {
          "output_type": "display_data",
          "data": {
            "image/png": "[encoded data removed]",
            "text/plain": [
              "<Figure size 432x288 with 1 Axes>"
            ]
          },
          "metadata": {
            "tags": [],
            "needs_background": "light"
          }
        }
      ]
    },
    {
      "cell_type": "code",
      "metadata": {
        "colab": {
          "base_uri": "https://localhost:8080/",
          "height": 265
        },
        "id": "Tyh276f6BdWo",
        "outputId": "b4699383-fcf9-42ac-f78a-bd0f10d5841a"
      },
      "source": [
        "plt.plot(mod_metrics.history['recall_Other_7'])\n",
        "plt.show()"
      ],
      "execution_count": null,
      "outputs": [
        {
          "output_type": "display_data",
          "data": {
            "image/png": "[encoded data removed]",
            "text/plain": [
              "<Figure size 432x288 with 1 Axes>"
            ]
          },
          "metadata": {
            "tags": [],
            "needs_background": "light"
          }
        }
      ]
    },
    {
      "cell_type": "code",
      "metadata": {
        "colab": {
          "base_uri": "https://localhost:8080/",
          "height": 266
        },
        "id": "IImfNweUBddJ",
        "outputId": "2203b27c-b92d-43ec-c350-9a98ac56b2fa"
      },
      "source": [
        "plt.plot(mod_metrics.history['recall_Pop_8'])\n",
        "plt.show()"
      ],
      "execution_count": null,
      "outputs": [
        {
          "output_type": "display_data",
          "data": {
            "image/png": "[encoded data removed]",
            "text/plain": [
              "<Figure size 432x288 with 1 Axes>"
            ]
          },
          "metadata": {
            "tags": [],
            "needs_background": "light"
          }
        }
      ]
    },
    {
      "cell_type": "code",
      "metadata": {
        "colab": {
          "base_uri": "https://localhost:8080/",
          "height": 265
        },
        "id": "iSeX7b0NBdjX",
        "outputId": "93a8cf2c-6b7c-43ee-fb11-23b6e47344d3"
      },
      "source": [
        "plt.plot(mod_metrics.history['recall_RB_9'])\n",
        "plt.show()"
      ],
      "execution_count": null,
      "outputs": [
        {
          "output_type": "display_data",
          "data": {
            "image/png": "[encoded data removed]",
            "text/plain": [
              "<Figure size 432x288 with 1 Axes>"
            ]
          },
          "metadata": {
            "tags": [],
            "needs_background": "light"
          }
        }
      ]
    },
    {
      "cell_type": "code",
      "metadata": {
        "colab": {
          "base_uri": "https://localhost:8080/",
          "height": 265
        },
        "id": "rqjfYTrDBdpe",
        "outputId": "b12adfb1-fd80-4771-d41f-80298f767a81"
      },
      "source": [
        "plt.plot(mod_metrics.history['recall_Rock_10'])\n",
        "plt.show()"
      ],
      "execution_count": null,
      "outputs": [
        {
          "output_type": "display_data",
          "data": {
            "image/png": "[encoded data removed]",
            "text/plain": [
              "<Figure size 432x288 with 1 Axes>"
            ]
          },
          "metadata": {
            "tags": [],
            "needs_background": "light"
          }
        }
      ]
    },
    {
      "cell_type": "markdown",
      "metadata": {
        "id": "xo_kPmaAqp4q"
      },
      "source": [
        "and evaluate our error rate."
      ]
    },
    {
      "cell_type": "code",
      "metadata": {
        "id": "cq6YpCTROwvu"
      },
      "source": [
        "preds_app = preds"
      ],
      "execution_count": null,
      "outputs": []
    },
    {
      "cell_type": "code",
      "metadata": {
        "id": "YkPelGEMOcNk"
      },
      "source": [
        "for i in range(preds_app.shape[0]):\n",
        "  for j in range(preds_app.shape[1]):\n",
        "    if max(preds_app[i,]) == preds_app[i,j]:\n",
        "      preds_app[i,j] = 1\n",
        "    else:\n",
        "      preds_app[i,j] = 0"
      ],
      "execution_count": null,
      "outputs": []
    },
    {
      "cell_type": "code",
      "metadata": {
        "id": "zAOssjcH1jyf"
      },
      "source": [
        "preds_str = np.zeros((3, preds_app.shape[0]))\n",
        "\n",
        "for i in range(preds_app.shape[0]):\n",
        "  for j in range(preds_app.shape[1]):\n",
        "    if (y_test_small[i,j] == 1) & (preds_app[i,j] == 1):\n",
        "      preds_str[0,i] = j\n",
        "      preds_str[1,i] = j\n",
        "      preds_str[2,i] = 1\n",
        "    elif (y_test_small[i,j] == 0) & (preds_app[i,j] == 1):\n",
        "      preds_str[1,i] = j\n",
        "    elif (y_test_small[i,j] == 1) & (preds_app[i,j] == 0):\n",
        "      preds_str[0,i] = j\n",
        "    else :\n",
        "      True"
      ],
      "execution_count": null,
      "outputs": []
    },
    {
      "cell_type": "code",
      "metadata": {
        "colab": {
          "base_uri": "https://localhost:8080/"
        },
        "id": "0V2Z-Ow39xXN",
        "outputId": "74ad7f4d-c087-476c-e49d-a236d5ae9fc3"
      },
      "source": [
        "preds_str"
      ],
      "execution_count": null,
      "outputs": [
        {
          "output_type": "execute_result",
          "data": {
            "text/plain": [
              "array([[10., 10., 10., ..., 10.,  3., 10.],\n",
              "       [10., 10., 10., ..., 10.,  3., 10.],\n",
              "       [ 1.,  1.,  1., ...,  1.,  1.,  1.]])"
            ]
          },
          "metadata": {
            "tags": []
          },
          "execution_count": 38
        }
      ]
    },
    {
      "cell_type": "code",
      "metadata": {
        "colab": {
          "base_uri": "https://localhost:8080/"
        },
        "id": "nFspmqKl92ZF",
        "outputId": "f7b590a8-407a-4fe7-fdbd-eb067ee14542"
      },
      "source": [
        "genre_str"
      ],
      "execution_count": null,
      "outputs": [
        {
          "output_type": "execute_result",
          "data": {
            "text/plain": [
              "array(['Country', 'Electronic', 'Folk', 'Hip-Hop', 'Indie', 'Jazz',\n",
              "       'Metal', 'Other', 'Pop', 'R&B', 'Rock'], dtype=object)"
            ]
          },
          "metadata": {
            "tags": []
          },
          "execution_count": 39
        }
      ]
    },
    {
      "cell_type": "markdown",
      "metadata": {
        "id": "YgQ9lcJY7kt5"
      },
      "source": [
        "**Number of accurate predictions :**"
      ]
    },
    {
      "cell_type": "code",
      "metadata": {
        "colab": {
          "base_uri": "https://localhost:8080/"
        },
        "id": "saGW_mqD6rOy",
        "outputId": "68535ab5-40a8-4bb1-b5fd-3a38c9a20dc1"
      },
      "source": [
        "sum(sum(preds_str[[2]]))\n"
      ],
      "execution_count": null,
      "outputs": [
        {
          "output_type": "execute_result",
          "data": {
            "text/plain": [
              "2883.0"
            ]
          },
          "metadata": {
            "tags": []
          },
          "execution_count": 40
        }
      ]
    },
    {
      "cell_type": "markdown",
      "metadata": {
        "id": "VkAA2VIz7t1b"
      },
      "source": [
        "**Error Rate :**"
      ]
    },
    {
      "cell_type": "code",
      "metadata": {
        "colab": {
          "base_uri": "https://localhost:8080/"
        },
        "id": "_cB73Mbz4dh4",
        "outputId": "00df122b-731f-4a71-b127-97c47b423b4b"
      },
      "source": [
        "(preds_str.shape[1] - sum(sum(preds_str[[2]])))/preds_str.shape[1]\n"
      ],
      "execution_count": null,
      "outputs": [
        {
          "output_type": "execute_result",
          "data": {
            "text/plain": [
              "0.4234"
            ]
          },
          "metadata": {
            "tags": []
          },
          "execution_count": 41
        }
      ]
    },
    {
      "cell_type": "markdown",
      "metadata": {
        "id": "gVEAXXU-oTT0"
      },
      "source": [
        "The Bidirectionnal LSTM with FastText Embedding gives us an error of 42,3 %. Which means that 57,7% of the predictions are correct."
      ]
    },
    {
      "cell_type": "markdown",
      "metadata": {
        "id": "FBgo5V0Gf3hP"
      },
      "source": [
        "###**2.2. GloVe Embedding**"
      ]
    },
    {
      "cell_type": "markdown",
      "metadata": {
        "id": "tTFTd5AtuZt5"
      },
      "source": [
        "We now need to run the code for the GloVe embedding in order to compare."
      ]
    },
    {
      "cell_type": "code",
      "metadata": {
        "id": "AK5fCUquSV6b",
        "colab": {
          "base_uri": "https://localhost:8080/"
        },
        "outputId": "9dbe7501-f75c-496d-8ccf-74064a0e08a8"
      },
      "source": [
        "import codecs\n",
        "from tqdm import tqdm\n",
        "embeddings_index = {}\n",
        "f = codecs.open('glove.840B.300d.txt', encoding='utf-8') #GloVe trained on common crawl\n",
        "for line in tqdm(f):\n",
        "  values = line.rstrip().rsplit(' ')\n",
        "  word = values[0]\n",
        "  coefs = np.asarray(values[1:], dtype='float32')\n",
        "  embeddings_index[word] = coefs\n",
        "f.close()"
      ],
      "execution_count": null,
      "outputs": [
        {
          "output_type": "stream",
          "text": [
            "2196018it [04:33, 8022.18it/s]\n"
          ],
          "name": "stderr"
        }
      ]
    },
    {
      "cell_type": "code",
      "metadata": {
        "id": "_8y0P3R_SV8m",
        "colab": {
          "base_uri": "https://localhost:8080/"
        },
        "outputId": "c5e1c192-728d-49f2-b348-f9d5a5b6f355"
      },
      "source": [
        "word_index = tokenizer.word_index\n",
        "MAX_NB_WORDS = 1000\n",
        "embed_dim = 300\n",
        "\n",
        "words_not_found = []\n",
        "nb_words = min(MAX_NB_WORDS, len(word_index)+1)\n",
        "embedding_matrix = np.zeros((nb_words, embed_dim))\n",
        "for word, i in word_index.items():\n",
        "  if i >= nb_words:\n",
        "     continue\n",
        "  embedding_vector = embeddings_index.get(word)\n",
        "  \n",
        "  if (embedding_vector is not None) and len(embedding_vector) > 0:\n",
        "     embedding_matrix[i] = embedding_vector\n",
        "  else:\n",
        "     words_not_found.append(word)\n",
        "print('number of null word embeddings: %d' % np.sum(np.sum(embedding_matrix, axis=1) == 0))"
      ],
      "execution_count": null,
      "outputs": [
        {
          "output_type": "stream",
          "text": [
            "number of null word embeddings: 31\n"
          ],
          "name": "stdout"
        }
      ]
    },
    {
      "cell_type": "code",
      "metadata": {
        "id": "YsHdFLgoSV-z",
        "colab": {
          "base_uri": "https://localhost:8080/"
        },
        "outputId": "7b9babf5-67d9-4055-f17f-36afc1921065"
      },
      "source": [
        "from keras.layers import BatchNormalization\n",
        "import tensorflow as tf\n",
        "from keras.layers import Dropout\n",
        "\n",
        "\n",
        "# Hyperparameters\n",
        "embedding_vector_length = 50\n",
        "\n",
        "# Create the Bidirectional LSTM model with Keras\n",
        "model_1 = Sequential()\n",
        "model_1.add(Embedding(num_words, embedding_vector_length, input_length=max_review_length))\n",
        "model_1.add(Bidirectional(LSTM(60, return_sequences=True)))\n",
        "model_1.add(GlobalMaxPooling1D())\n",
        "model_1.add(Dense(11, activation='softmax'))\n",
        "model_1.compile(loss='categorical_crossentropy', optimizer='adam', metrics=[\n",
        "    'accuracy',\n",
        "    Recall(class_id=0, name='recall_Country_0'),\n",
        "    Recall(class_id=1, name='recall_Electronic_1'),\n",
        "    Recall(class_id=2, name='recall_Folk_2'),\n",
        "    Recall(class_id=3, name='recall_Hip_Hop_3'),\n",
        "    Recall(class_id=4, name='recall_Indie_4'),\n",
        "    Recall(class_id=5, name='recall_Jazz_5'),\n",
        "    Recall(class_id=6, name='recall_Metal_6'),\n",
        "    Recall(class_id=7, name='recall_Other_7'),\n",
        "    Recall(class_id=8, name='recall_Pop_8'),\n",
        "    Recall(class_id=9, name='recall_RB_9'),\n",
        "    Recall(class_id=10, name='recall_Rock_10')\n",
        "])\n",
        "\n",
        "print(model_1.summary())"
      ],
      "execution_count": null,
      "outputs": [
        {
          "output_type": "stream",
          "text": [
            "Model: \"sequential_1\"\n",
            "_________________________________________________________________\n",
            "Layer (type)                 Output Shape              Param #   \n",
            "=================================================================\n",
            "embedding_1 (Embedding)      (None, 500, 50)           50100     \n",
            "_________________________________________________________________\n",
            "bidirectional_1 (Bidirection (None, 500, 120)          53280     \n",
            "_________________________________________________________________\n",
            "global_max_pooling1d_1 (Glob (None, 120)               0         \n",
            "_________________________________________________________________\n",
            "dense_1 (Dense)              (None, 11)                1331      \n",
            "=================================================================\n",
            "Total params: 104,711\n",
            "Trainable params: 104,711\n",
            "Non-trainable params: 0\n",
            "_________________________________________________________________\n",
            "None\n"
          ],
          "name": "stdout"
        }
      ]
    },
    {
      "cell_type": "code",
      "metadata": {
        "id": "bpT24FePSWBR",
        "colab": {
          "base_uri": "https://localhost:8080/"
        },
        "outputId": "ccb3f30e-9b89-4144-b0b8-9c705c51a083"
      },
      "source": [
        "mod_metrics_1 = model_1.fit(X_train_padded_small, y_train_small, batch_size=64, epochs=3)"
      ],
      "execution_count": null,
      "outputs": [
        {
          "output_type": "stream",
          "text": [
            "Epoch 1/3\n",
            "626/626 [==============================] - 400s 630ms/step - loss: 1.7312 - accuracy: 0.4812 - recall_Country_0: 0.0000e+00 - recall_Electronic_1: 0.0000e+00 - recall_Folk_2: 0.0000e+00 - recall_Hip_Hop_3: 0.2655 - recall_Indie_4: 0.0000e+00 - recall_Jazz_5: 0.0000e+00 - recall_Metal_6: 0.0153 - recall_Other_7: 0.0000e+00 - recall_Pop_8: 1.7481e-05 - recall_RB_9: 0.0000e+00 - recall_Rock_10: 0.2791\n",
            "Epoch 2/3\n",
            "626/626 [==============================] - 399s 638ms/step - loss: 1.3972 - accuracy: 0.5561 - recall_Country_0: 0.0000e+00 - recall_Electronic_1: 0.0000e+00 - recall_Folk_2: 0.0000e+00 - recall_Hip_Hop_3: 0.6476 - recall_Indie_4: 0.0000e+00 - recall_Jazz_5: 0.0000e+00 - recall_Metal_6: 0.3746 - recall_Other_7: 0.0000e+00 - recall_Pop_8: 0.0032 - recall_RB_9: 0.0000e+00 - recall_Rock_10: 0.6485\n",
            "Epoch 3/3\n",
            "626/626 [==============================] - 398s 636ms/step - loss: 1.3274 - accuracy: 0.5724 - recall_Country_0: 0.0000e+00 - recall_Electronic_1: 0.0000e+00 - recall_Folk_2: 0.0000e+00 - recall_Hip_Hop_3: 0.6789 - recall_Indie_4: 0.0000e+00 - recall_Jazz_5: 0.0000e+00 - recall_Metal_6: 0.4533 - recall_Other_7: 0.0000e+00 - recall_Pop_8: 0.0235 - recall_RB_9: 0.0000e+00 - recall_Rock_10: 0.6573\n"
          ],
          "name": "stdout"
        }
      ]
    },
    {
      "cell_type": "code",
      "metadata": {
        "id": "y2YR-753_b9w"
      },
      "source": [
        "preds_1 = model_1.predict(X_test_padded_small, batch_size=64)"
      ],
      "execution_count": null,
      "outputs": []
    },
    {
      "cell_type": "code",
      "metadata": {
        "colab": {
          "base_uri": "https://localhost:8080/",
          "height": 265
        },
        "id": "mCh3HpPbJQxH",
        "outputId": "426c44c8-810e-4eea-a9af-72161483ea12"
      },
      "source": [
        "plt.plot(mod_metrics_1.history['recall_Country_0'])\n",
        "plt.show()"
      ],
      "execution_count": null,
      "outputs": [
        {
          "output_type": "display_data",
          "data": {
            "image/png": "[encoded data removed]",
            "text/plain": [
              "<Figure size 432x288 with 1 Axes>"
            ]
          },
          "metadata": {
            "tags": [],
            "needs_background": "light"
          }
        }
      ]
    },
    {
      "cell_type": "code",
      "metadata": {
        "colab": {
          "base_uri": "https://localhost:8080/",
          "height": 265
        },
        "id": "PSkmmfSMJQxN",
        "outputId": "c8cc7c79-48d5-4795-9149-9c9ccdd27e4f"
      },
      "source": [
        "plt.plot(mod_metrics_1.history['recall_Electronic_1'])\n",
        "plt.show()"
      ],
      "execution_count": null,
      "outputs": [
        {
          "output_type": "display_data",
          "data": {
            "image/png": "[encoded data removed]",
            "text/plain": [
              "<Figure size 432x288 with 1 Axes>"
            ]
          },
          "metadata": {
            "tags": [],
            "needs_background": "light"
          }
        }
      ]
    },
    {
      "cell_type": "code",
      "metadata": {
        "colab": {
          "base_uri": "https://localhost:8080/",
          "height": 265
        },
        "id": "oOz1bm1EJQxO",
        "outputId": "b72eb685-1b69-4839-ae64-3630d26a1b55"
      },
      "source": [
        "plt.plot(mod_metrics_1.history['recall_Folk_2'])\n",
        "plt.show()"
      ],
      "execution_count": null,
      "outputs": [
        {
          "output_type": "display_data",
          "data": {
            "image/png": "[encoded data removed]",
            "text/plain": [
              "<Figure size 432x288 with 1 Axes>"
            ]
          },
          "metadata": {
            "tags": [],
            "needs_background": "light"
          }
        }
      ]
    },
    {
      "cell_type": "code",
      "metadata": {
        "colab": {
          "base_uri": "https://localhost:8080/",
          "height": 269
        },
        "id": "vV44U_e0JQxO",
        "outputId": "48b902d5-d3f2-4ec9-9951-7bca1bb49773"
      },
      "source": [
        "plt.plot(mod_metrics_1.history['recall_Hip_Hop_3'])\n",
        "plt.show()"
      ],
      "execution_count": null,
      "outputs": [
        {
          "output_type": "display_data",
          "data": {
            "image/png": "[encoded data removed]",
            "text/plain": [
              "<Figure size 432x288 with 1 Axes>"
            ]
          },
          "metadata": {
            "tags": [],
            "needs_background": "light"
          }
        }
      ]
    },
    {
      "cell_type": "code",
      "metadata": {
        "colab": {
          "base_uri": "https://localhost:8080/",
          "height": 265
        },
        "id": "xbiLViX_JQxO",
        "outputId": "1b3ba231-013e-489c-e8e1-043e012c0d6c"
      },
      "source": [
        "plt.plot(mod_metrics_1.history['recall_Indie_4'])\n",
        "plt.show()"
      ],
      "execution_count": null,
      "outputs": [
        {
          "output_type": "display_data",
          "data": {
            "image/png": "[encoded data removed]",
            "text/plain": [
              "<Figure size 432x288 with 1 Axes>"
            ]
          },
          "metadata": {
            "tags": [],
            "needs_background": "light"
          }
        }
      ]
    },
    {
      "cell_type": "code",
      "metadata": {
        "colab": {
          "base_uri": "https://localhost:8080/",
          "height": 265
        },
        "id": "XVT9gbRnJQxO",
        "outputId": "00bd2c6d-f604-4a62-946f-1fedc305f3ce"
      },
      "source": [
        "plt.plot(mod_metrics_1.history['recall_Jazz_5'])\n",
        "plt.show()"
      ],
      "execution_count": null,
      "outputs": [
        {
          "output_type": "display_data",
          "data": {
            "image/png": "[encoded data removed]",
            "text/plain": [
              "<Figure size 432x288 with 1 Axes>"
            ]
          },
          "metadata": {
            "tags": [],
            "needs_background": "light"
          }
        }
      ]
    },
    {
      "cell_type": "code",
      "metadata": {
        "colab": {
          "base_uri": "https://localhost:8080/",
          "height": 265
        },
        "id": "nDO6iaH6JQxP",
        "outputId": "dc35896d-2f3b-4b98-dc97-4883ae610b8a"
      },
      "source": [
        "plt.plot(mod_metrics_1.history['recall_Metal_6'])\n",
        "plt.show()"
      ],
      "execution_count": null,
      "outputs": [
        {
          "output_type": "display_data",
          "data": {
            "image/png": "[encoded data removed]",
            "text/plain": [
              "<Figure size 432x288 with 1 Axes>"
            ]
          },
          "metadata": {
            "tags": [],
            "needs_background": "light"
          }
        }
      ]
    },
    {
      "cell_type": "code",
      "metadata": {
        "colab": {
          "base_uri": "https://localhost:8080/",
          "height": 265
        },
        "id": "W8wLeXUcJQxP",
        "outputId": "1888bd8b-ab08-4d8b-a2c0-8a7cea5865c8"
      },
      "source": [
        "plt.plot(mod_metrics_1.history['recall_Other_7'])\n",
        "plt.show()"
      ],
      "execution_count": null,
      "outputs": [
        {
          "output_type": "display_data",
          "data": {
            "image/png": "[encoded data removed]",
            "text/plain": [
              "<Figure size 432x288 with 1 Axes>"
            ]
          },
          "metadata": {
            "tags": [],
            "needs_background": "light"
          }
        }
      ]
    },
    {
      "cell_type": "code",
      "metadata": {
        "colab": {
          "base_uri": "https://localhost:8080/",
          "height": 265
        },
        "id": "nZTsJ6YzJQxP",
        "outputId": "fc13993b-f84a-45f2-e2a1-a0b4a88d717b"
      },
      "source": [
        "plt.plot(mod_metrics_1.history['recall_Pop_8'])\n",
        "plt.show()"
      ],
      "execution_count": null,
      "outputs": [
        {
          "output_type": "display_data",
          "data": {
            "image/png": "[encoded data removed]",
            "text/plain": [
              "<Figure size 432x288 with 1 Axes>"
            ]
          },
          "metadata": {
            "tags": [],
            "needs_background": "light"
          }
        }
      ]
    },
    {
      "cell_type": "code",
      "metadata": {
        "colab": {
          "base_uri": "https://localhost:8080/",
          "height": 265
        },
        "id": "fZE-ciQaJQxP",
        "outputId": "be75bf22-b9c5-4a77-d53e-e20116642e7b"
      },
      "source": [
        "plt.plot(mod_metrics_1.history['recall_RB_9'])\n",
        "plt.show()"
      ],
      "execution_count": null,
      "outputs": [
        {
          "output_type": "display_data",
          "data": {
            "image/png": "[encoded data removed]",
            "text/plain": [
              "<Figure size 432x288 with 1 Axes>"
            ]
          },
          "metadata": {
            "tags": [],
            "needs_background": "light"
          }
        }
      ]
    },
    {
      "cell_type": "code",
      "metadata": {
        "colab": {
          "base_uri": "https://localhost:8080/",
          "height": 265
        },
        "id": "Kkf4HKR3JQxR",
        "outputId": "1318d9bf-96f8-4c51-f025-16856b3eec48"
      },
      "source": [
        "plt.plot(mod_metrics_1.history['recall_Rock_10'])\n",
        "plt.show()"
      ],
      "execution_count": null,
      "outputs": [
        {
          "output_type": "display_data",
          "data": {
            "image/png": "[encoded data removed]",
            "text/plain": [
              "<Figure size 432x288 with 1 Axes>"
            ]
          },
          "metadata": {
            "tags": [],
            "needs_background": "light"
          }
        }
      ]
    },
    {
      "cell_type": "code",
      "metadata": {
        "id": "EQ6lmBVS__L3"
      },
      "source": [
        "preds_app_1 = preds_1"
      ],
      "execution_count": null,
      "outputs": []
    },
    {
      "cell_type": "code",
      "metadata": {
        "id": "Y2WeRXoK__L3"
      },
      "source": [
        "for i in range(preds_app_1.shape[0]):\n",
        "  for j in range(preds_app_1.shape[1]):\n",
        "    if max(preds_app_1[i,]) == preds_app_1[i,j]:\n",
        "      preds_app_1[i,j] = 1\n",
        "    else:\n",
        "      preds_app_1[i,j] = 0"
      ],
      "execution_count": null,
      "outputs": []
    },
    {
      "cell_type": "code",
      "metadata": {
        "id": "EMoiOrTx__L9"
      },
      "source": [
        "preds_str_1 = np.zeros((3, preds_app_1.shape[0]))\n",
        "\n",
        "for i in range(preds_app_1.shape[0]):\n",
        "  for j in range(preds_app_1.shape[1]):\n",
        "    if (y_test_small[i,j] == 1) & (preds_app_1[i,j] == 1):\n",
        "      preds_str_1[0,i] = j\n",
        "      preds_str_1[1,i] = j\n",
        "      preds_str_1[2,i] = 1\n",
        "    elif (y_test_small[i,j] == 0) & (preds_app_1[i,j] == 1):\n",
        "      preds_str_1[1,i] = j\n",
        "    elif (y_test_small[i,j] == 1) & (preds_app_1[i,j] == 0):\n",
        "      preds_str_1[0,i] = j\n",
        "    else :\n",
        "      True"
      ],
      "execution_count": null,
      "outputs": []
    },
    {
      "cell_type": "code",
      "metadata": {
        "colab": {
          "base_uri": "https://localhost:8080/"
        },
        "id": "iwtI5Q7u__L-",
        "outputId": "9f949178-ff03-4373-f638-e2cf8210a8c7"
      },
      "source": [
        "preds_str_1"
      ],
      "execution_count": null,
      "outputs": [
        {
          "output_type": "execute_result",
          "data": {
            "text/plain": [
              "array([[10., 10., 10., ..., 10.,  3., 10.],\n",
              "       [10., 10., 10., ..., 10.,  3., 10.],\n",
              "       [ 1.,  1.,  1., ...,  1.,  1.,  1.]])"
            ]
          },
          "metadata": {
            "tags": []
          },
          "execution_count": 61
        }
      ]
    },
    {
      "cell_type": "code",
      "metadata": {
        "colab": {
          "base_uri": "https://localhost:8080/"
        },
        "id": "NiR1-i0j__L-",
        "outputId": "084abb64-88eb-489d-80f8-21029f0c27c4"
      },
      "source": [
        "genre_str"
      ],
      "execution_count": null,
      "outputs": [
        {
          "output_type": "execute_result",
          "data": {
            "text/plain": [
              "array(['Country', 'Electronic', 'Folk', 'Hip-Hop', 'Indie', 'Jazz',\n",
              "       'Metal', 'Other', 'Pop', 'R&B', 'Rock'], dtype=object)"
            ]
          },
          "metadata": {
            "tags": []
          },
          "execution_count": 62
        }
      ]
    },
    {
      "cell_type": "markdown",
      "metadata": {
        "id": "KpDEToZR__L_"
      },
      "source": [
        "**Number of accurate predictions :**"
      ]
    },
    {
      "cell_type": "code",
      "metadata": {
        "colab": {
          "base_uri": "https://localhost:8080/"
        },
        "id": "K7nReQG5__L_",
        "outputId": "57e2b003-de75-4300-9a68-fea05083f620"
      },
      "source": [
        "sum(sum(preds_str_1[[2]]))\n"
      ],
      "execution_count": null,
      "outputs": [
        {
          "output_type": "execute_result",
          "data": {
            "text/plain": [
              "2819.0"
            ]
          },
          "metadata": {
            "tags": []
          },
          "execution_count": 63
        }
      ]
    },
    {
      "cell_type": "markdown",
      "metadata": {
        "id": "M81TkU8q__L_"
      },
      "source": [
        "**Error Rate :**"
      ]
    },
    {
      "cell_type": "code",
      "metadata": {
        "colab": {
          "base_uri": "https://localhost:8080/"
        },
        "id": "bBVeDSB5__L_",
        "outputId": "dbaf1a1e-f7a1-49d4-b3b4-2b01700f40cb"
      },
      "source": [
        "(preds_str_1.shape[1] - sum(sum(preds_str_1[[2]])))/preds_str_1.shape[1]\n"
      ],
      "execution_count": null,
      "outputs": [
        {
          "output_type": "execute_result",
          "data": {
            "text/plain": [
              "0.4362"
            ]
          },
          "metadata": {
            "tags": []
          },
          "execution_count": 64
        }
      ]
    },
    {
      "cell_type": "markdown",
      "metadata": {
        "id": "oO2WYncs__L_"
      },
      "source": [
        "The Bidirectionnal LSTM with GloVe Embedding gives us an error of 43,6 %. Which means that 52,4% of the predictions are correct."
      ]
    },
    {
      "cell_type": "markdown",
      "metadata": {
        "id": "mRFuX9xChnP7"
      },
      "source": [
        "##**3. Success prediction**"
      ]
    },
    {
      "cell_type": "markdown",
      "metadata": {
        "id": "cdrJm2D5v_Xu"
      },
      "source": [
        "After comparing FastText and GloVe in order to predict genre, we will try to do the same but for success prediction with data_success."
      ]
    },
    {
      "cell_type": "markdown",
      "metadata": {
        "id": "NbL31Q1PzFL3"
      },
      "source": [
        "We created 3 ways to measure the success of a record : its number of spotify streams, its deezer rate and its number of  youtube views.\\\n",
        "We will try tro predict each one of these indicators using FastText and GloVe."
      ]
    },
    {
      "cell_type": "markdown",
      "metadata": {
        "id": "hpSUScVomLfy"
      },
      "source": [
        "###**3.1. Number of Spotify streams**"
      ]
    },
    {
      "cell_type": "markdown",
      "metadata": {
        "id": "XqL0zhLzzf6l"
      },
      "source": [
        "We start with the spotify streams, first dropping NAs in order to have a clean dataset."
      ]
    },
    {
      "cell_type": "code",
      "metadata": {
        "id": "V4LuJOZxv_Kq",
        "colab": {
          "base_uri": "https://localhost:8080/",
          "height": 204
        },
        "outputId": "442db01e-cc1f-456d-c973-f96106831c11"
      },
      "source": [
        "data = data_success\n",
        "data.head()"
      ],
      "execution_count": null,
      "outputs": [
        {
          "output_type": "execute_result",
          "data": {
            "text/html": [
              "<div>\n",
              "<style scoped>\n",
              "    .dataframe tbody tr th:only-of-type {\n",
              "        vertical-align: middle;\n",
              "    }\n",
              "\n",
              "    .dataframe tbody tr th {\n",
              "        vertical-align: top;\n",
              "    }\n",
              "\n",
              "    .dataframe thead th {\n",
              "        text-align: right;\n",
              "    }\n",
              "</style>\n",
              "<table border=\"1\" class=\"dataframe\">\n",
              "  <thead>\n",
              "    <tr style=\"text-align: right;\">\n",
              "      <th></th>\n",
              "      <th>index</th>\n",
              "      <th>song</th>\n",
              "      <th>year</th>\n",
              "      <th>artist</th>\n",
              "      <th>genre</th>\n",
              "      <th>lyrics</th>\n",
              "      <th>spotify_streams</th>\n",
              "      <th>deezer_rate</th>\n",
              "      <th>youtube_views</th>\n",
              "    </tr>\n",
              "  </thead>\n",
              "  <tbody>\n",
              "    <tr>\n",
              "      <th>0</th>\n",
              "      <td>248635</td>\n",
              "      <td>live-for-the-one-you-love</td>\n",
              "      <td>2008</td>\n",
              "      <td>celine-dion</td>\n",
              "      <td>Pop</td>\n",
              "      <td>A million stars light This beautiful night Thi...</td>\n",
              "      <td>1724337.0</td>\n",
              "      <td>3,03</td>\n",
              "      <td>104000</td>\n",
              "    </tr>\n",
              "    <tr>\n",
              "      <th>1</th>\n",
              "      <td>117972</td>\n",
              "      <td>perfection</td>\n",
              "      <td>2006</td>\n",
              "      <td>bonnie-tyler</td>\n",
              "      <td>Pop</td>\n",
              "      <td>desmond child diane warren Producer for bonni...</td>\n",
              "      <td>NaN</td>\n",
              "      <td>NaN</td>\n",
              "      <td>18000</td>\n",
              "    </tr>\n",
              "    <tr>\n",
              "      <th>2</th>\n",
              "      <td>362048</td>\n",
              "      <td>watch-this</td>\n",
              "      <td>2006</td>\n",
              "      <td>clay-walker</td>\n",
              "      <td>Country</td>\n",
              "      <td>If you've never felt what happens When two hea...</td>\n",
              "      <td>751902.0</td>\n",
              "      <td>1,45</td>\n",
              "      <td>301000</td>\n",
              "    </tr>\n",
              "    <tr>\n",
              "      <th>3</th>\n",
              "      <td>316112</td>\n",
              "      <td>stormy-ballad-of-a-vampire</td>\n",
              "      <td>2008</td>\n",
              "      <td>blind-iris</td>\n",
              "      <td>Rock</td>\n",
              "      <td>Stormy says the sun is too bright She sleeps i...</td>\n",
              "      <td>1000.0</td>\n",
              "      <td>0,31</td>\n",
              "      <td>43</td>\n",
              "    </tr>\n",
              "    <tr>\n",
              "      <th>4</th>\n",
              "      <td>23395</td>\n",
              "      <td>the-revelation-embodied</td>\n",
              "      <td>2007</td>\n",
              "      <td>cult-of-luna</td>\n",
              "      <td>Rock</td>\n",
              "      <td>A time lost to the sick crowd of a new demonic...</td>\n",
              "      <td>117748.0</td>\n",
              "      <td>0,86</td>\n",
              "      <td>2300</td>\n",
              "    </tr>\n",
              "  </tbody>\n",
              "</table>\n",
              "</div>"
            ],
            "text/plain": [
              "    index                        song  ...  deezer_rate youtube_views\n",
              "0  248635   live-for-the-one-you-love  ...         3,03        104000\n",
              "1  117972                  perfection  ...          NaN         18000\n",
              "2  362048                  watch-this  ...         1,45        301000\n",
              "3  316112  stormy-ballad-of-a-vampire  ...         0,31            43\n",
              "4   23395     the-revelation-embodied  ...         0,86          2300\n",
              "\n",
              "[5 rows x 9 columns]"
            ]
          },
          "metadata": {
            "tags": []
          },
          "execution_count": 68
        }
      ]
    },
    {
      "cell_type": "code",
      "metadata": {
        "colab": {
          "base_uri": "https://localhost:8080/"
        },
        "id": "NkC49AVWy7Np",
        "outputId": "908398c5-c81f-4460-cfec-2a5294f32f9c"
      },
      "source": [
        "data.shape"
      ],
      "execution_count": null,
      "outputs": [
        {
          "output_type": "execute_result",
          "data": {
            "text/plain": [
              "(100, 9)"
            ]
          },
          "metadata": {
            "tags": []
          },
          "execution_count": 69
        }
      ]
    },
    {
      "cell_type": "code",
      "metadata": {
        "id": "ACEvsVyav_Gy",
        "colab": {
          "base_uri": "https://localhost:8080/"
        },
        "outputId": "1229e850-fbf3-4e5c-adb7-9588142021e2"
      },
      "source": [
        "data.dropna(subset=['spotify_streams'], inplace=True)\n",
        "data.shape"
      ],
      "execution_count": null,
      "outputs": [
        {
          "output_type": "execute_result",
          "data": {
            "text/plain": [
              "(80, 9)"
            ]
          },
          "metadata": {
            "tags": []
          },
          "execution_count": 70
        }
      ]
    },
    {
      "cell_type": "code",
      "metadata": {
        "colab": {
          "base_uri": "https://localhost:8080/",
          "height": 204
        },
        "id": "xGsQKy5C_qXJ",
        "outputId": "ae51d2ab-24e6-4b1c-d758-9da7915941b3"
      },
      "source": [
        "data = data.reset_index(drop=True)\n",
        "data.head()"
      ],
      "execution_count": null,
      "outputs": [
        {
          "output_type": "execute_result",
          "data": {
            "text/html": [
              "<div>\n",
              "<style scoped>\n",
              "    .dataframe tbody tr th:only-of-type {\n",
              "        vertical-align: middle;\n",
              "    }\n",
              "\n",
              "    .dataframe tbody tr th {\n",
              "        vertical-align: top;\n",
              "    }\n",
              "\n",
              "    .dataframe thead th {\n",
              "        text-align: right;\n",
              "    }\n",
              "</style>\n",
              "<table border=\"1\" class=\"dataframe\">\n",
              "  <thead>\n",
              "    <tr style=\"text-align: right;\">\n",
              "      <th></th>\n",
              "      <th>index</th>\n",
              "      <th>song</th>\n",
              "      <th>year</th>\n",
              "      <th>artist</th>\n",
              "      <th>genre</th>\n",
              "      <th>lyrics</th>\n",
              "      <th>spotify_streams</th>\n",
              "      <th>deezer_rate</th>\n",
              "      <th>youtube_views</th>\n",
              "    </tr>\n",
              "  </thead>\n",
              "  <tbody>\n",
              "    <tr>\n",
              "      <th>0</th>\n",
              "      <td>248635</td>\n",
              "      <td>live-for-the-one-you-love</td>\n",
              "      <td>2008</td>\n",
              "      <td>celine-dion</td>\n",
              "      <td>Pop</td>\n",
              "      <td>A million stars light This beautiful night Thi...</td>\n",
              "      <td>1724337.0</td>\n",
              "      <td>3,03</td>\n",
              "      <td>104000</td>\n",
              "    </tr>\n",
              "    <tr>\n",
              "      <th>1</th>\n",
              "      <td>362048</td>\n",
              "      <td>watch-this</td>\n",
              "      <td>2006</td>\n",
              "      <td>clay-walker</td>\n",
              "      <td>Country</td>\n",
              "      <td>If you've never felt what happens When two hea...</td>\n",
              "      <td>751902.0</td>\n",
              "      <td>1,45</td>\n",
              "      <td>301000</td>\n",
              "    </tr>\n",
              "    <tr>\n",
              "      <th>2</th>\n",
              "      <td>316112</td>\n",
              "      <td>stormy-ballad-of-a-vampire</td>\n",
              "      <td>2008</td>\n",
              "      <td>blind-iris</td>\n",
              "      <td>Rock</td>\n",
              "      <td>Stormy says the sun is too bright She sleeps i...</td>\n",
              "      <td>1000.0</td>\n",
              "      <td>0,31</td>\n",
              "      <td>43</td>\n",
              "    </tr>\n",
              "    <tr>\n",
              "      <th>3</th>\n",
              "      <td>23395</td>\n",
              "      <td>the-revelation-embodied</td>\n",
              "      <td>2007</td>\n",
              "      <td>cult-of-luna</td>\n",
              "      <td>Rock</td>\n",
              "      <td>A time lost to the sick crowd of a new demonic...</td>\n",
              "      <td>117748.0</td>\n",
              "      <td>0,86</td>\n",
              "      <td>2300</td>\n",
              "    </tr>\n",
              "    <tr>\n",
              "      <th>4</th>\n",
              "      <td>234977</td>\n",
              "      <td>orgasm-through-torture</td>\n",
              "      <td>2006</td>\n",
              "      <td>cannibal-corpse</td>\n",
              "      <td>Metal</td>\n",
              "      <td>Suffer to survive Instinct I despise Stalking ...</td>\n",
              "      <td>216642.0</td>\n",
              "      <td>1,45</td>\n",
              "      <td>40 000</td>\n",
              "    </tr>\n",
              "  </tbody>\n",
              "</table>\n",
              "</div>"
            ],
            "text/plain": [
              "    index                        song  ...  deezer_rate youtube_views\n",
              "0  248635   live-for-the-one-you-love  ...         3,03        104000\n",
              "1  362048                  watch-this  ...         1,45        301000\n",
              "2  316112  stormy-ballad-of-a-vampire  ...         0,31            43\n",
              "3   23395     the-revelation-embodied  ...         0,86          2300\n",
              "4  234977      orgasm-through-torture  ...         1,45        40 000\n",
              "\n",
              "[5 rows x 9 columns]"
            ]
          },
          "metadata": {
            "tags": []
          },
          "execution_count": 71
        }
      ]
    },
    {
      "cell_type": "code",
      "metadata": {
        "colab": {
          "base_uri": "https://localhost:8080/"
        },
        "id": "Hj51jCnj958P",
        "outputId": "9c9e7ca7-f015-4578-9488-2ae76e3033ea"
      },
      "source": [
        "data['spotify_streams']"
      ],
      "execution_count": null,
      "outputs": [
        {
          "output_type": "execute_result",
          "data": {
            "text/plain": [
              "0     1724337.0\n",
              "1      751902.0\n",
              "2        1000.0\n",
              "3      117748.0\n",
              "4      216642.0\n",
              "        ...    \n",
              "75     897058.0\n",
              "76    4763207.0\n",
              "77      39809.0\n",
              "78    1036908.0\n",
              "79     158508.0\n",
              "Name: spotify_streams, Length: 80, dtype: float64"
            ]
          },
          "metadata": {
            "tags": []
          },
          "execution_count": 72
        }
      ]
    },
    {
      "cell_type": "markdown",
      "metadata": {
        "id": "-6_brXPS8_lY"
      },
      "source": [
        "We create 6 classes for our variable spotify_streams :\n",
        "- $< 10k$ streams\n",
        "- $< 50k$ streams\n",
        "- $< 250k$ streams\n",
        "- $< 1000k$ streams\n",
        "- $< 5000k$ streams\n",
        "- $\\geq 5000k$ streams"
      ]
    },
    {
      "cell_type": "code",
      "metadata": {
        "colab": {
          "base_uri": "https://localhost:8080/"
        },
        "id": "orsrh-WN9qGT",
        "outputId": "1fb31c0b-732b-4fa8-ff88-b7f235131867"
      },
      "source": [
        "for i in range(data.shape[0]):\n",
        "  val = data['spotify_streams'][i]  \n",
        "  if (val <= 10000):\n",
        "    data['spotify_streams'][i] = '<10k'   \n",
        "  elif (val <= 50000) & (val > 10000):\n",
        "    data['spotify_streams'][i] = '<50k'    \n",
        "  elif (val <= 250000) & (val > 50000):\n",
        "    data['spotify_streams'][i] = '<250k'    \n",
        "  elif (val <= 1000000) & (val > 250000):\n",
        "    data['spotify_streams'][i] = '<1000k'    \n",
        "  elif (val <= 5000000) & (val > 1000000):\n",
        "    data['spotify_streams'][i] = '<5000k'    \n",
        "  else:\n",
        "    data['spotify_streams'][i] = '>5000k'"
      ],
      "execution_count": null,
      "outputs": [
        {
          "output_type": "stream",
          "text": [
            "/usr/local/lib/python3.7/dist-packages/ipykernel_launcher.py:12: SettingWithCopyWarning: \n",
            "A value is trying to be set on a copy of a slice from a DataFrame\n",
            "\n",
            "See the caveats in the documentation: https://pandas.pydata.org/pandas-docs/stable/user_guide/indexing.html#returning-a-view-versus-a-copy\n",
            "  if sys.path[0] == '':\n",
            "/usr/local/lib/python3.7/dist-packages/pandas/core/indexing.py:670: SettingWithCopyWarning: \n",
            "A value is trying to be set on a copy of a slice from a DataFrame\n",
            "\n",
            "See the caveats in the documentation: https://pandas.pydata.org/pandas-docs/stable/user_guide/indexing.html#returning-a-view-versus-a-copy\n",
            "  iloc._setitem_with_indexer(indexer, value)\n",
            "/usr/local/lib/python3.7/dist-packages/ipykernel_launcher.py:10: SettingWithCopyWarning: \n",
            "A value is trying to be set on a copy of a slice from a DataFrame\n",
            "\n",
            "See the caveats in the documentation: https://pandas.pydata.org/pandas-docs/stable/user_guide/indexing.html#returning-a-view-versus-a-copy\n",
            "  # Remove the CWD from sys.path while we load stuff.\n",
            "/usr/local/lib/python3.7/dist-packages/ipykernel_launcher.py:4: SettingWithCopyWarning: \n",
            "A value is trying to be set on a copy of a slice from a DataFrame\n",
            "\n",
            "See the caveats in the documentation: https://pandas.pydata.org/pandas-docs/stable/user_guide/indexing.html#returning-a-view-versus-a-copy\n",
            "  after removing the cwd from sys.path.\n",
            "/usr/local/lib/python3.7/dist-packages/ipykernel_launcher.py:8: SettingWithCopyWarning: \n",
            "A value is trying to be set on a copy of a slice from a DataFrame\n",
            "\n",
            "See the caveats in the documentation: https://pandas.pydata.org/pandas-docs/stable/user_guide/indexing.html#returning-a-view-versus-a-copy\n",
            "  \n",
            "/usr/local/lib/python3.7/dist-packages/ipykernel_launcher.py:6: SettingWithCopyWarning: \n",
            "A value is trying to be set on a copy of a slice from a DataFrame\n",
            "\n",
            "See the caveats in the documentation: https://pandas.pydata.org/pandas-docs/stable/user_guide/indexing.html#returning-a-view-versus-a-copy\n",
            "  \n",
            "/usr/local/lib/python3.7/dist-packages/ipykernel_launcher.py:14: SettingWithCopyWarning: \n",
            "A value is trying to be set on a copy of a slice from a DataFrame\n",
            "\n",
            "See the caveats in the documentation: https://pandas.pydata.org/pandas-docs/stable/user_guide/indexing.html#returning-a-view-versus-a-copy\n",
            "  \n"
          ],
          "name": "stderr"
        }
      ]
    },
    {
      "cell_type": "code",
      "metadata": {
        "colab": {
          "base_uri": "https://localhost:8080/",
          "height": 204
        },
        "id": "n2HEp7hSBNbX",
        "outputId": "20225c12-0148-4b1e-924e-3fcfb0c04b5b"
      },
      "source": [
        "data.head()"
      ],
      "execution_count": null,
      "outputs": [
        {
          "output_type": "execute_result",
          "data": {
            "text/html": [
              "<div>\n",
              "<style scoped>\n",
              "    .dataframe tbody tr th:only-of-type {\n",
              "        vertical-align: middle;\n",
              "    }\n",
              "\n",
              "    .dataframe tbody tr th {\n",
              "        vertical-align: top;\n",
              "    }\n",
              "\n",
              "    .dataframe thead th {\n",
              "        text-align: right;\n",
              "    }\n",
              "</style>\n",
              "<table border=\"1\" class=\"dataframe\">\n",
              "  <thead>\n",
              "    <tr style=\"text-align: right;\">\n",
              "      <th></th>\n",
              "      <th>index</th>\n",
              "      <th>song</th>\n",
              "      <th>year</th>\n",
              "      <th>artist</th>\n",
              "      <th>genre</th>\n",
              "      <th>lyrics</th>\n",
              "      <th>spotify_streams</th>\n",
              "      <th>deezer_rate</th>\n",
              "      <th>youtube_views</th>\n",
              "    </tr>\n",
              "  </thead>\n",
              "  <tbody>\n",
              "    <tr>\n",
              "      <th>0</th>\n",
              "      <td>248635</td>\n",
              "      <td>live-for-the-one-you-love</td>\n",
              "      <td>2008</td>\n",
              "      <td>celine-dion</td>\n",
              "      <td>Pop</td>\n",
              "      <td>A million stars light This beautiful night Thi...</td>\n",
              "      <td>&lt;5000k</td>\n",
              "      <td>3,03</td>\n",
              "      <td>104000</td>\n",
              "    </tr>\n",
              "    <tr>\n",
              "      <th>1</th>\n",
              "      <td>362048</td>\n",
              "      <td>watch-this</td>\n",
              "      <td>2006</td>\n",
              "      <td>clay-walker</td>\n",
              "      <td>Country</td>\n",
              "      <td>If you've never felt what happens When two hea...</td>\n",
              "      <td>&lt;1000k</td>\n",
              "      <td>1,45</td>\n",
              "      <td>301000</td>\n",
              "    </tr>\n",
              "    <tr>\n",
              "      <th>2</th>\n",
              "      <td>316112</td>\n",
              "      <td>stormy-ballad-of-a-vampire</td>\n",
              "      <td>2008</td>\n",
              "      <td>blind-iris</td>\n",
              "      <td>Rock</td>\n",
              "      <td>Stormy says the sun is too bright She sleeps i...</td>\n",
              "      <td>&lt;10k</td>\n",
              "      <td>0,31</td>\n",
              "      <td>43</td>\n",
              "    </tr>\n",
              "    <tr>\n",
              "      <th>3</th>\n",
              "      <td>23395</td>\n",
              "      <td>the-revelation-embodied</td>\n",
              "      <td>2007</td>\n",
              "      <td>cult-of-luna</td>\n",
              "      <td>Rock</td>\n",
              "      <td>A time lost to the sick crowd of a new demonic...</td>\n",
              "      <td>&lt;250k</td>\n",
              "      <td>0,86</td>\n",
              "      <td>2300</td>\n",
              "    </tr>\n",
              "    <tr>\n",
              "      <th>4</th>\n",
              "      <td>234977</td>\n",
              "      <td>orgasm-through-torture</td>\n",
              "      <td>2006</td>\n",
              "      <td>cannibal-corpse</td>\n",
              "      <td>Metal</td>\n",
              "      <td>Suffer to survive Instinct I despise Stalking ...</td>\n",
              "      <td>&lt;250k</td>\n",
              "      <td>1,45</td>\n",
              "      <td>40 000</td>\n",
              "    </tr>\n",
              "  </tbody>\n",
              "</table>\n",
              "</div>"
            ],
            "text/plain": [
              "    index                        song  ...  deezer_rate youtube_views\n",
              "0  248635   live-for-the-one-you-love  ...         3,03        104000\n",
              "1  362048                  watch-this  ...         1,45        301000\n",
              "2  316112  stormy-ballad-of-a-vampire  ...         0,31            43\n",
              "3   23395     the-revelation-embodied  ...         0,86          2300\n",
              "4  234977      orgasm-through-torture  ...         1,45        40 000\n",
              "\n",
              "[5 rows x 9 columns]"
            ]
          },
          "metadata": {
            "tags": []
          },
          "execution_count": 74
        }
      ]
    },
    {
      "cell_type": "code",
      "metadata": {
        "id": "ROM7La6Sv-71",
        "colab": {
          "base_uri": "https://localhost:8080/"
        },
        "outputId": "778e215f-4ed3-47cc-aced-cf784d749c45"
      },
      "source": [
        "lyrics_data = data['lyrics'].values\n",
        "max_words = 1000\n",
        "\n",
        "# Create a new Tokenizer\n",
        "tokenizer = text.Tokenizer(num_words=max_words, oov_token='<UNK>')\n",
        "# Feed our song lyrics to the Tokenizer\n",
        "tokenizer.fit_on_texts(lyrics_data)\n",
        "\n",
        "# Tokenizers come with a convenient list of words and IDs\n",
        "dictionary = tokenizer.word_index\n",
        "\n",
        "with open('dictionary.json', 'w') as dictionary_file:\n",
        "    json.dump(dictionary, dictionary_file)\n",
        "    \n",
        "tokenizer.word_index = {e:i for e,i in tokenizer.word_index.items() if i <= max_words} # <= because tokenizer is 1 indexed\n",
        "tokenizer.word_index[tokenizer.oov_token] = max_words + 1\n",
        "indexed_data = tokenizer.texts_to_sequences(lyrics_data)\n",
        "indexed_data = np.array(indexed_data)\n",
        "\n",
        "label_encoder = skpp.LabelEncoder()\n",
        "indexed_labels = np.array(label_encoder.fit_transform(data['spotify_streams'].values))\n",
        "\n",
        "\n",
        "num_test = 20 #80 linesin total, 20 are kept for testing, 60 for training\n",
        "\n",
        "# Shuffle data before splitting off test set\n",
        "random_indexes = np.random.permutation(len(indexed_labels))\n",
        "indexed_data = indexed_data[random_indexes]\n",
        "indexed_labels = indexed_labels[random_indexes]\n",
        "\n",
        "X_train = indexed_data[:-num_test]\n",
        "y_train = indexed_labels[:-num_test]\n",
        "X_test  = indexed_data[-num_test:]\n",
        "y_test  = indexed_labels[-num_test:]\n",
        "\n",
        "y_train = keras.utils.to_categorical(y_train)\n",
        "y_test = keras.utils.to_categorical(y_test)\n",
        "\n",
        "num_words = max_words + 2\n",
        "# Truncate and pad input sequences\n",
        "max_review_length = 500\n",
        "\n",
        "X_train_padded = sequence.pad_sequences(X_train, maxlen=max_review_length)\n",
        "X_test_padded = sequence.pad_sequences(X_test, maxlen=max_review_length)"
      ],
      "execution_count": null,
      "outputs": [
        {
          "output_type": "stream",
          "text": [
            "/usr/local/lib/python3.7/dist-packages/ipykernel_launcher.py:18: VisibleDeprecationWarning: Creating an ndarray from ragged nested sequences (which is a list-or-tuple of lists-or-tuples-or ndarrays with different lengths or shapes) is deprecated. If you meant to do this, you must specify 'dtype=object' when creating the ndarray\n"
          ],
          "name": "stderr"
        }
      ]
    },
    {
      "cell_type": "code",
      "metadata": {
        "colab": {
          "base_uri": "https://localhost:8080/"
        },
        "id": "LAY1FgOLA4ZK",
        "outputId": "353a4da8-0bb9-420c-9a62-70128b73c22e"
      },
      "source": [
        "spotify_str = label_encoder.inverse_transform(np.array([0,1,2,3,4,5]))\n",
        "label_encoder.inverse_transform(np.array([0,1,2,3,4,5]))"
      ],
      "execution_count": null,
      "outputs": [
        {
          "output_type": "execute_result",
          "data": {
            "text/plain": [
              "array(['<1000k', '<10k', '<250k', '<5000k', '<50k', '>5000k'],\n",
              "      dtype=object)"
            ]
          },
          "metadata": {
            "tags": []
          },
          "execution_count": 78
        }
      ]
    },
    {
      "cell_type": "code",
      "metadata": {
        "colab": {
          "base_uri": "https://localhost:8080/"
        },
        "id": "f0C4xS3H6P0W",
        "outputId": "21c9ed54-e498-4b95-9cb7-d1a43e6f660e"
      },
      "source": [
        "y_train.shape"
      ],
      "execution_count": null,
      "outputs": [
        {
          "output_type": "execute_result",
          "data": {
            "text/plain": [
              "(60, 6)"
            ]
          },
          "metadata": {
            "tags": []
          },
          "execution_count": 79
        }
      ]
    },
    {
      "cell_type": "code",
      "metadata": {
        "colab": {
          "base_uri": "https://localhost:8080/"
        },
        "id": "OE7dlVhz6O3M",
        "outputId": "a18e74b9-e04c-4726-dff4-9bfbb9f25157"
      },
      "source": [
        "y_test.shape\n"
      ],
      "execution_count": null,
      "outputs": [
        {
          "output_type": "execute_result",
          "data": {
            "text/plain": [
              "(20, 6)"
            ]
          },
          "metadata": {
            "tags": []
          },
          "execution_count": 81
        }
      ]
    },
    {
      "cell_type": "markdown",
      "metadata": {
        "id": "JHHbaa0soF0T"
      },
      "source": [
        "####**3.1.1 FastText Embedding**"
      ]
    },
    {
      "cell_type": "markdown",
      "metadata": {
        "id": "RAN2GVQWoJBF"
      },
      "source": [
        "We then start with the FastText Embedding."
      ]
    },
    {
      "cell_type": "code",
      "metadata": {
        "colab": {
          "base_uri": "https://localhost:8080/"
        },
        "id": "ujyHu1US0tNz",
        "outputId": "a9af60ba-ccd8-44a5-c944-40b7fcb9687a"
      },
      "source": [
        "import codecs\n",
        "from tqdm import tqdm\n",
        "embeddings_index = {}\n",
        "#f = codecs.open('wiki-news-300d-1M.vec', encoding='utf-8') #FastText trained on wikipedia 2017\n",
        "f = codecs.open('crawl-300d-2M.vec', encoding='utf-8') #FastText trained on common crawl\n",
        "for line in tqdm(f):\n",
        "  values = line.rstrip().rsplit(' ')\n",
        "  word = values[0]\n",
        "  coefs = np.asarray(values[1:], dtype='float32')\n",
        "  embeddings_index[word] = coefs\n",
        "f.close()"
      ],
      "execution_count": null,
      "outputs": [
        {
          "output_type": "stream",
          "text": [
            "1999996it [03:51, 8631.90it/s]\n"
          ],
          "name": "stderr"
        }
      ]
    },
    {
      "cell_type": "code",
      "metadata": {
        "colab": {
          "base_uri": "https://localhost:8080/"
        },
        "id": "LcwNuz4G0tN2",
        "outputId": "9979b250-a565-490c-bb73-5f7aa8679756"
      },
      "source": [
        "word_index = tokenizer.word_index\n",
        "MAX_NB_WORDS = 1000\n",
        "embed_dim = 300\n",
        "\n",
        "words_not_found = []\n",
        "nb_words = min(MAX_NB_WORDS, len(word_index)+1)\n",
        "embedding_matrix = np.zeros((nb_words, embed_dim))\n",
        "for word, i in word_index.items():\n",
        "  if i >= nb_words:\n",
        "     continue\n",
        "  embedding_vector = embeddings_index.get(word)\n",
        "  \n",
        "  if (embedding_vector is not None) and len(embedding_vector) > 0:\n",
        "     embedding_matrix[i] = embedding_vector\n",
        "  else:\n",
        "     words_not_found.append(word)\n",
        "print('number of null word embeddings: %d' % np.sum(np.sum(embedding_matrix, axis=1) == 0))"
      ],
      "execution_count": null,
      "outputs": [
        {
          "output_type": "stream",
          "text": [
            "number of null word embeddings: 30\n"
          ],
          "name": "stdout"
        }
      ]
    },
    {
      "cell_type": "code",
      "metadata": {
        "colab": {
          "base_uri": "https://localhost:8080/"
        },
        "id": "DbFwpL4m0tN3",
        "outputId": "1794410c-fa08-4233-ad31-43b772f074d4"
      },
      "source": [
        "from keras.layers import BatchNormalization\n",
        "import tensorflow as tf\n",
        "from keras.layers import Dropout\n",
        "\n",
        "\n",
        "# Hyperparameters\n",
        "embedding_vector_length = 50\n",
        "\n",
        "# Create the Bidirectional LSTM model with Keras\n",
        "model_2 = Sequential()\n",
        "model_2.add(Embedding(num_words, embedding_vector_length, input_length=max_review_length))\n",
        "model_2.add(Bidirectional(LSTM(60, return_sequences=True)))\n",
        "model_2.add(GlobalMaxPooling1D())\n",
        "model_2.add(Dense(6, activation='softmax'))\n",
        "model_2.compile(loss='categorical_crossentropy', optimizer='adam', metrics=['accuracy'])\n",
        "\n",
        "print(model_2.summary())"
      ],
      "execution_count": null,
      "outputs": [
        {
          "output_type": "stream",
          "text": [
            "Model: \"sequential_2\"\n",
            "_________________________________________________________________\n",
            "Layer (type)                 Output Shape              Param #   \n",
            "=================================================================\n",
            "embedding_2 (Embedding)      (None, 500, 50)           50100     \n",
            "_________________________________________________________________\n",
            "bidirectional_2 (Bidirection (None, 500, 120)          53280     \n",
            "_________________________________________________________________\n",
            "global_max_pooling1d_2 (Glob (None, 120)               0         \n",
            "_________________________________________________________________\n",
            "dense_2 (Dense)              (None, 6)                 726       \n",
            "=================================================================\n",
            "Total params: 104,106\n",
            "Trainable params: 104,106\n",
            "Non-trainable params: 0\n",
            "_________________________________________________________________\n",
            "None\n"
          ],
          "name": "stdout"
        }
      ]
    },
    {
      "cell_type": "code",
      "metadata": {
        "colab": {
          "base_uri": "https://localhost:8080/"
        },
        "id": "0lsDgzpr5mMr",
        "outputId": "5470151a-d44e-416e-a6e0-557f66dc6080"
      },
      "source": [
        "X_train_padded.shape"
      ],
      "execution_count": null,
      "outputs": [
        {
          "output_type": "execute_result",
          "data": {
            "text/plain": [
              "(60, 500)"
            ]
          },
          "metadata": {
            "tags": []
          },
          "execution_count": 85
        }
      ]
    },
    {
      "cell_type": "code",
      "metadata": {
        "colab": {
          "base_uri": "https://localhost:8080/"
        },
        "id": "LwtkxaZX5qZR",
        "outputId": "554b31fc-80e0-4d1a-f022-27dcbb983f2a"
      },
      "source": [
        "y_train.shape"
      ],
      "execution_count": null,
      "outputs": [
        {
          "output_type": "execute_result",
          "data": {
            "text/plain": [
              "(60, 6)"
            ]
          },
          "metadata": {
            "tags": []
          },
          "execution_count": 86
        }
      ]
    },
    {
      "cell_type": "code",
      "metadata": {
        "colab": {
          "base_uri": "https://localhost:8080/"
        },
        "id": "2929lH7D0tN3",
        "outputId": "f9f0b926-0696-4611-ee9a-dc8bdeb1de60"
      },
      "source": [
        "model_2.fit(X_train_padded, y_train, batch_size=10, epochs=30)"
      ],
      "execution_count": null,
      "outputs": [
        {
          "output_type": "stream",
          "text": [
            "Epoch 1/30\n",
            "6/6 [==============================] - 5s 274ms/step - loss: 1.7935 - accuracy: 0.0638\n",
            "Epoch 2/30\n",
            "6/6 [==============================] - 2s 279ms/step - loss: 1.7719 - accuracy: 0.3555\n",
            "Epoch 3/30\n",
            "6/6 [==============================] - 2s 274ms/step - loss: 1.7486 - accuracy: 0.4769\n",
            "Epoch 4/30\n",
            "6/6 [==============================] - 2s 276ms/step - loss: 1.7333 - accuracy: 0.3843\n",
            "Epoch 5/30\n",
            "6/6 [==============================] - 2s 273ms/step - loss: 1.7167 - accuracy: 0.2557\n",
            "Epoch 6/30\n",
            "6/6 [==============================] - 2s 271ms/step - loss: 1.7141 - accuracy: 0.1955\n",
            "Epoch 7/30\n",
            "6/6 [==============================] - 2s 280ms/step - loss: 1.6601 - accuracy: 0.3071\n",
            "Epoch 8/30\n",
            "6/6 [==============================] - 2s 277ms/step - loss: 1.6535 - accuracy: 0.2136\n",
            "Epoch 9/30\n",
            "6/6 [==============================] - 2s 266ms/step - loss: 1.6193 - accuracy: 0.2933\n",
            "Epoch 10/30\n",
            "6/6 [==============================] - 2s 272ms/step - loss: 1.6113 - accuracy: 0.2221\n",
            "Epoch 11/30\n",
            "6/6 [==============================] - 2s 268ms/step - loss: 1.6599 - accuracy: 0.2645\n",
            "Epoch 12/30\n",
            "6/6 [==============================] - 2s 271ms/step - loss: 1.7144 - accuracy: 0.2448\n",
            "Epoch 13/30\n",
            "6/6 [==============================] - 2s 276ms/step - loss: 1.6084 - accuracy: 0.6164\n",
            "Epoch 14/30\n",
            "6/6 [==============================] - 2s 282ms/step - loss: 1.4445 - accuracy: 0.5714\n",
            "Epoch 15/30\n",
            "6/6 [==============================] - 2s 269ms/step - loss: 1.4726 - accuracy: 0.5431\n",
            "Epoch 16/30\n",
            "6/6 [==============================] - 2s 268ms/step - loss: 1.5319 - accuracy: 0.3817\n",
            "Epoch 17/30\n",
            "6/6 [==============================] - 2s 269ms/step - loss: 1.3148 - accuracy: 0.7033\n",
            "Epoch 18/30\n",
            "6/6 [==============================] - 2s 272ms/step - loss: 1.1710 - accuracy: 0.8195\n",
            "Epoch 19/30\n",
            "6/6 [==============================] - 2s 277ms/step - loss: 1.1123 - accuracy: 0.7262\n",
            "Epoch 20/30\n",
            "6/6 [==============================] - 2s 278ms/step - loss: 0.8770 - accuracy: 0.8586\n",
            "Epoch 21/30\n",
            "6/6 [==============================] - 2s 272ms/step - loss: 0.8264 - accuracy: 0.8581\n",
            "Epoch 22/30\n",
            "6/6 [==============================] - 2s 273ms/step - loss: 0.9097 - accuracy: 0.8238\n",
            "Epoch 23/30\n",
            "6/6 [==============================] - 2s 275ms/step - loss: 0.6248 - accuracy: 0.9229\n",
            "Epoch 24/30\n",
            "6/6 [==============================] - 2s 265ms/step - loss: 0.7240 - accuracy: 0.8336\n",
            "Epoch 25/30\n",
            "6/6 [==============================] - 2s 284ms/step - loss: 0.7205 - accuracy: 0.8769\n",
            "Epoch 26/30\n",
            "6/6 [==============================] - 2s 280ms/step - loss: 0.5916 - accuracy: 0.8907\n",
            "Epoch 27/30\n",
            "6/6 [==============================] - 2s 265ms/step - loss: 0.4750 - accuracy: 0.9126\n",
            "Epoch 28/30\n",
            "6/6 [==============================] - 2s 267ms/step - loss: 0.4838 - accuracy: 0.9274\n",
            "Epoch 29/30\n",
            "6/6 [==============================] - 2s 270ms/step - loss: 0.4645 - accuracy: 0.8924\n",
            "Epoch 30/30\n",
            "6/6 [==============================] - 2s 271ms/step - loss: 0.5357 - accuracy: 0.8374\n"
          ],
          "name": "stdout"
        },
        {
          "output_type": "execute_result",
          "data": {
            "text/plain": [
              "<tensorflow.python.keras.callbacks.History at 0x7fcd2373fd90>"
            ]
          },
          "metadata": {
            "tags": []
          },
          "execution_count": 87
        }
      ]
    },
    {
      "cell_type": "code",
      "metadata": {
        "id": "vlqZrHtyGbEJ"
      },
      "source": [
        "preds_2 = model_2.predict(X_test_padded, batch_size=10)"
      ],
      "execution_count": null,
      "outputs": []
    },
    {
      "cell_type": "code",
      "metadata": {
        "colab": {
          "base_uri": "https://localhost:8080/"
        },
        "id": "jxHaHx22HCOS",
        "outputId": "bb1a5773-db57-43ca-d003-fe6533d697ba"
      },
      "source": [
        "preds_2"
      ],
      "execution_count": null,
      "outputs": [
        {
          "output_type": "execute_result",
          "data": {
            "text/plain": [
              "array([[0.06186399, 0.02992813, 0.45766273, 0.04241708, 0.33803105,\n",
              "        0.07009694],\n",
              "       [0.00168522, 0.6862308 , 0.00237399, 0.19924049, 0.09931628,\n",
              "        0.01115326],\n",
              "       [0.00134129, 0.37728685, 0.0105143 , 0.251393  , 0.32761288,\n",
              "        0.03185168],\n",
              "       [0.01758393, 0.00545485, 0.00154963, 0.913282  , 0.00722113,\n",
              "        0.05490841],\n",
              "       [0.04958387, 0.02823097, 0.43085885, 0.04540422, 0.36344457,\n",
              "        0.08247754],\n",
              "       [0.02490796, 0.66201437, 0.01645779, 0.02609634, 0.25723964,\n",
              "        0.01328383],\n",
              "       [0.0012431 , 0.56581223, 0.00554824, 0.2017159 , 0.20600027,\n",
              "        0.01968024],\n",
              "       [0.00148919, 0.35459337, 0.01291479, 0.21551135, 0.38004595,\n",
              "        0.03544537],\n",
              "       [0.7048564 , 0.00786003, 0.01979967, 0.1578172 , 0.02846503,\n",
              "        0.08120164],\n",
              "       [0.04671602, 0.02372014, 0.47591066, 0.04039123, 0.33635518,\n",
              "        0.07690681],\n",
              "       [0.03638524, 0.022972  , 0.3554631 , 0.07574104, 0.38741842,\n",
              "        0.1220202 ],\n",
              "       [0.09510576, 0.05185854, 0.42841434, 0.03781439, 0.33097783,\n",
              "        0.05582919],\n",
              "       [0.00295648, 0.04635671, 0.06311639, 0.5916318 , 0.20024727,\n",
              "        0.09569138],\n",
              "       [0.6773076 , 0.00727908, 0.02103151, 0.16499709, 0.0297878 ,\n",
              "        0.09959691],\n",
              "       [0.01193579, 0.03565   , 0.23717763, 0.14567125, 0.42106345,\n",
              "        0.14850189],\n",
              "       [0.01918723, 0.69712806, 0.01447711, 0.02320404, 0.23425847,\n",
              "        0.01174517],\n",
              "       [0.734328  , 0.00958082, 0.01601817, 0.1385592 , 0.02890691,\n",
              "        0.07260688],\n",
              "       [0.04839932, 0.01814727, 0.52192634, 0.0337739 , 0.299439  ,\n",
              "        0.07831417],\n",
              "       [0.00143081, 0.02680323, 0.02837532, 0.72539145, 0.09522139,\n",
              "        0.12277775],\n",
              "       [0.7169338 , 0.01629811, 0.0148855 , 0.13215084, 0.04271425,\n",
              "        0.07701753]], dtype=float32)"
            ]
          },
          "metadata": {
            "tags": []
          },
          "execution_count": 89
        }
      ]
    },
    {
      "cell_type": "code",
      "metadata": {
        "id": "dd-HT6GeGbEK"
      },
      "source": [
        "preds_app_2 = preds_2"
      ],
      "execution_count": null,
      "outputs": []
    },
    {
      "cell_type": "code",
      "metadata": {
        "id": "eLzatLc9GbEL"
      },
      "source": [
        "for i in range(preds_app_2.shape[0]):\n",
        "  for j in range(preds_app_2.shape[1]):\n",
        "    if max(preds_app_2[i,]) == preds_app_2[i,j]:\n",
        "      preds_app_2[i,j] = 1\n",
        "    else:\n",
        "      preds_app_2[i,j] = 0"
      ],
      "execution_count": null,
      "outputs": []
    },
    {
      "cell_type": "code",
      "metadata": {
        "colab": {
          "base_uri": "https://localhost:8080/"
        },
        "id": "qQwOx8NxHF0R",
        "outputId": "524e2b68-80fd-462a-fa1c-ecdfdf48ca52"
      },
      "source": [
        "preds_app_2.shape\n",
        "y_test"
      ],
      "execution_count": null,
      "outputs": [
        {
          "output_type": "execute_result",
          "data": {
            "text/plain": [
              "array([[0., 0., 1., 0., 0., 0.],\n",
              "       [0., 0., 0., 0., 0., 1.],\n",
              "       [0., 0., 0., 0., 0., 1.],\n",
              "       [1., 0., 0., 0., 0., 0.],\n",
              "       [0., 1., 0., 0., 0., 0.],\n",
              "       [0., 0., 0., 1., 0., 0.],\n",
              "       [0., 1., 0., 0., 0., 0.],\n",
              "       [0., 0., 0., 0., 1., 0.],\n",
              "       [0., 0., 0., 0., 1., 0.],\n",
              "       [0., 0., 0., 0., 1., 0.],\n",
              "       [0., 0., 1., 0., 0., 0.],\n",
              "       [0., 0., 0., 1., 0., 0.],\n",
              "       [0., 0., 1., 0., 0., 0.],\n",
              "       [0., 0., 0., 0., 1., 0.],\n",
              "       [0., 0., 0., 0., 1., 0.],\n",
              "       [0., 0., 0., 0., 1., 0.],\n",
              "       [1., 0., 0., 0., 0., 0.],\n",
              "       [0., 0., 0., 1., 0., 0.],\n",
              "       [0., 0., 0., 1., 0., 0.],\n",
              "       [1., 0., 0., 0., 0., 0.]], dtype=float32)"
            ]
          },
          "metadata": {
            "tags": []
          },
          "execution_count": 92
        }
      ]
    },
    {
      "cell_type": "code",
      "metadata": {
        "id": "CiHn5zYGGbEM"
      },
      "source": [
        "preds_str_2 = np.zeros((3, preds_app_2.shape[0]))\n",
        "\n",
        "for i in range(preds_app_2.shape[0]):\n",
        "  for j in range(preds_app_2.shape[1]):\n",
        "    if (y_test[i,j] == 1) & (preds_app_2[i,j] == 1):\n",
        "      preds_str_2[0,i] = j\n",
        "      preds_str_2[1,i] = j\n",
        "      preds_str_2[2,i] = 1\n",
        "    elif (y_test[i,j] == 0) & (preds_app_2[i,j] == 1):\n",
        "      preds_str_2[1,i] = j\n",
        "    elif (y_test[i,j] == 1) & (preds_app_2[i,j] == 0):\n",
        "      preds_str_2[0,i] = j\n",
        "    else :\n",
        "      True"
      ],
      "execution_count": null,
      "outputs": []
    },
    {
      "cell_type": "code",
      "metadata": {
        "colab": {
          "base_uri": "https://localhost:8080/"
        },
        "id": "fLvD6HunGbEM",
        "outputId": "3738dff1-207c-4a84-d4bb-94139a901f31"
      },
      "source": [
        "preds_str_2"
      ],
      "execution_count": null,
      "outputs": [
        {
          "output_type": "execute_result",
          "data": {
            "text/plain": [
              "array([[2., 5., 5., 0., 1., 3., 1., 4., 4., 4., 2., 3., 2., 4., 4., 4.,\n",
              "        0., 3., 3., 0.],\n",
              "       [2., 1., 1., 3., 2., 1., 1., 4., 0., 2., 4., 2., 3., 0., 4., 1.,\n",
              "        0., 2., 3., 0.],\n",
              "       [1., 0., 0., 0., 0., 0., 1., 1., 0., 0., 0., 0., 0., 0., 1., 0.,\n",
              "        1., 0., 1., 1.]])"
            ]
          },
          "metadata": {
            "tags": []
          },
          "execution_count": 94
        }
      ]
    },
    {
      "cell_type": "code",
      "metadata": {
        "colab": {
          "base_uri": "https://localhost:8080/"
        },
        "id": "Eb9ES4-pGbEN",
        "outputId": "a926f245-aae6-4004-8aa9-e09a0ddddd5a"
      },
      "source": [
        "spotify_str"
      ],
      "execution_count": null,
      "outputs": [
        {
          "output_type": "execute_result",
          "data": {
            "text/plain": [
              "array(['<1000k', '<10k', '<250k', '<5000k', '<50k', '>5000k'],\n",
              "      dtype=object)"
            ]
          },
          "metadata": {
            "tags": []
          },
          "execution_count": 95
        }
      ]
    },
    {
      "cell_type": "markdown",
      "metadata": {
        "id": "c2wOJFu2GbEN"
      },
      "source": [
        "**Number of accurate predictions :**"
      ]
    },
    {
      "cell_type": "code",
      "metadata": {
        "colab": {
          "base_uri": "https://localhost:8080/"
        },
        "id": "qNwAOVLLGbEN",
        "outputId": "be3c8378-6bd6-4809-eff7-2b749b96d881"
      },
      "source": [
        "sum(sum(preds_str_2[[2]]))\n"
      ],
      "execution_count": null,
      "outputs": [
        {
          "output_type": "execute_result",
          "data": {
            "text/plain": [
              "7.0"
            ]
          },
          "metadata": {
            "tags": []
          },
          "execution_count": 96
        }
      ]
    },
    {
      "cell_type": "markdown",
      "metadata": {
        "id": "28EOK8X-GbEO"
      },
      "source": [
        "**Error Rate :**"
      ]
    },
    {
      "cell_type": "code",
      "metadata": {
        "colab": {
          "base_uri": "https://localhost:8080/"
        },
        "id": "Jj2BbJTPGbEO",
        "outputId": "910fa0b7-1eb6-4b2d-9828-733762a8b2fa"
      },
      "source": [
        "(preds_str_2.shape[1] - sum(sum(preds_str_2[[2]])))/preds_str_2.shape[1]\n"
      ],
      "execution_count": null,
      "outputs": [
        {
          "output_type": "execute_result",
          "data": {
            "text/plain": [
              "0.65"
            ]
          },
          "metadata": {
            "tags": []
          },
          "execution_count": 97
        }
      ]
    },
    {
      "cell_type": "markdown",
      "metadata": {
        "id": "c52uokv4GbEO"
      },
      "source": [
        "The Bidirectionnal LSTM with FastText Embedding gives us an error of 65 % on success prediction measured with spotify streams. Which means that 35% of the predictions are correct."
      ]
    },
    {
      "cell_type": "markdown",
      "metadata": {
        "id": "UmjpBLl5nATN"
      },
      "source": [
        "####**3.1.2. GloVe Embedding**"
      ]
    },
    {
      "cell_type": "markdown",
      "metadata": {
        "id": "PMANMknGNzjV"
      },
      "source": [
        "Now for GloVe embedding."
      ]
    },
    {
      "cell_type": "code",
      "metadata": {
        "colab": {
          "base_uri": "https://localhost:8080/"
        },
        "id": "D3iqPGpYNxZm",
        "outputId": "768f237d-aa1b-4d77-df5b-a69affcc49f3"
      },
      "source": [
        "import codecs\n",
        "from tqdm import tqdm\n",
        "embeddings_index = {}\n",
        "f = codecs.open('glove.840B.300d.txt', encoding='utf-8') #GloVe trained on common crawl\n",
        "for line in tqdm(f):\n",
        "  values = line.rstrip().rsplit(' ')\n",
        "  word = values[0]\n",
        "  coefs = np.asarray(values[1:], dtype='float32')\n",
        "  embeddings_index[word] = coefs\n",
        "f.close()"
      ],
      "execution_count": null,
      "outputs": [
        {
          "output_type": "stream",
          "text": [
            "2196018it [04:51, 7546.40it/s]\n"
          ],
          "name": "stderr"
        }
      ]
    },
    {
      "cell_type": "code",
      "metadata": {
        "colab": {
          "base_uri": "https://localhost:8080/"
        },
        "id": "vROztLhuOPsR",
        "outputId": "5f75a360-66a1-4733-c58d-231c69c57467"
      },
      "source": [
        "word_index = tokenizer.word_index\n",
        "MAX_NB_WORDS = 1000\n",
        "embed_dim = 300\n",
        "\n",
        "words_not_found = []\n",
        "nb_words = min(MAX_NB_WORDS, len(word_index)+1)\n",
        "embedding_matrix = np.zeros((nb_words, embed_dim))\n",
        "for word, i in word_index.items():\n",
        "  if i >= nb_words:\n",
        "     continue\n",
        "  embedding_vector = embeddings_index.get(word)\n",
        "  \n",
        "  if (embedding_vector is not None) and len(embedding_vector) > 0:\n",
        "     embedding_matrix[i] = embedding_vector\n",
        "  else:\n",
        "     words_not_found.append(word)\n",
        "print('number of null word embeddings: %d' % np.sum(np.sum(embedding_matrix, axis=1) == 0))"
      ],
      "execution_count": null,
      "outputs": [
        {
          "output_type": "stream",
          "text": [
            "number of null word embeddings: 35\n"
          ],
          "name": "stdout"
        }
      ]
    },
    {
      "cell_type": "code",
      "metadata": {
        "colab": {
          "base_uri": "https://localhost:8080/"
        },
        "id": "oHGgYeRdOPsT",
        "outputId": "0d97dfe0-3346-4205-c9fe-3b06723f4b1f"
      },
      "source": [
        "from keras.layers import BatchNormalization\n",
        "import tensorflow as tf\n",
        "from keras.layers import Dropout\n",
        "\n",
        "\n",
        "# Hyperparameters\n",
        "embedding_vector_length = 50\n",
        "\n",
        "# Create the Bidirectional LSTM model with Keras\n",
        "model_3 = Sequential()\n",
        "model_3.add(Embedding(num_words, embedding_vector_length, input_length=max_review_length))\n",
        "model_3.add(Bidirectional(LSTM(60, return_sequences=True)))\n",
        "model_3.add(GlobalMaxPooling1D())\n",
        "model_3.add(Dense(6, activation='softmax'))\n",
        "model_3.compile(loss='categorical_crossentropy', optimizer='adam', metrics=['accuracy'])\n",
        "\n",
        "print(model_3.summary())"
      ],
      "execution_count": null,
      "outputs": [
        {
          "output_type": "stream",
          "text": [
            "Model: \"sequential_3\"\n",
            "_________________________________________________________________\n",
            "Layer (type)                 Output Shape              Param #   \n",
            "=================================================================\n",
            "embedding_3 (Embedding)      (None, 500, 50)           50100     \n",
            "_________________________________________________________________\n",
            "bidirectional_3 (Bidirection (None, 500, 120)          53280     \n",
            "_________________________________________________________________\n",
            "global_max_pooling1d_3 (Glob (None, 120)               0         \n",
            "_________________________________________________________________\n",
            "dense_3 (Dense)              (None, 6)                 726       \n",
            "=================================================================\n",
            "Total params: 104,106\n",
            "Trainable params: 104,106\n",
            "Non-trainable params: 0\n",
            "_________________________________________________________________\n",
            "None\n"
          ],
          "name": "stdout"
        }
      ]
    },
    {
      "cell_type": "code",
      "metadata": {
        "colab": {
          "base_uri": "https://localhost:8080/"
        },
        "id": "hz27oWptOPsU",
        "outputId": "c34796d0-622b-4f68-913f-6c54351d94ce"
      },
      "source": [
        "model_3.fit(X_train_padded, y_train, batch_size=10, epochs=30)"
      ],
      "execution_count": null,
      "outputs": [
        {
          "output_type": "stream",
          "text": [
            "Epoch 1/30\n",
            "6/6 [==============================] - 5s 277ms/step - loss: 1.7962 - accuracy: 0.2138\n",
            "Epoch 2/30\n",
            "6/6 [==============================] - 2s 273ms/step - loss: 1.7698 - accuracy: 0.2952\n",
            "Epoch 3/30\n",
            "6/6 [==============================] - 2s 267ms/step - loss: 1.7511 - accuracy: 0.2300\n",
            "Epoch 4/30\n",
            "6/6 [==============================] - 2s 267ms/step - loss: 1.7443 - accuracy: 0.1940\n",
            "Epoch 5/30\n",
            "6/6 [==============================] - 2s 266ms/step - loss: 1.7490 - accuracy: 0.1862\n",
            "Epoch 6/30\n",
            "6/6 [==============================] - 2s 262ms/step - loss: 1.7355 - accuracy: 0.1357\n",
            "Epoch 7/30\n",
            "6/6 [==============================] - 2s 274ms/step - loss: 1.7155 - accuracy: 0.1700\n",
            "Epoch 8/30\n",
            "6/6 [==============================] - 2s 269ms/step - loss: 1.6710 - accuracy: 0.2336\n",
            "Epoch 9/30\n",
            "6/6 [==============================] - 2s 268ms/step - loss: 1.6278 - accuracy: 0.2888\n",
            "Epoch 10/30\n",
            "6/6 [==============================] - 2s 269ms/step - loss: 1.6801 - accuracy: 0.2355\n",
            "Epoch 11/30\n",
            "6/6 [==============================] - 2s 261ms/step - loss: 1.5953 - accuracy: 0.2893\n",
            "Epoch 12/30\n",
            "6/6 [==============================] - 2s 270ms/step - loss: 1.5787 - accuracy: 0.2910\n",
            "Epoch 13/30\n",
            "6/6 [==============================] - 2s 273ms/step - loss: 1.5233 - accuracy: 0.5586\n",
            "Epoch 14/30\n",
            "6/6 [==============================] - 2s 273ms/step - loss: 1.4035 - accuracy: 0.5560\n",
            "Epoch 15/30\n",
            "6/6 [==============================] - 2s 262ms/step - loss: 1.7153 - accuracy: 0.2181\n",
            "Epoch 16/30\n",
            "6/6 [==============================] - 2s 267ms/step - loss: 1.4581 - accuracy: 0.4362\n",
            "Epoch 17/30\n",
            "6/6 [==============================] - 2s 264ms/step - loss: 1.4708 - accuracy: 0.4190\n",
            "Epoch 18/30\n",
            "6/6 [==============================] - 2s 269ms/step - loss: 1.2955 - accuracy: 0.6057\n",
            "Epoch 19/30\n",
            "6/6 [==============================] - 2s 267ms/step - loss: 1.2147 - accuracy: 0.6350\n",
            "Epoch 20/30\n",
            "6/6 [==============================] - 2s 268ms/step - loss: 1.1335 - accuracy: 0.5957\n",
            "Epoch 21/30\n",
            "6/6 [==============================] - 2s 268ms/step - loss: 1.5262 - accuracy: 0.2962\n",
            "Epoch 22/30\n",
            "6/6 [==============================] - 2s 262ms/step - loss: 1.2264 - accuracy: 0.5821\n",
            "Epoch 23/30\n",
            "6/6 [==============================] - 2s 263ms/step - loss: 1.2991 - accuracy: 0.4252\n",
            "Epoch 24/30\n",
            "6/6 [==============================] - 2s 266ms/step - loss: 1.1342 - accuracy: 0.5683\n",
            "Epoch 25/30\n",
            "6/6 [==============================] - 2s 275ms/step - loss: 1.0649 - accuracy: 0.7124\n",
            "Epoch 26/30\n",
            "6/6 [==============================] - 2s 273ms/step - loss: 0.9500 - accuracy: 0.7876\n",
            "Epoch 27/30\n",
            "6/6 [==============================] - 2s 276ms/step - loss: 0.9571 - accuracy: 0.7033\n",
            "Epoch 28/30\n",
            "6/6 [==============================] - 2s 270ms/step - loss: 1.0026 - accuracy: 0.7200\n",
            "Epoch 29/30\n",
            "6/6 [==============================] - 2s 268ms/step - loss: 1.3942 - accuracy: 0.4519\n",
            "Epoch 30/30\n",
            "6/6 [==============================] - 2s 267ms/step - loss: 1.3649 - accuracy: 0.6024\n"
          ],
          "name": "stdout"
        },
        {
          "output_type": "execute_result",
          "data": {
            "text/plain": [
              "<tensorflow.python.keras.callbacks.History at 0x7fcd209491d0>"
            ]
          },
          "metadata": {
            "tags": []
          },
          "execution_count": 101
        }
      ]
    },
    {
      "cell_type": "code",
      "metadata": {
        "id": "zYEtZ9hJOPsU"
      },
      "source": [
        "preds_3 = model_3.predict(X_test_padded, batch_size=10)"
      ],
      "execution_count": null,
      "outputs": []
    },
    {
      "cell_type": "code",
      "metadata": {
        "id": "jtfIO3WEOPsU"
      },
      "source": [
        "preds_app_3 = preds_3"
      ],
      "execution_count": null,
      "outputs": []
    },
    {
      "cell_type": "code",
      "metadata": {
        "id": "AJXRzd4fOPsU"
      },
      "source": [
        "for i in range(preds_app_3.shape[0]):\n",
        "  for j in range(preds_app_3.shape[1]):\n",
        "    if max(preds_app_3[i,]) == preds_app_3[i,j]:\n",
        "      preds_app_3[i,j] = 1\n",
        "    else:\n",
        "      preds_app_3[i,j] = 0"
      ],
      "execution_count": null,
      "outputs": []
    },
    {
      "cell_type": "code",
      "metadata": {
        "id": "s2DS5tr2OPsV"
      },
      "source": [
        "preds_str_3 = np.zeros((3, preds_app_3.shape[0]))\n",
        "\n",
        "for i in range(preds_app_3.shape[0]):\n",
        "  for j in range(preds_app_3.shape[1]):\n",
        "    if (y_test[i,j] == 1) & (preds_app_3[i,j] == 1):\n",
        "      preds_str_3[0,i] = j\n",
        "      preds_str_3[1,i] = j\n",
        "      preds_str_3[2,i] = 1\n",
        "    elif (y_test[i,j] == 0) & (preds_app_3[i,j] == 1):\n",
        "      preds_str_3[1,i] = j\n",
        "    elif (y_test[i,j] == 1) & (preds_app_3[i,j] == 0):\n",
        "      preds_str_3[0,i] = j\n",
        "    else :\n",
        "      True"
      ],
      "execution_count": null,
      "outputs": []
    },
    {
      "cell_type": "code",
      "metadata": {
        "colab": {
          "base_uri": "https://localhost:8080/"
        },
        "id": "1qmeYd7iOPsV",
        "outputId": "dc752c45-95a9-4789-c7da-1579b02f8ed9"
      },
      "source": [
        "preds_str_3"
      ],
      "execution_count": null,
      "outputs": [
        {
          "output_type": "execute_result",
          "data": {
            "text/plain": [
              "array([[2., 5., 5., 0., 1., 3., 1., 4., 4., 4., 2., 3., 2., 4., 4., 4.,\n",
              "        0., 3., 3., 0.],\n",
              "       [1., 1., 2., 3., 3., 2., 1., 2., 3., 1., 3., 2., 3., 3., 3., 1.,\n",
              "        2., 2., 2., 2.],\n",
              "       [0., 0., 0., 0., 0., 0., 1., 0., 0., 0., 0., 0., 0., 0., 0., 0.,\n",
              "        0., 0., 0., 0.]])"
            ]
          },
          "metadata": {
            "tags": []
          },
          "execution_count": 106
        }
      ]
    },
    {
      "cell_type": "code",
      "metadata": {
        "colab": {
          "base_uri": "https://localhost:8080/"
        },
        "id": "0lcGmQj8OPsV",
        "outputId": "daa5ef34-f095-45e9-cde3-c32cc7393743"
      },
      "source": [
        "spotify_str"
      ],
      "execution_count": null,
      "outputs": [
        {
          "output_type": "execute_result",
          "data": {
            "text/plain": [
              "array(['<1000k', '<10k', '<250k', '<5000k', '<50k', '>5000k'],\n",
              "      dtype=object)"
            ]
          },
          "metadata": {
            "tags": []
          },
          "execution_count": 107
        }
      ]
    },
    {
      "cell_type": "markdown",
      "metadata": {
        "id": "4eOcc1n7OPsV"
      },
      "source": [
        "**Number of accurate predictions :**"
      ]
    },
    {
      "cell_type": "code",
      "metadata": {
        "colab": {
          "base_uri": "https://localhost:8080/"
        },
        "id": "kWDIzbiQOPsW",
        "outputId": "282982d6-bb32-40fb-e8b9-c0b69e8e31ee"
      },
      "source": [
        "sum(sum(preds_str_3[[2]]))\n"
      ],
      "execution_count": null,
      "outputs": [
        {
          "output_type": "execute_result",
          "data": {
            "text/plain": [
              "1.0"
            ]
          },
          "metadata": {
            "tags": []
          },
          "execution_count": 108
        }
      ]
    },
    {
      "cell_type": "markdown",
      "metadata": {
        "id": "NqKLfkZvOPsW"
      },
      "source": [
        "**Error Rate :**"
      ]
    },
    {
      "cell_type": "code",
      "metadata": {
        "colab": {
          "base_uri": "https://localhost:8080/"
        },
        "id": "6KYweofmOPsW",
        "outputId": "14de5272-75c7-45a6-9a22-21b23308697c"
      },
      "source": [
        "(preds_str_3.shape[1] - sum(sum(preds_str_3[[2]])))/preds_str_3.shape[1]\n"
      ],
      "execution_count": null,
      "outputs": [
        {
          "output_type": "execute_result",
          "data": {
            "text/plain": [
              "0.95"
            ]
          },
          "metadata": {
            "tags": []
          },
          "execution_count": 109
        }
      ]
    },
    {
      "cell_type": "markdown",
      "metadata": {
        "id": "Xs3k17cqOPsW"
      },
      "source": [
        "The Bidirectionnal LSTM with GloVe Embedding gives us an error of 95 % on success prediction measured with spotify streams. Which means that 5% of the predictions are correct."
      ]
    },
    {
      "cell_type": "markdown",
      "metadata": {
        "id": "5jY497hqnqEV"
      },
      "source": [
        "###**3.2. Deezer rates**"
      ]
    },
    {
      "cell_type": "markdown",
      "metadata": {
        "id": "XxddqW63U84i"
      },
      "source": [
        "We realize the same analysis for the success predictions measured with deezer rate."
      ]
    },
    {
      "cell_type": "code",
      "metadata": {
        "colab": {
          "base_uri": "https://localhost:8080/",
          "height": 204
        },
        "id": "6oe6EcGTU9Pe",
        "outputId": "913acb0e-1feb-4c1e-e541-2ed53c9db157"
      },
      "source": [
        "path = '100songs_rempli_final.csv'\n",
        "data_success = pd.read_csv(path, sep= ';', skip_blank_lines=False)\n",
        "data = data_success\n",
        "data.head()"
      ],
      "execution_count": null,
      "outputs": [
        {
          "output_type": "execute_result",
          "data": {
            "text/html": [
              "<div>\n",
              "<style scoped>\n",
              "    .dataframe tbody tr th:only-of-type {\n",
              "        vertical-align: middle;\n",
              "    }\n",
              "\n",
              "    .dataframe tbody tr th {\n",
              "        vertical-align: top;\n",
              "    }\n",
              "\n",
              "    .dataframe thead th {\n",
              "        text-align: right;\n",
              "    }\n",
              "</style>\n",
              "<table border=\"1\" class=\"dataframe\">\n",
              "  <thead>\n",
              "    <tr style=\"text-align: right;\">\n",
              "      <th></th>\n",
              "      <th>index</th>\n",
              "      <th>song</th>\n",
              "      <th>year</th>\n",
              "      <th>artist</th>\n",
              "      <th>genre</th>\n",
              "      <th>lyrics</th>\n",
              "      <th>spotify_streams</th>\n",
              "      <th>deezer_rate</th>\n",
              "      <th>youtube_views</th>\n",
              "    </tr>\n",
              "  </thead>\n",
              "  <tbody>\n",
              "    <tr>\n",
              "      <th>0</th>\n",
              "      <td>248635</td>\n",
              "      <td>live-for-the-one-you-love</td>\n",
              "      <td>2008</td>\n",
              "      <td>celine-dion</td>\n",
              "      <td>Pop</td>\n",
              "      <td>A million stars light This beautiful night Thi...</td>\n",
              "      <td>1724337.0</td>\n",
              "      <td>3,03</td>\n",
              "      <td>104000</td>\n",
              "    </tr>\n",
              "    <tr>\n",
              "      <th>1</th>\n",
              "      <td>117972</td>\n",
              "      <td>perfection</td>\n",
              "      <td>2006</td>\n",
              "      <td>bonnie-tyler</td>\n",
              "      <td>Pop</td>\n",
              "      <td>desmond child diane warren Producer for bonni...</td>\n",
              "      <td>NaN</td>\n",
              "      <td>NaN</td>\n",
              "      <td>18000</td>\n",
              "    </tr>\n",
              "    <tr>\n",
              "      <th>2</th>\n",
              "      <td>362048</td>\n",
              "      <td>watch-this</td>\n",
              "      <td>2006</td>\n",
              "      <td>clay-walker</td>\n",
              "      <td>Country</td>\n",
              "      <td>If you've never felt what happens When two hea...</td>\n",
              "      <td>751902.0</td>\n",
              "      <td>1,45</td>\n",
              "      <td>301000</td>\n",
              "    </tr>\n",
              "    <tr>\n",
              "      <th>3</th>\n",
              "      <td>316112</td>\n",
              "      <td>stormy-ballad-of-a-vampire</td>\n",
              "      <td>2008</td>\n",
              "      <td>blind-iris</td>\n",
              "      <td>Rock</td>\n",
              "      <td>Stormy says the sun is too bright She sleeps i...</td>\n",
              "      <td>1000.0</td>\n",
              "      <td>0,31</td>\n",
              "      <td>43</td>\n",
              "    </tr>\n",
              "    <tr>\n",
              "      <th>4</th>\n",
              "      <td>23395</td>\n",
              "      <td>the-revelation-embodied</td>\n",
              "      <td>2007</td>\n",
              "      <td>cult-of-luna</td>\n",
              "      <td>Rock</td>\n",
              "      <td>A time lost to the sick crowd of a new demonic...</td>\n",
              "      <td>117748.0</td>\n",
              "      <td>0,86</td>\n",
              "      <td>2300</td>\n",
              "    </tr>\n",
              "  </tbody>\n",
              "</table>\n",
              "</div>"
            ],
            "text/plain": [
              "    index                        song  ...  deezer_rate youtube_views\n",
              "0  248635   live-for-the-one-you-love  ...         3,03        104000\n",
              "1  117972                  perfection  ...          NaN         18000\n",
              "2  362048                  watch-this  ...         1,45        301000\n",
              "3  316112  stormy-ballad-of-a-vampire  ...         0,31            43\n",
              "4   23395     the-revelation-embodied  ...         0,86          2300\n",
              "\n",
              "[5 rows x 9 columns]"
            ]
          },
          "metadata": {
            "tags": []
          },
          "execution_count": 110
        }
      ]
    },
    {
      "cell_type": "code",
      "metadata": {
        "colab": {
          "base_uri": "https://localhost:8080/"
        },
        "id": "MH8mf31QU9Pf",
        "outputId": "187d1d4f-dcf5-4c93-d564-0a6ce618a340"
      },
      "source": [
        "data.shape"
      ],
      "execution_count": null,
      "outputs": [
        {
          "output_type": "execute_result",
          "data": {
            "text/plain": [
              "(100, 9)"
            ]
          },
          "metadata": {
            "tags": []
          },
          "execution_count": 111
        }
      ]
    },
    {
      "cell_type": "code",
      "metadata": {
        "colab": {
          "base_uri": "https://localhost:8080/"
        },
        "id": "cm2-uHDqU9Pg",
        "outputId": "971dec15-aa16-43a3-9e21-1b1a53001ae9"
      },
      "source": [
        "data.dropna(subset=['deezer_rate'], inplace=True)\n",
        "data.shape"
      ],
      "execution_count": null,
      "outputs": [
        {
          "output_type": "execute_result",
          "data": {
            "text/plain": [
              "(76, 9)"
            ]
          },
          "metadata": {
            "tags": []
          },
          "execution_count": 112
        }
      ]
    },
    {
      "cell_type": "code",
      "metadata": {
        "colab": {
          "base_uri": "https://localhost:8080/",
          "height": 204
        },
        "id": "IgjTsfPPU9Pg",
        "outputId": "1d950541-5d1d-4d6b-a163-7364938b63b8"
      },
      "source": [
        "data = data.reset_index(drop=True)\n",
        "data.head()"
      ],
      "execution_count": null,
      "outputs": [
        {
          "output_type": "execute_result",
          "data": {
            "text/html": [
              "<div>\n",
              "<style scoped>\n",
              "    .dataframe tbody tr th:only-of-type {\n",
              "        vertical-align: middle;\n",
              "    }\n",
              "\n",
              "    .dataframe tbody tr th {\n",
              "        vertical-align: top;\n",
              "    }\n",
              "\n",
              "    .dataframe thead th {\n",
              "        text-align: right;\n",
              "    }\n",
              "</style>\n",
              "<table border=\"1\" class=\"dataframe\">\n",
              "  <thead>\n",
              "    <tr style=\"text-align: right;\">\n",
              "      <th></th>\n",
              "      <th>index</th>\n",
              "      <th>song</th>\n",
              "      <th>year</th>\n",
              "      <th>artist</th>\n",
              "      <th>genre</th>\n",
              "      <th>lyrics</th>\n",
              "      <th>spotify_streams</th>\n",
              "      <th>deezer_rate</th>\n",
              "      <th>youtube_views</th>\n",
              "    </tr>\n",
              "  </thead>\n",
              "  <tbody>\n",
              "    <tr>\n",
              "      <th>0</th>\n",
              "      <td>248635</td>\n",
              "      <td>live-for-the-one-you-love</td>\n",
              "      <td>2008</td>\n",
              "      <td>celine-dion</td>\n",
              "      <td>Pop</td>\n",
              "      <td>A million stars light This beautiful night Thi...</td>\n",
              "      <td>1724337.0</td>\n",
              "      <td>3,03</td>\n",
              "      <td>104000</td>\n",
              "    </tr>\n",
              "    <tr>\n",
              "      <th>1</th>\n",
              "      <td>362048</td>\n",
              "      <td>watch-this</td>\n",
              "      <td>2006</td>\n",
              "      <td>clay-walker</td>\n",
              "      <td>Country</td>\n",
              "      <td>If you've never felt what happens When two hea...</td>\n",
              "      <td>751902.0</td>\n",
              "      <td>1,45</td>\n",
              "      <td>301000</td>\n",
              "    </tr>\n",
              "    <tr>\n",
              "      <th>2</th>\n",
              "      <td>316112</td>\n",
              "      <td>stormy-ballad-of-a-vampire</td>\n",
              "      <td>2008</td>\n",
              "      <td>blind-iris</td>\n",
              "      <td>Rock</td>\n",
              "      <td>Stormy says the sun is too bright She sleeps i...</td>\n",
              "      <td>1000.0</td>\n",
              "      <td>0,31</td>\n",
              "      <td>43</td>\n",
              "    </tr>\n",
              "    <tr>\n",
              "      <th>3</th>\n",
              "      <td>23395</td>\n",
              "      <td>the-revelation-embodied</td>\n",
              "      <td>2007</td>\n",
              "      <td>cult-of-luna</td>\n",
              "      <td>Rock</td>\n",
              "      <td>A time lost to the sick crowd of a new demonic...</td>\n",
              "      <td>117748.0</td>\n",
              "      <td>0,86</td>\n",
              "      <td>2300</td>\n",
              "    </tr>\n",
              "    <tr>\n",
              "      <th>4</th>\n",
              "      <td>234977</td>\n",
              "      <td>orgasm-through-torture</td>\n",
              "      <td>2006</td>\n",
              "      <td>cannibal-corpse</td>\n",
              "      <td>Metal</td>\n",
              "      <td>Suffer to survive Instinct I despise Stalking ...</td>\n",
              "      <td>216642.0</td>\n",
              "      <td>1,45</td>\n",
              "      <td>40 000</td>\n",
              "    </tr>\n",
              "  </tbody>\n",
              "</table>\n",
              "</div>"
            ],
            "text/plain": [
              "    index                        song  ...  deezer_rate youtube_views\n",
              "0  248635   live-for-the-one-you-love  ...         3,03        104000\n",
              "1  362048                  watch-this  ...         1,45        301000\n",
              "2  316112  stormy-ballad-of-a-vampire  ...         0,31            43\n",
              "3   23395     the-revelation-embodied  ...         0,86          2300\n",
              "4  234977      orgasm-through-torture  ...         1,45        40 000\n",
              "\n",
              "[5 rows x 9 columns]"
            ]
          },
          "metadata": {
            "tags": []
          },
          "execution_count": 113
        }
      ]
    },
    {
      "cell_type": "code",
      "metadata": {
        "id": "faaacD4FU9Pg"
      },
      "source": [
        "data['deezer_rate'] = data['deezer_rate'].str.replace(',','.')"
      ],
      "execution_count": null,
      "outputs": []
    },
    {
      "cell_type": "code",
      "metadata": {
        "colab": {
          "base_uri": "https://localhost:8080/",
          "height": 204
        },
        "id": "wz-i4HrbZg4F",
        "outputId": "57bb822a-e2d7-46ee-997a-7ddbae80e888"
      },
      "source": [
        "data.head()"
      ],
      "execution_count": null,
      "outputs": [
        {
          "output_type": "execute_result",
          "data": {
            "text/html": [
              "<div>\n",
              "<style scoped>\n",
              "    .dataframe tbody tr th:only-of-type {\n",
              "        vertical-align: middle;\n",
              "    }\n",
              "\n",
              "    .dataframe tbody tr th {\n",
              "        vertical-align: top;\n",
              "    }\n",
              "\n",
              "    .dataframe thead th {\n",
              "        text-align: right;\n",
              "    }\n",
              "</style>\n",
              "<table border=\"1\" class=\"dataframe\">\n",
              "  <thead>\n",
              "    <tr style=\"text-align: right;\">\n",
              "      <th></th>\n",
              "      <th>index</th>\n",
              "      <th>song</th>\n",
              "      <th>year</th>\n",
              "      <th>artist</th>\n",
              "      <th>genre</th>\n",
              "      <th>lyrics</th>\n",
              "      <th>spotify_streams</th>\n",
              "      <th>deezer_rate</th>\n",
              "      <th>youtube_views</th>\n",
              "    </tr>\n",
              "  </thead>\n",
              "  <tbody>\n",
              "    <tr>\n",
              "      <th>0</th>\n",
              "      <td>248635</td>\n",
              "      <td>live-for-the-one-you-love</td>\n",
              "      <td>2008</td>\n",
              "      <td>celine-dion</td>\n",
              "      <td>Pop</td>\n",
              "      <td>A million stars light This beautiful night Thi...</td>\n",
              "      <td>1724337.0</td>\n",
              "      <td>3.03</td>\n",
              "      <td>104000</td>\n",
              "    </tr>\n",
              "    <tr>\n",
              "      <th>1</th>\n",
              "      <td>362048</td>\n",
              "      <td>watch-this</td>\n",
              "      <td>2006</td>\n",
              "      <td>clay-walker</td>\n",
              "      <td>Country</td>\n",
              "      <td>If you've never felt what happens When two hea...</td>\n",
              "      <td>751902.0</td>\n",
              "      <td>1.45</td>\n",
              "      <td>301000</td>\n",
              "    </tr>\n",
              "    <tr>\n",
              "      <th>2</th>\n",
              "      <td>316112</td>\n",
              "      <td>stormy-ballad-of-a-vampire</td>\n",
              "      <td>2008</td>\n",
              "      <td>blind-iris</td>\n",
              "      <td>Rock</td>\n",
              "      <td>Stormy says the sun is too bright She sleeps i...</td>\n",
              "      <td>1000.0</td>\n",
              "      <td>0.31</td>\n",
              "      <td>43</td>\n",
              "    </tr>\n",
              "    <tr>\n",
              "      <th>3</th>\n",
              "      <td>23395</td>\n",
              "      <td>the-revelation-embodied</td>\n",
              "      <td>2007</td>\n",
              "      <td>cult-of-luna</td>\n",
              "      <td>Rock</td>\n",
              "      <td>A time lost to the sick crowd of a new demonic...</td>\n",
              "      <td>117748.0</td>\n",
              "      <td>0.86</td>\n",
              "      <td>2300</td>\n",
              "    </tr>\n",
              "    <tr>\n",
              "      <th>4</th>\n",
              "      <td>234977</td>\n",
              "      <td>orgasm-through-torture</td>\n",
              "      <td>2006</td>\n",
              "      <td>cannibal-corpse</td>\n",
              "      <td>Metal</td>\n",
              "      <td>Suffer to survive Instinct I despise Stalking ...</td>\n",
              "      <td>216642.0</td>\n",
              "      <td>1.45</td>\n",
              "      <td>40 000</td>\n",
              "    </tr>\n",
              "  </tbody>\n",
              "</table>\n",
              "</div>"
            ],
            "text/plain": [
              "    index                        song  ...  deezer_rate youtube_views\n",
              "0  248635   live-for-the-one-you-love  ...         3.03        104000\n",
              "1  362048                  watch-this  ...         1.45        301000\n",
              "2  316112  stormy-ballad-of-a-vampire  ...         0.31            43\n",
              "3   23395     the-revelation-embodied  ...         0.86          2300\n",
              "4  234977      orgasm-through-torture  ...         1.45        40 000\n",
              "\n",
              "[5 rows x 9 columns]"
            ]
          },
          "metadata": {
            "tags": []
          },
          "execution_count": 115
        }
      ]
    },
    {
      "cell_type": "markdown",
      "metadata": {
        "id": "hyfHcsCLU9Pg"
      },
      "source": [
        "We create 6 classes for our variable deezer_rate :\n",
        "- rate $< 1$\n",
        "- rate $< 2$\n",
        "- rate $< 3$\n",
        "- rate $< 4$\n",
        "- rate $< 5$\n",
        "- rate $\\geq 5$"
      ]
    },
    {
      "cell_type": "code",
      "metadata": {
        "colab": {
          "base_uri": "https://localhost:8080/"
        },
        "id": "Rk8zE_juU9Ph",
        "outputId": "d6f63ad3-9462-4fc7-9f66-ad35633068fe"
      },
      "source": [
        "for i in range(data.shape[0]):\n",
        "  val = data['deezer_rate'][i]  \n",
        "  val = float(val)\n",
        "  if (val <= 1):\n",
        "    data['deezer_rate'][i] = '<1'   \n",
        "  elif (val <= 2) & (val > 1):\n",
        "    data['deezer_rate'][i] = '<2'    \n",
        "  elif (val <= 3) & (val > 2):\n",
        "    data['deezer_rate'][i] = '<3'    \n",
        "  elif (val <= 4) & (val > 3):\n",
        "    data['deezer_rate'][i] = '<4'    \n",
        "  elif (val <= 5) & (val > 4):\n",
        "    data['deezer_rate'][i] = '<5'    \n",
        "  else:\n",
        "    data['deezer_rate'][i] = '>6'"
      ],
      "execution_count": null,
      "outputs": [
        {
          "output_type": "stream",
          "text": [
            "/usr/local/lib/python3.7/dist-packages/ipykernel_launcher.py:11: SettingWithCopyWarning: \n",
            "A value is trying to be set on a copy of a slice from a DataFrame\n",
            "\n",
            "See the caveats in the documentation: https://pandas.pydata.org/pandas-docs/stable/user_guide/indexing.html#returning-a-view-versus-a-copy\n",
            "  # This is added back by InteractiveShellApp.init_path()\n",
            "/usr/local/lib/python3.7/dist-packages/ipykernel_launcher.py:7: SettingWithCopyWarning: \n",
            "A value is trying to be set on a copy of a slice from a DataFrame\n",
            "\n",
            "See the caveats in the documentation: https://pandas.pydata.org/pandas-docs/stable/user_guide/indexing.html#returning-a-view-versus-a-copy\n",
            "  import sys\n",
            "/usr/local/lib/python3.7/dist-packages/ipykernel_launcher.py:5: SettingWithCopyWarning: \n",
            "A value is trying to be set on a copy of a slice from a DataFrame\n",
            "\n",
            "See the caveats in the documentation: https://pandas.pydata.org/pandas-docs/stable/user_guide/indexing.html#returning-a-view-versus-a-copy\n",
            "  \"\"\"\n",
            "/usr/local/lib/python3.7/dist-packages/ipykernel_launcher.py:9: SettingWithCopyWarning: \n",
            "A value is trying to be set on a copy of a slice from a DataFrame\n",
            "\n",
            "See the caveats in the documentation: https://pandas.pydata.org/pandas-docs/stable/user_guide/indexing.html#returning-a-view-versus-a-copy\n",
            "  if __name__ == '__main__':\n",
            "/usr/local/lib/python3.7/dist-packages/ipykernel_launcher.py:15: SettingWithCopyWarning: \n",
            "A value is trying to be set on a copy of a slice from a DataFrame\n",
            "\n",
            "See the caveats in the documentation: https://pandas.pydata.org/pandas-docs/stable/user_guide/indexing.html#returning-a-view-versus-a-copy\n",
            "  from ipykernel import kernelapp as app\n",
            "/usr/local/lib/python3.7/dist-packages/ipykernel_launcher.py:13: SettingWithCopyWarning: \n",
            "A value is trying to be set on a copy of a slice from a DataFrame\n",
            "\n",
            "See the caveats in the documentation: https://pandas.pydata.org/pandas-docs/stable/user_guide/indexing.html#returning-a-view-versus-a-copy\n",
            "  del sys.path[0]\n"
          ],
          "name": "stderr"
        }
      ]
    },
    {
      "cell_type": "code",
      "metadata": {
        "colab": {
          "base_uri": "https://localhost:8080/",
          "height": 204
        },
        "id": "Fs8Oj-GTU9Ph",
        "outputId": "b09f1c6d-12ed-4e8d-d404-d72a3cf52a12"
      },
      "source": [
        "data.head()"
      ],
      "execution_count": null,
      "outputs": [
        {
          "output_type": "execute_result",
          "data": {
            "text/html": [
              "<div>\n",
              "<style scoped>\n",
              "    .dataframe tbody tr th:only-of-type {\n",
              "        vertical-align: middle;\n",
              "    }\n",
              "\n",
              "    .dataframe tbody tr th {\n",
              "        vertical-align: top;\n",
              "    }\n",
              "\n",
              "    .dataframe thead th {\n",
              "        text-align: right;\n",
              "    }\n",
              "</style>\n",
              "<table border=\"1\" class=\"dataframe\">\n",
              "  <thead>\n",
              "    <tr style=\"text-align: right;\">\n",
              "      <th></th>\n",
              "      <th>index</th>\n",
              "      <th>song</th>\n",
              "      <th>year</th>\n",
              "      <th>artist</th>\n",
              "      <th>genre</th>\n",
              "      <th>lyrics</th>\n",
              "      <th>spotify_streams</th>\n",
              "      <th>deezer_rate</th>\n",
              "      <th>youtube_views</th>\n",
              "    </tr>\n",
              "  </thead>\n",
              "  <tbody>\n",
              "    <tr>\n",
              "      <th>0</th>\n",
              "      <td>248635</td>\n",
              "      <td>live-for-the-one-you-love</td>\n",
              "      <td>2008</td>\n",
              "      <td>celine-dion</td>\n",
              "      <td>Pop</td>\n",
              "      <td>A million stars light This beautiful night Thi...</td>\n",
              "      <td>1724337.0</td>\n",
              "      <td>&lt;4</td>\n",
              "      <td>104000</td>\n",
              "    </tr>\n",
              "    <tr>\n",
              "      <th>1</th>\n",
              "      <td>362048</td>\n",
              "      <td>watch-this</td>\n",
              "      <td>2006</td>\n",
              "      <td>clay-walker</td>\n",
              "      <td>Country</td>\n",
              "      <td>If you've never felt what happens When two hea...</td>\n",
              "      <td>751902.0</td>\n",
              "      <td>&lt;2</td>\n",
              "      <td>301000</td>\n",
              "    </tr>\n",
              "    <tr>\n",
              "      <th>2</th>\n",
              "      <td>316112</td>\n",
              "      <td>stormy-ballad-of-a-vampire</td>\n",
              "      <td>2008</td>\n",
              "      <td>blind-iris</td>\n",
              "      <td>Rock</td>\n",
              "      <td>Stormy says the sun is too bright She sleeps i...</td>\n",
              "      <td>1000.0</td>\n",
              "      <td>&lt;1</td>\n",
              "      <td>43</td>\n",
              "    </tr>\n",
              "    <tr>\n",
              "      <th>3</th>\n",
              "      <td>23395</td>\n",
              "      <td>the-revelation-embodied</td>\n",
              "      <td>2007</td>\n",
              "      <td>cult-of-luna</td>\n",
              "      <td>Rock</td>\n",
              "      <td>A time lost to the sick crowd of a new demonic...</td>\n",
              "      <td>117748.0</td>\n",
              "      <td>&lt;1</td>\n",
              "      <td>2300</td>\n",
              "    </tr>\n",
              "    <tr>\n",
              "      <th>4</th>\n",
              "      <td>234977</td>\n",
              "      <td>orgasm-through-torture</td>\n",
              "      <td>2006</td>\n",
              "      <td>cannibal-corpse</td>\n",
              "      <td>Metal</td>\n",
              "      <td>Suffer to survive Instinct I despise Stalking ...</td>\n",
              "      <td>216642.0</td>\n",
              "      <td>&lt;2</td>\n",
              "      <td>40 000</td>\n",
              "    </tr>\n",
              "  </tbody>\n",
              "</table>\n",
              "</div>"
            ],
            "text/plain": [
              "    index                        song  ...  deezer_rate youtube_views\n",
              "0  248635   live-for-the-one-you-love  ...           <4        104000\n",
              "1  362048                  watch-this  ...           <2        301000\n",
              "2  316112  stormy-ballad-of-a-vampire  ...           <1            43\n",
              "3   23395     the-revelation-embodied  ...           <1          2300\n",
              "4  234977      orgasm-through-torture  ...           <2        40 000\n",
              "\n",
              "[5 rows x 9 columns]"
            ]
          },
          "metadata": {
            "tags": []
          },
          "execution_count": 117
        }
      ]
    },
    {
      "cell_type": "code",
      "metadata": {
        "colab": {
          "base_uri": "https://localhost:8080/"
        },
        "id": "Df-GgAJiU9Ph",
        "outputId": "c2912d12-d8f2-42f5-8732-ecd005751f54"
      },
      "source": [
        "lyrics_data = data['lyrics'].values\n",
        "max_words = 1000\n",
        "\n",
        "# Create a new Tokenizer\n",
        "tokenizer = text.Tokenizer(num_words=max_words, oov_token='<UNK>')\n",
        "# Feed our song lyrics to the Tokenizer\n",
        "tokenizer.fit_on_texts(lyrics_data)\n",
        "\n",
        "# Tokenizers come with a convenient list of words and IDs\n",
        "dictionary = tokenizer.word_index\n",
        "\n",
        "with open('dictionary.json', 'w') as dictionary_file:\n",
        "    json.dump(dictionary, dictionary_file)\n",
        "    \n",
        "tokenizer.word_index = {e:i for e,i in tokenizer.word_index.items() if i <= max_words} # <= because tokenizer is 1 indexed\n",
        "tokenizer.word_index[tokenizer.oov_token] = max_words + 1\n",
        "indexed_data = tokenizer.texts_to_sequences(lyrics_data)\n",
        "indexed_data = np.array(indexed_data)\n",
        "\n",
        "label_encoder = skpp.LabelEncoder()\n",
        "indexed_labels = np.array(label_encoder.fit_transform(data['deezer_rate'].values))\n",
        "\n",
        "\n",
        "num_test = 25 #76 linesin total, 25 are kept for testing, 51 for training\n",
        "\n",
        "# Shuffle data before splitting off test set\n",
        "random_indexes = np.random.permutation(len(indexed_labels))\n",
        "indexed_data = indexed_data[random_indexes]\n",
        "indexed_labels = indexed_labels[random_indexes]\n",
        "\n",
        "X_train = indexed_data[:-num_test]\n",
        "y_train = indexed_labels[:-num_test]\n",
        "X_test  = indexed_data[-num_test:]\n",
        "y_test  = indexed_labels[-num_test:]\n",
        "\n",
        "y_train = keras.utils.to_categorical(y_train)\n",
        "y_test = keras.utils.to_categorical(y_test)\n",
        "\n",
        "num_words = max_words + 2\n",
        "# Truncate and pad input sequences\n",
        "max_review_length = 500\n",
        "\n",
        "X_train_padded = sequence.pad_sequences(X_train, maxlen=max_review_length)\n",
        "X_test_padded = sequence.pad_sequences(X_test, maxlen=max_review_length)"
      ],
      "execution_count": null,
      "outputs": [
        {
          "output_type": "stream",
          "text": [
            "/usr/local/lib/python3.7/dist-packages/ipykernel_launcher.py:18: VisibleDeprecationWarning: Creating an ndarray from ragged nested sequences (which is a list-or-tuple of lists-or-tuples-or ndarrays with different lengths or shapes) is deprecated. If you meant to do this, you must specify 'dtype=object' when creating the ndarray\n"
          ],
          "name": "stderr"
        }
      ]
    },
    {
      "cell_type": "code",
      "metadata": {
        "colab": {
          "base_uri": "https://localhost:8080/"
        },
        "id": "ZNShr6ySU9Ph",
        "outputId": "f352a0bf-45c7-41ae-d471-6c1378e00f19"
      },
      "source": [
        "deezer_str = label_encoder.inverse_transform(np.array([0,1,2,3,4,5]))\n",
        "label_encoder.inverse_transform(np.array([0,1,2,3,4,5]))"
      ],
      "execution_count": null,
      "outputs": [
        {
          "output_type": "execute_result",
          "data": {
            "text/plain": [
              "array(['<1', '<2', '<3', '<4', '<5', '>6'], dtype=object)"
            ]
          },
          "metadata": {
            "tags": []
          },
          "execution_count": 119
        }
      ]
    },
    {
      "cell_type": "code",
      "metadata": {
        "colab": {
          "base_uri": "https://localhost:8080/"
        },
        "id": "zlPJRUQwU9Pi",
        "outputId": "db75cdaf-b17b-484d-d884-acc000c8ca77"
      },
      "source": [
        "y_train.shape"
      ],
      "execution_count": null,
      "outputs": [
        {
          "output_type": "execute_result",
          "data": {
            "text/plain": [
              "(51, 6)"
            ]
          },
          "metadata": {
            "tags": []
          },
          "execution_count": 120
        }
      ]
    },
    {
      "cell_type": "code",
      "metadata": {
        "colab": {
          "base_uri": "https://localhost:8080/"
        },
        "id": "Ak0IlJlpU9Pi",
        "outputId": "2b6c684b-b993-4f7c-cd13-82940071ff79"
      },
      "source": [
        "y_test.shape\n"
      ],
      "execution_count": null,
      "outputs": [
        {
          "output_type": "execute_result",
          "data": {
            "text/plain": [
              "(25, 6)"
            ]
          },
          "metadata": {
            "tags": []
          },
          "execution_count": 121
        }
      ]
    },
    {
      "cell_type": "markdown",
      "metadata": {
        "id": "pkadEEjToSCE"
      },
      "source": [
        "####**3.2.1. FastText Embedding**"
      ]
    },
    {
      "cell_type": "markdown",
      "metadata": {
        "id": "ecLgqXkRpdSO"
      },
      "source": [
        "We then start with the FastText Embedding."
      ]
    },
    {
      "cell_type": "code",
      "metadata": {
        "colab": {
          "base_uri": "https://localhost:8080/"
        },
        "id": "x0HOaSU4U9Pi",
        "outputId": "ccdca971-4e0a-451f-e775-c55b18c9fc50"
      },
      "source": [
        "import codecs\n",
        "from tqdm import tqdm\n",
        "embeddings_index = {}\n",
        "#f = codecs.open('wiki-news-300d-1M.vec', encoding='utf-8') #FastText trained on wikipedia 2017\n",
        "f = codecs.open('crawl-300d-2M.vec', encoding='utf-8') #FastText trained on common crawl\n",
        "for line in tqdm(f):\n",
        "  values = line.rstrip().rsplit(' ')\n",
        "  word = values[0]\n",
        "  coefs = np.asarray(values[1:], dtype='float32')\n",
        "  embeddings_index[word] = coefs\n",
        "f.close()"
      ],
      "execution_count": null,
      "outputs": [
        {
          "output_type": "stream",
          "text": [
            "1999996it [03:45, 8887.07it/s]\n"
          ],
          "name": "stderr"
        }
      ]
    },
    {
      "cell_type": "code",
      "metadata": {
        "colab": {
          "base_uri": "https://localhost:8080/"
        },
        "id": "cR7-ACYzU9Pi",
        "outputId": "4dfde2f5-098e-4afe-d5ff-0795981d3fbf"
      },
      "source": [
        "word_index = tokenizer.word_index\n",
        "MAX_NB_WORDS = 1000\n",
        "embed_dim = 300\n",
        "\n",
        "words_not_found = []\n",
        "nb_words = min(MAX_NB_WORDS, len(word_index)+1)\n",
        "embedding_matrix = np.zeros((nb_words, embed_dim))\n",
        "for word, i in word_index.items():\n",
        "  if i >= nb_words:\n",
        "     continue\n",
        "  embedding_vector = embeddings_index.get(word)\n",
        "  \n",
        "  if (embedding_vector is not None) and len(embedding_vector) > 0:\n",
        "     embedding_matrix[i] = embedding_vector\n",
        "  else:\n",
        "     words_not_found.append(word)\n",
        "print('number of null word embeddings: %d' % np.sum(np.sum(embedding_matrix, axis=1) == 0))"
      ],
      "execution_count": null,
      "outputs": [
        {
          "output_type": "stream",
          "text": [
            "number of null word embeddings: 33\n"
          ],
          "name": "stdout"
        }
      ]
    },
    {
      "cell_type": "code",
      "metadata": {
        "colab": {
          "base_uri": "https://localhost:8080/"
        },
        "id": "75yxdiPQU9Pj",
        "outputId": "92d18bf1-0d6e-4677-e81e-dd5543c63d5b"
      },
      "source": [
        "from keras.layers import BatchNormalization\n",
        "import tensorflow as tf\n",
        "from keras.layers import Dropout\n",
        "\n",
        "\n",
        "# Hyperparameters\n",
        "embedding_vector_length = 50\n",
        "\n",
        "# Create the Bidirectional LSTM model with Keras\n",
        "model_4 = Sequential()\n",
        "model_4.add(Embedding(num_words, embedding_vector_length, input_length=max_review_length))\n",
        "model_4.add(Bidirectional(LSTM(60, return_sequences=True)))\n",
        "model_4.add(GlobalMaxPooling1D())\n",
        "model_4.add(Dense(6, activation='softmax'))\n",
        "model_4.compile(loss='categorical_crossentropy', optimizer='adam', metrics=['accuracy'])\n",
        "\n",
        "print(model_4.summary())"
      ],
      "execution_count": null,
      "outputs": [
        {
          "output_type": "stream",
          "text": [
            "Model: \"sequential_4\"\n",
            "_________________________________________________________________\n",
            "Layer (type)                 Output Shape              Param #   \n",
            "=================================================================\n",
            "embedding_4 (Embedding)      (None, 500, 50)           50100     \n",
            "_________________________________________________________________\n",
            "bidirectional_4 (Bidirection (None, 500, 120)          53280     \n",
            "_________________________________________________________________\n",
            "global_max_pooling1d_4 (Glob (None, 120)               0         \n",
            "_________________________________________________________________\n",
            "dense_4 (Dense)              (None, 6)                 726       \n",
            "=================================================================\n",
            "Total params: 104,106\n",
            "Trainable params: 104,106\n",
            "Non-trainable params: 0\n",
            "_________________________________________________________________\n",
            "None\n"
          ],
          "name": "stdout"
        }
      ]
    },
    {
      "cell_type": "code",
      "metadata": {
        "colab": {
          "base_uri": "https://localhost:8080/"
        },
        "id": "BoYoK7wvU9Pj",
        "outputId": "c830d0f5-70f0-4eb7-e93b-c9623e8926ea"
      },
      "source": [
        "X_train_padded.shape"
      ],
      "execution_count": null,
      "outputs": [
        {
          "output_type": "execute_result",
          "data": {
            "text/plain": [
              "(51, 500)"
            ]
          },
          "metadata": {
            "tags": []
          },
          "execution_count": 125
        }
      ]
    },
    {
      "cell_type": "code",
      "metadata": {
        "colab": {
          "base_uri": "https://localhost:8080/"
        },
        "id": "68PpVJGuU9Pk",
        "outputId": "6f110451-19d0-44f9-8815-a1126e11cb8e"
      },
      "source": [
        "y_train.shape"
      ],
      "execution_count": null,
      "outputs": [
        {
          "output_type": "execute_result",
          "data": {
            "text/plain": [
              "(51, 6)"
            ]
          },
          "metadata": {
            "tags": []
          },
          "execution_count": 126
        }
      ]
    },
    {
      "cell_type": "code",
      "metadata": {
        "colab": {
          "base_uri": "https://localhost:8080/"
        },
        "id": "hvYvcMRuU9Pk",
        "outputId": "d39048a0-7c62-43f6-d17b-6a86da484374"
      },
      "source": [
        "model_4.fit(X_train_padded, y_train, batch_size=10, epochs=30)"
      ],
      "execution_count": null,
      "outputs": [
        {
          "output_type": "stream",
          "text": [
            "Epoch 1/30\n",
            "6/6 [==============================] - 7s 334ms/step - loss: 1.7854 - accuracy: 0.1561\n",
            "Epoch 2/30\n",
            "6/6 [==============================] - 2s 335ms/step - loss: 1.7010 - accuracy: 0.5172\n",
            "Epoch 3/30\n",
            "6/6 [==============================] - 2s 330ms/step - loss: 1.5880 - accuracy: 0.4890\n",
            "Epoch 4/30\n",
            "6/6 [==============================] - 2s 328ms/step - loss: 1.3660 - accuracy: 0.5195\n",
            "Epoch 5/30\n",
            "6/6 [==============================] - 3s 431ms/step - loss: 1.2823 - accuracy: 0.5128\n",
            "Epoch 6/30\n",
            "6/6 [==============================] - 3s 520ms/step - loss: 1.2106 - accuracy: 0.5318\n",
            "Epoch 7/30\n",
            "6/6 [==============================] - 3s 413ms/step - loss: 1.2263 - accuracy: 0.5232\n",
            "Epoch 8/30\n",
            "6/6 [==============================] - 2s 327ms/step - loss: 1.2503 - accuracy: 0.5792\n",
            "Epoch 9/30\n",
            "6/6 [==============================] - 2s 335ms/step - loss: 1.3773 - accuracy: 0.4845\n",
            "Epoch 10/30\n",
            "6/6 [==============================] - 2s 336ms/step - loss: 1.1288 - accuracy: 0.5940\n",
            "Epoch 11/30\n",
            "6/6 [==============================] - 2s 329ms/step - loss: 1.2481 - accuracy: 0.5770\n",
            "Epoch 12/30\n",
            "6/6 [==============================] - 2s 336ms/step - loss: 1.1804 - accuracy: 0.5656\n",
            "Epoch 13/30\n",
            "6/6 [==============================] - 2s 327ms/step - loss: 1.1593 - accuracy: 0.5651\n",
            "Epoch 14/30\n",
            "6/6 [==============================] - 2s 334ms/step - loss: 1.1415 - accuracy: 0.5425\n",
            "Epoch 15/30\n",
            "6/6 [==============================] - 2s 328ms/step - loss: 1.2267 - accuracy: 0.5175\n",
            "Epoch 16/30\n",
            "6/6 [==============================] - 2s 321ms/step - loss: 1.0836 - accuracy: 0.6224\n",
            "Epoch 17/30\n",
            "6/6 [==============================] - 2s 330ms/step - loss: 1.0674 - accuracy: 0.5783\n",
            "Epoch 18/30\n",
            "6/6 [==============================] - 2s 321ms/step - loss: 1.0544 - accuracy: 0.6068\n",
            "Epoch 19/30\n",
            "6/6 [==============================] - 2s 328ms/step - loss: 1.1454 - accuracy: 0.5246\n",
            "Epoch 20/30\n",
            "6/6 [==============================] - 2s 331ms/step - loss: 0.9822 - accuracy: 0.5752\n",
            "Epoch 21/30\n",
            "6/6 [==============================] - 2s 326ms/step - loss: 0.8836 - accuracy: 0.7022\n",
            "Epoch 22/30\n",
            "6/6 [==============================] - 2s 328ms/step - loss: 1.0412 - accuracy: 0.5768\n",
            "Epoch 23/30\n",
            "6/6 [==============================] - 2s 330ms/step - loss: 1.1043 - accuracy: 0.6573\n",
            "Epoch 24/30\n",
            "6/6 [==============================] - 2s 330ms/step - loss: 0.9892 - accuracy: 0.6869\n",
            "Epoch 25/30\n",
            "6/6 [==============================] - 2s 336ms/step - loss: 1.0577 - accuracy: 0.6195\n",
            "Epoch 26/30\n",
            "6/6 [==============================] - 2s 328ms/step - loss: 0.8666 - accuracy: 0.7055\n",
            "Epoch 27/30\n",
            "6/6 [==============================] - 2s 327ms/step - loss: 1.0059 - accuracy: 0.7036\n",
            "Epoch 28/30\n",
            "6/6 [==============================] - 2s 336ms/step - loss: 0.8145 - accuracy: 0.7699\n",
            "Epoch 29/30\n",
            "6/6 [==============================] - 2s 335ms/step - loss: 0.7289 - accuracy: 0.7638\n",
            "Epoch 30/30\n",
            "6/6 [==============================] - 2s 334ms/step - loss: 0.8447 - accuracy: 0.6888\n"
          ],
          "name": "stdout"
        },
        {
          "output_type": "execute_result",
          "data": {
            "text/plain": [
              "<tensorflow.python.keras.callbacks.History at 0x7fcd25f25810>"
            ]
          },
          "metadata": {
            "tags": []
          },
          "execution_count": 127
        }
      ]
    },
    {
      "cell_type": "code",
      "metadata": {
        "id": "ufidLZIEU9Pk"
      },
      "source": [
        "preds_4 = model_4.predict(X_test_padded, batch_size=10)"
      ],
      "execution_count": null,
      "outputs": []
    },
    {
      "cell_type": "code",
      "metadata": {
        "colab": {
          "base_uri": "https://localhost:8080/"
        },
        "id": "mikXvzfxU9Pk",
        "outputId": "ce0839de-05e2-4f26-dd26-3d9561b783b1"
      },
      "source": [
        "preds_4"
      ],
      "execution_count": null,
      "outputs": [
        {
          "output_type": "execute_result",
          "data": {
            "text/plain": [
              "array([[0.70538765, 0.13672033, 0.08856846, 0.02714371, 0.02930493,\n",
              "        0.01287501],\n",
              "       [0.81606936, 0.06838793, 0.04941763, 0.03481695, 0.01844391,\n",
              "        0.0128642 ],\n",
              "       [0.8613256 , 0.05157271, 0.03985428, 0.02211677, 0.01533037,\n",
              "        0.00980034],\n",
              "       [0.76302004, 0.08775935, 0.0602783 , 0.05114028, 0.02151094,\n",
              "        0.01629113],\n",
              "       [0.7998534 , 0.08197015, 0.05379718, 0.03278468, 0.01852385,\n",
              "        0.01307076],\n",
              "       [0.8278081 , 0.07007576, 0.04892381, 0.02518461, 0.01672367,\n",
              "        0.01128404],\n",
              "       [0.83607864, 0.06197612, 0.04668717, 0.02693281, 0.01666556,\n",
              "        0.01165973],\n",
              "       [0.48369125, 0.23645961, 0.11185467, 0.11267778, 0.02571285,\n",
              "        0.02960386],\n",
              "       [0.8374602 , 0.06072188, 0.04658644, 0.02684225, 0.01679412,\n",
              "        0.01159508],\n",
              "       [0.8271346 , 0.0638627 , 0.0494858 , 0.02953891, 0.0178735 ,\n",
              "        0.01210451],\n",
              "       [0.8499361 , 0.05562024, 0.04320759, 0.02455362, 0.01632097,\n",
              "        0.0103613 ],\n",
              "       [0.8285984 , 0.0700068 , 0.04975813, 0.02362425, 0.01644568,\n",
              "        0.01156687],\n",
              "       [0.8206483 , 0.06621438, 0.04841196, 0.03373238, 0.01804796,\n",
              "        0.01294494],\n",
              "       [0.09165635, 0.6836054 , 0.18760198, 0.01449124, 0.00728734,\n",
              "        0.01535758],\n",
              "       [0.8169518 , 0.07460072, 0.05178278, 0.02740073, 0.01728456,\n",
              "        0.01197937],\n",
              "       [0.8274205 , 0.06947852, 0.04821038, 0.02673874, 0.0168204 ,\n",
              "        0.01133141],\n",
              "       [0.83205336, 0.06130185, 0.04738223, 0.02947907, 0.017626  ,\n",
              "        0.01215747],\n",
              "       [0.8444668 , 0.05692137, 0.04329635, 0.02764031, 0.01667876,\n",
              "        0.0109965 ],\n",
              "       [0.84544426, 0.05801487, 0.04329929, 0.02588026, 0.01637062,\n",
              "        0.01099079],\n",
              "       [0.8300858 , 0.06550037, 0.04706128, 0.02838645, 0.01708782,\n",
              "        0.01187826],\n",
              "       [0.8419577 , 0.05918789, 0.04525957, 0.0260744 , 0.0163146 ,\n",
              "        0.01120584],\n",
              "       [0.81273997, 0.07461454, 0.05271845, 0.02898639, 0.0181439 ,\n",
              "        0.0127967 ],\n",
              "       [0.8462937 , 0.05497599, 0.04363985, 0.02761991, 0.01659019,\n",
              "        0.0108804 ],\n",
              "       [0.441866  , 0.22330125, 0.113704  , 0.16114675, 0.02632941,\n",
              "        0.03365255],\n",
              "       [0.83078706, 0.06350369, 0.04633369, 0.03004682, 0.01751206,\n",
              "        0.01181675]], dtype=float32)"
            ]
          },
          "metadata": {
            "tags": []
          },
          "execution_count": 129
        }
      ]
    },
    {
      "cell_type": "code",
      "metadata": {
        "id": "sX3TZO5oU9Pk"
      },
      "source": [
        "preds_app_4 = preds_4"
      ],
      "execution_count": null,
      "outputs": []
    },
    {
      "cell_type": "code",
      "metadata": {
        "id": "2rOmV_A9U9Pk"
      },
      "source": [
        "for i in range(preds_app_4.shape[0]):\n",
        "  for j in range(preds_app_4.shape[1]):\n",
        "    if max(preds_app_4[i,]) == preds_app_4[i,j]:\n",
        "      preds_app_4[i,j] = 1\n",
        "    else:\n",
        "      preds_app_4[i,j] = 0"
      ],
      "execution_count": null,
      "outputs": []
    },
    {
      "cell_type": "code",
      "metadata": {
        "colab": {
          "base_uri": "https://localhost:8080/"
        },
        "id": "vdN63F2hU9Pl",
        "outputId": "66767f02-acac-41d9-8d64-e8d28a1abea0"
      },
      "source": [
        "preds_app_4.shape\n",
        "y_test.shape"
      ],
      "execution_count": null,
      "outputs": [
        {
          "output_type": "execute_result",
          "data": {
            "text/plain": [
              "(25, 6)"
            ]
          },
          "metadata": {
            "tags": []
          },
          "execution_count": 132
        }
      ]
    },
    {
      "cell_type": "code",
      "metadata": {
        "id": "5caiiRqUU9Pl"
      },
      "source": [
        "preds_str_4 = np.zeros((3, preds_app_4.shape[0]))\n",
        "\n",
        "for i in range(preds_app_4.shape[0]):\n",
        "  for j in range(preds_app_4.shape[1]):\n",
        "    if (y_test[i,j] == 1) & (preds_app_4[i,j] == 1):\n",
        "      preds_str_4[0,i] = j\n",
        "      preds_str_4[1,i] = j\n",
        "      preds_str_4[2,i] = 1\n",
        "    elif (y_test[i,j] == 0) & (preds_app_4[i,j] == 1):\n",
        "      preds_str_4[1,i] = j\n",
        "    elif (y_test[i,j] == 1) & (preds_app_4[i,j] == 0):\n",
        "      preds_str_4[0,i] = j\n",
        "    else :\n",
        "      True"
      ],
      "execution_count": null,
      "outputs": []
    },
    {
      "cell_type": "code",
      "metadata": {
        "colab": {
          "base_uri": "https://localhost:8080/"
        },
        "id": "UOlHZ2SqU9Pl",
        "outputId": "025bfd0b-19cb-4fe4-fc33-81fa101ba884"
      },
      "source": [
        "preds_str_4"
      ],
      "execution_count": null,
      "outputs": [
        {
          "output_type": "execute_result",
          "data": {
            "text/plain": [
              "array([[5., 0., 0., 1., 1., 1., 1., 0., 1., 4., 0., 3., 0., 3., 1., 0.,\n",
              "        0., 1., 0., 0., 3., 1., 0., 0., 1.],\n",
              "       [0., 0., 0., 0., 0., 0., 0., 0., 0., 0., 0., 0., 0., 1., 0., 0.,\n",
              "        0., 0., 0., 0., 0., 0., 0., 0., 0.],\n",
              "       [0., 1., 1., 0., 0., 0., 0., 1., 0., 0., 1., 0., 1., 0., 0., 1.,\n",
              "        1., 0., 1., 1., 0., 0., 1., 1., 0.]])"
            ]
          },
          "metadata": {
            "tags": []
          },
          "execution_count": 134
        }
      ]
    },
    {
      "cell_type": "code",
      "metadata": {
        "colab": {
          "base_uri": "https://localhost:8080/"
        },
        "id": "mMmoBxjEU9Pl",
        "outputId": "644a2441-87da-45ca-cf6a-b03a257d12e6"
      },
      "source": [
        "deezer_str"
      ],
      "execution_count": null,
      "outputs": [
        {
          "output_type": "execute_result",
          "data": {
            "text/plain": [
              "array(['<1', '<2', '<3', '<4', '<5', '>6'], dtype=object)"
            ]
          },
          "metadata": {
            "tags": []
          },
          "execution_count": 135
        }
      ]
    },
    {
      "cell_type": "markdown",
      "metadata": {
        "id": "T69OzyyjU9Pl"
      },
      "source": [
        "**Number of accurate predictions :**"
      ]
    },
    {
      "cell_type": "code",
      "metadata": {
        "colab": {
          "base_uri": "https://localhost:8080/"
        },
        "id": "RYTYhywLU9Pl",
        "outputId": "d170a482-5e56-4ff6-d713-753d2f35597c"
      },
      "source": [
        "sum(sum(preds_str_4[[2]]))\n"
      ],
      "execution_count": null,
      "outputs": [
        {
          "output_type": "execute_result",
          "data": {
            "text/plain": [
              "11.0"
            ]
          },
          "metadata": {
            "tags": []
          },
          "execution_count": 136
        }
      ]
    },
    {
      "cell_type": "markdown",
      "metadata": {
        "id": "hke4JmKSU9Pm"
      },
      "source": [
        "**Error Rate :**"
      ]
    },
    {
      "cell_type": "code",
      "metadata": {
        "colab": {
          "base_uri": "https://localhost:8080/"
        },
        "id": "ryD9Noo1U9Pm",
        "outputId": "9eabd431-bfa8-4a1f-c39f-78134b7d1aae"
      },
      "source": [
        "(preds_str_4.shape[1] - sum(sum(preds_str_4[[2]])))/preds_str_4.shape[1]"
      ],
      "execution_count": null,
      "outputs": [
        {
          "output_type": "execute_result",
          "data": {
            "text/plain": [
              "0.56"
            ]
          },
          "metadata": {
            "tags": []
          },
          "execution_count": 137
        }
      ]
    },
    {
      "cell_type": "markdown",
      "metadata": {
        "id": "7exNGtfgU9Pm"
      },
      "source": [
        "The Bidirectionnal LSTM with FastText Embedding gives us an error of 56 % on success prediction measured with the Deezer Rate. Which means that 44% of the predictions are correct."
      ]
    },
    {
      "cell_type": "markdown",
      "metadata": {
        "id": "AwTq9biQpZhU"
      },
      "source": [
        "####**3.2.2. GloVe Embedding**"
      ]
    },
    {
      "cell_type": "markdown",
      "metadata": {
        "id": "UcWnhkpSU9Pm"
      },
      "source": [
        "Now for GloVe embedding"
      ]
    },
    {
      "cell_type": "code",
      "metadata": {
        "colab": {
          "base_uri": "https://localhost:8080/"
        },
        "id": "eOR3CXjnU9Pm",
        "outputId": "f2b191d4-5f61-49cc-a7b3-4eb9720c38fa"
      },
      "source": [
        "import codecs\n",
        "from tqdm import tqdm\n",
        "embeddings_index = {}\n",
        "f = codecs.open('glove.840B.300d.txt', encoding='utf-8') #GloVe trained on common crawl\n",
        "for line in tqdm(f):\n",
        "  values = line.rstrip().rsplit(' ')\n",
        "  word = values[0]\n",
        "  coefs = np.asarray(values[1:], dtype='float32')\n",
        "  embeddings_index[word] = coefs\n",
        "f.close()"
      ],
      "execution_count": null,
      "outputs": [
        {
          "output_type": "stream",
          "text": [
            "2196018it [04:42, 7780.93it/s]\n"
          ],
          "name": "stderr"
        }
      ]
    },
    {
      "cell_type": "code",
      "metadata": {
        "colab": {
          "base_uri": "https://localhost:8080/"
        },
        "id": "mX_h8ccjU9Pm",
        "outputId": "e5e1b744-31dc-47af-ace8-f8f4da98a4c7"
      },
      "source": [
        "word_index = tokenizer.word_index\n",
        "MAX_NB_WORDS = 1000\n",
        "embed_dim = 300\n",
        "\n",
        "words_not_found = []\n",
        "nb_words = min(MAX_NB_WORDS, len(word_index)+1)\n",
        "embedding_matrix = np.zeros((nb_words, embed_dim))\n",
        "for word, i in word_index.items():\n",
        "  if i >= nb_words:\n",
        "     continue\n",
        "  embedding_vector = embeddings_index.get(word)\n",
        "  \n",
        "  if (embedding_vector is not None) and len(embedding_vector) > 0:\n",
        "     embedding_matrix[i] = embedding_vector\n",
        "  else:\n",
        "     words_not_found.append(word)\n",
        "print('number of null word embeddings: %d' % np.sum(np.sum(embedding_matrix, axis=1) == 0))"
      ],
      "execution_count": null,
      "outputs": [
        {
          "output_type": "stream",
          "text": [
            "number of null word embeddings: 38\n"
          ],
          "name": "stdout"
        }
      ]
    },
    {
      "cell_type": "code",
      "metadata": {
        "colab": {
          "base_uri": "https://localhost:8080/"
        },
        "id": "frtYXy3vU9Pm",
        "outputId": "8e6d068f-8994-453a-ad50-043c98cab680"
      },
      "source": [
        "from keras.layers import BatchNormalization\n",
        "import tensorflow as tf\n",
        "from keras.layers import Dropout\n",
        "\n",
        "\n",
        "# Hyperparameters\n",
        "embedding_vector_length = 50\n",
        "\n",
        "# Create the Bidirectional LSTM model with Keras\n",
        "model_5 = Sequential()\n",
        "model_5.add(Embedding(num_words, embedding_vector_length, input_length=max_review_length))\n",
        "model_5.add(Bidirectional(LSTM(60, return_sequences=True)))\n",
        "model_5.add(GlobalMaxPooling1D())\n",
        "model_5.add(Dense(6, activation='softmax'))\n",
        "model_5.compile(loss='categorical_crossentropy', optimizer='adam', metrics=['accuracy'])\n",
        "\n",
        "print(model_5.summary())"
      ],
      "execution_count": null,
      "outputs": [
        {
          "output_type": "stream",
          "text": [
            "Model: \"sequential_5\"\n",
            "_________________________________________________________________\n",
            "Layer (type)                 Output Shape              Param #   \n",
            "=================================================================\n",
            "embedding_5 (Embedding)      (None, 500, 50)           50100     \n",
            "_________________________________________________________________\n",
            "bidirectional_5 (Bidirection (None, 500, 120)          53280     \n",
            "_________________________________________________________________\n",
            "global_max_pooling1d_5 (Glob (None, 120)               0         \n",
            "_________________________________________________________________\n",
            "dense_5 (Dense)              (None, 6)                 726       \n",
            "=================================================================\n",
            "Total params: 104,106\n",
            "Trainable params: 104,106\n",
            "Non-trainable params: 0\n",
            "_________________________________________________________________\n",
            "None\n"
          ],
          "name": "stdout"
        }
      ]
    },
    {
      "cell_type": "code",
      "metadata": {
        "colab": {
          "base_uri": "https://localhost:8080/"
        },
        "id": "6zgJd68mU9Pn",
        "outputId": "445a12b0-a92b-4afd-9d6d-f5ca103c4324"
      },
      "source": [
        "model_5.fit(X_train_padded, y_train, batch_size=10, epochs=30)"
      ],
      "execution_count": null,
      "outputs": [
        {
          "output_type": "stream",
          "text": [
            "Epoch 1/30\n",
            "6/6 [==============================] - 6s 331ms/step - loss: 1.7852 - accuracy: 0.1912\n",
            "Epoch 2/30\n",
            "6/6 [==============================] - 2s 328ms/step - loss: 1.7015 - accuracy: 0.5290\n",
            "Epoch 3/30\n",
            "6/6 [==============================] - 2s 336ms/step - loss: 1.5927 - accuracy: 0.5373\n",
            "Epoch 4/30\n",
            "6/6 [==============================] - 2s 334ms/step - loss: 1.3931 - accuracy: 0.5159\n",
            "Epoch 5/30\n",
            "6/6 [==============================] - 2s 330ms/step - loss: 1.4522 - accuracy: 0.4509\n",
            "Epoch 6/30\n",
            "6/6 [==============================] - 2s 330ms/step - loss: 1.2748 - accuracy: 0.5576\n",
            "Epoch 7/30\n",
            "6/6 [==============================] - 2s 331ms/step - loss: 1.3104 - accuracy: 0.4926\n",
            "Epoch 8/30\n",
            "6/6 [==============================] - 2s 342ms/step - loss: 1.2930 - accuracy: 0.4611\n",
            "Epoch 9/30\n",
            "6/6 [==============================] - 2s 341ms/step - loss: 1.3471 - accuracy: 0.4349\n",
            "Epoch 10/30\n",
            "6/6 [==============================] - 2s 338ms/step - loss: 1.1636 - accuracy: 0.5457\n",
            "Epoch 11/30\n",
            "6/6 [==============================] - 2s 327ms/step - loss: 1.1705 - accuracy: 0.5278\n",
            "Epoch 12/30\n",
            "6/6 [==============================] - 2s 334ms/step - loss: 1.2325 - accuracy: 0.5207\n",
            "Epoch 13/30\n",
            "6/6 [==============================] - 2s 339ms/step - loss: 1.2410 - accuracy: 0.5218\n",
            "Epoch 14/30\n",
            "6/6 [==============================] - 2s 337ms/step - loss: 1.3065 - accuracy: 0.5202\n",
            "Epoch 15/30\n",
            "6/6 [==============================] - 2s 329ms/step - loss: 1.1395 - accuracy: 0.5673\n",
            "Epoch 16/30\n",
            "6/6 [==============================] - 2s 332ms/step - loss: 1.1608 - accuracy: 0.5770\n",
            "Epoch 17/30\n",
            "6/6 [==============================] - 2s 337ms/step - loss: 1.1163 - accuracy: 0.5316\n",
            "Epoch 18/30\n",
            "6/6 [==============================] - 2s 335ms/step - loss: 1.2418 - accuracy: 0.4471\n",
            "Epoch 19/30\n",
            "6/6 [==============================] - 2s 345ms/step - loss: 1.0202 - accuracy: 0.5892\n",
            "Epoch 20/30\n",
            "6/6 [==============================] - 2s 329ms/step - loss: 1.0649 - accuracy: 0.5712\n",
            "Epoch 21/30\n",
            "6/6 [==============================] - 2s 328ms/step - loss: 0.9046 - accuracy: 0.7108\n",
            "Epoch 22/30\n",
            "6/6 [==============================] - 2s 327ms/step - loss: 0.9313 - accuracy: 0.7533\n",
            "Epoch 23/30\n",
            "6/6 [==============================] - 2s 335ms/step - loss: 0.9292 - accuracy: 0.6982\n",
            "Epoch 24/30\n",
            "6/6 [==============================] - 2s 330ms/step - loss: 0.7668 - accuracy: 0.7472\n",
            "Epoch 25/30\n",
            "6/6 [==============================] - 2s 328ms/step - loss: 0.7554 - accuracy: 0.7262\n",
            "Epoch 26/30\n",
            "6/6 [==============================] - 2s 327ms/step - loss: 0.8342 - accuracy: 0.6474\n",
            "Epoch 27/30\n",
            "6/6 [==============================] - 2s 328ms/step - loss: 0.6602 - accuracy: 0.7460\n",
            "Epoch 28/30\n",
            "6/6 [==============================] - 2s 331ms/step - loss: 0.6794 - accuracy: 0.6853\n",
            "Epoch 29/30\n",
            "6/6 [==============================] - 2s 331ms/step - loss: 0.5328 - accuracy: 0.7729\n",
            "Epoch 30/30\n",
            "6/6 [==============================] - 2s 329ms/step - loss: 0.5790 - accuracy: 0.7260\n"
          ],
          "name": "stdout"
        },
        {
          "output_type": "execute_result",
          "data": {
            "text/plain": [
              "<tensorflow.python.keras.callbacks.History at 0x7fcd1f432ad0>"
            ]
          },
          "metadata": {
            "tags": []
          },
          "execution_count": 141
        }
      ]
    },
    {
      "cell_type": "code",
      "metadata": {
        "colab": {
          "base_uri": "https://localhost:8080/"
        },
        "id": "Gc_wWeU6U9Pn",
        "outputId": "5a08c288-6c31-4ab1-b4bb-015688d5b16c"
      },
      "source": [
        "preds_5 = model_5.predict(X_test_padded, batch_size=10)"
      ],
      "execution_count": null,
      "outputs": [
        {
          "output_type": "stream",
          "text": [
            "WARNING:tensorflow:5 out of the last 87 calls to <function Model.make_predict_function.<locals>.predict_function at 0x7fcd1e89a320> triggered tf.function retracing. Tracing is expensive and the excessive number of tracings could be due to (1) creating @tf.function repeatedly in a loop, (2) passing tensors with different shapes, (3) passing Python objects instead of tensors. For (1), please define your @tf.function outside of the loop. For (2), @tf.function has experimental_relax_shapes=True option that relaxes argument shapes that can avoid unnecessary retracing. For (3), please refer to https://www.tensorflow.org/guide/function#controlling_retracing and https://www.tensorflow.org/api_docs/python/tf/function for  more details.\n"
          ],
          "name": "stdout"
        }
      ]
    },
    {
      "cell_type": "code",
      "metadata": {
        "id": "eFw1WspTU9Pn"
      },
      "source": [
        "preds_app_5 = preds_5"
      ],
      "execution_count": null,
      "outputs": []
    },
    {
      "cell_type": "code",
      "metadata": {
        "id": "Y9NEvQcUU9Pn"
      },
      "source": [
        "for i in range(preds_app_5.shape[0]):\n",
        "  for j in range(preds_app_5.shape[1]):\n",
        "    if max(preds_app_5[i,]) == preds_app_5[i,j]:\n",
        "      preds_app_5[i,j] = 1\n",
        "    else:\n",
        "      preds_app_5[i,j] = 0"
      ],
      "execution_count": null,
      "outputs": []
    },
    {
      "cell_type": "code",
      "metadata": {
        "id": "zz4c8ZQdU9Pn"
      },
      "source": [
        "preds_str_5 = np.zeros((3, preds_app_5.shape[0]))\n",
        "\n",
        "for i in range(preds_app_5.shape[0]):\n",
        "  for j in range(preds_app_5.shape[1]):\n",
        "    if (y_test[i,j] == 1) & (preds_app_5[i,j] == 1):\n",
        "      preds_str_5[0,i] = j\n",
        "      preds_str_5[1,i] = j\n",
        "      preds_str_5[2,i] = 1\n",
        "    elif (y_test[i,j] == 0) & (preds_app_5[i,j] == 1):\n",
        "      preds_str_5[1,i] = j\n",
        "    elif (y_test[i,j] == 1) & (preds_app_5[i,j] == 0):\n",
        "      preds_str_5[0,i] = j\n",
        "    else :\n",
        "      True"
      ],
      "execution_count": null,
      "outputs": []
    },
    {
      "cell_type": "code",
      "metadata": {
        "colab": {
          "base_uri": "https://localhost:8080/"
        },
        "id": "mzKge0D8U9Pn",
        "outputId": "f87f801a-0e0f-49b0-dde4-20ab9fcc721c"
      },
      "source": [
        "preds_str_5"
      ],
      "execution_count": null,
      "outputs": [
        {
          "output_type": "execute_result",
          "data": {
            "text/plain": [
              "array([[5., 0., 0., 1., 1., 1., 1., 0., 1., 4., 0., 3., 0., 3., 1., 0.,\n",
              "        0., 1., 0., 0., 3., 1., 0., 0., 1.],\n",
              "       [1., 1., 0., 0., 1., 1., 1., 1., 1., 1., 1., 1., 0., 1., 1., 1.,\n",
              "        1., 0., 0., 1., 0., 1., 1., 1., 0.],\n",
              "       [0., 0., 1., 0., 1., 1., 1., 0., 1., 0., 0., 0., 1., 0., 1., 0.,\n",
              "        0., 0., 1., 0., 0., 1., 0., 0., 0.]])"
            ]
          },
          "metadata": {
            "tags": []
          },
          "execution_count": 146
        }
      ]
    },
    {
      "cell_type": "code",
      "metadata": {
        "colab": {
          "base_uri": "https://localhost:8080/"
        },
        "id": "i4Je--OsU9Pn",
        "outputId": "689c9208-5c93-4168-eb5a-ff26bbf71504"
      },
      "source": [
        "deezer_str"
      ],
      "execution_count": null,
      "outputs": [
        {
          "output_type": "execute_result",
          "data": {
            "text/plain": [
              "array(['<1', '<2', '<3', '<4', '<5', '>6'], dtype=object)"
            ]
          },
          "metadata": {
            "tags": []
          },
          "execution_count": 147
        }
      ]
    },
    {
      "cell_type": "markdown",
      "metadata": {
        "id": "yFm-Jdf6U9Po"
      },
      "source": [
        "**Number of accurate predictions :**"
      ]
    },
    {
      "cell_type": "code",
      "metadata": {
        "colab": {
          "base_uri": "https://localhost:8080/"
        },
        "id": "cxUosXEoU9Po",
        "outputId": "487ff769-737e-483f-a2d0-83951c3a7cd3"
      },
      "source": [
        "sum(sum(preds_str_5[[2]]))\n"
      ],
      "execution_count": null,
      "outputs": [
        {
          "output_type": "execute_result",
          "data": {
            "text/plain": [
              "9.0"
            ]
          },
          "metadata": {
            "tags": []
          },
          "execution_count": 148
        }
      ]
    },
    {
      "cell_type": "markdown",
      "metadata": {
        "id": "9NBY5hHQU9Po"
      },
      "source": [
        "**Error Rate :**"
      ]
    },
    {
      "cell_type": "code",
      "metadata": {
        "colab": {
          "base_uri": "https://localhost:8080/"
        },
        "id": "CcmHAb-AU9Po",
        "outputId": "4f23dec0-34f8-4e58-a7cc-0fa2355f39bb"
      },
      "source": [
        "(preds_str_5.shape[1] - sum(sum(preds_str_5[[2]])))/preds_str_5.shape[1]\n"
      ],
      "execution_count": null,
      "outputs": [
        {
          "output_type": "execute_result",
          "data": {
            "text/plain": [
              "0.64"
            ]
          },
          "metadata": {
            "tags": []
          },
          "execution_count": 149
        }
      ]
    },
    {
      "cell_type": "markdown",
      "metadata": {
        "id": "cSS8XBAQU9Po"
      },
      "source": [
        "The Bidirectionnal LSTM with GloVe Embedding gives us an error of 64 % on success prediction measured with the Deezer Rate. Which means that 36% of the predictions are correct."
      ]
    },
    {
      "cell_type": "markdown",
      "metadata": {
        "id": "XKEhxubUnyGi"
      },
      "source": [
        "###**3.3. Number of Youtube views**"
      ]
    },
    {
      "cell_type": "markdown",
      "metadata": {
        "id": "-k-sKgOLfPP7"
      },
      "source": [
        "We realize the same analysis for the success predictions measured with YouTube number of views."
      ]
    },
    {
      "cell_type": "code",
      "metadata": {
        "colab": {
          "base_uri": "https://localhost:8080/",
          "height": 204
        },
        "id": "U-Ik8WngfPP8",
        "outputId": "a85cfb65-3ce1-4ec2-b017-ecc5dc403051"
      },
      "source": [
        "path = '100songs_rempli_final.csv'\n",
        "data_success = pd.read_csv(path, sep= ';', skip_blank_lines=False)\n",
        "data = data_success\n",
        "data.head()"
      ],
      "execution_count": null,
      "outputs": [
        {
          "output_type": "execute_result",
          "data": {
            "text/html": [
              "<div>\n",
              "<style scoped>\n",
              "    .dataframe tbody tr th:only-of-type {\n",
              "        vertical-align: middle;\n",
              "    }\n",
              "\n",
              "    .dataframe tbody tr th {\n",
              "        vertical-align: top;\n",
              "    }\n",
              "\n",
              "    .dataframe thead th {\n",
              "        text-align: right;\n",
              "    }\n",
              "</style>\n",
              "<table border=\"1\" class=\"dataframe\">\n",
              "  <thead>\n",
              "    <tr style=\"text-align: right;\">\n",
              "      <th></th>\n",
              "      <th>index</th>\n",
              "      <th>song</th>\n",
              "      <th>year</th>\n",
              "      <th>artist</th>\n",
              "      <th>genre</th>\n",
              "      <th>lyrics</th>\n",
              "      <th>spotify_streams</th>\n",
              "      <th>deezer_rate</th>\n",
              "      <th>youtube_views</th>\n",
              "    </tr>\n",
              "  </thead>\n",
              "  <tbody>\n",
              "    <tr>\n",
              "      <th>0</th>\n",
              "      <td>248635</td>\n",
              "      <td>live-for-the-one-you-love</td>\n",
              "      <td>2008</td>\n",
              "      <td>celine-dion</td>\n",
              "      <td>Pop</td>\n",
              "      <td>A million stars light This beautiful night Thi...</td>\n",
              "      <td>1724337.0</td>\n",
              "      <td>3,03</td>\n",
              "      <td>104000</td>\n",
              "    </tr>\n",
              "    <tr>\n",
              "      <th>1</th>\n",
              "      <td>117972</td>\n",
              "      <td>perfection</td>\n",
              "      <td>2006</td>\n",
              "      <td>bonnie-tyler</td>\n",
              "      <td>Pop</td>\n",
              "      <td>desmond child diane warren Producer for bonni...</td>\n",
              "      <td>NaN</td>\n",
              "      <td>NaN</td>\n",
              "      <td>18000</td>\n",
              "    </tr>\n",
              "    <tr>\n",
              "      <th>2</th>\n",
              "      <td>362048</td>\n",
              "      <td>watch-this</td>\n",
              "      <td>2006</td>\n",
              "      <td>clay-walker</td>\n",
              "      <td>Country</td>\n",
              "      <td>If you've never felt what happens When two hea...</td>\n",
              "      <td>751902.0</td>\n",
              "      <td>1,45</td>\n",
              "      <td>301000</td>\n",
              "    </tr>\n",
              "    <tr>\n",
              "      <th>3</th>\n",
              "      <td>316112</td>\n",
              "      <td>stormy-ballad-of-a-vampire</td>\n",
              "      <td>2008</td>\n",
              "      <td>blind-iris</td>\n",
              "      <td>Rock</td>\n",
              "      <td>Stormy says the sun is too bright She sleeps i...</td>\n",
              "      <td>1000.0</td>\n",
              "      <td>0,31</td>\n",
              "      <td>43</td>\n",
              "    </tr>\n",
              "    <tr>\n",
              "      <th>4</th>\n",
              "      <td>23395</td>\n",
              "      <td>the-revelation-embodied</td>\n",
              "      <td>2007</td>\n",
              "      <td>cult-of-luna</td>\n",
              "      <td>Rock</td>\n",
              "      <td>A time lost to the sick crowd of a new demonic...</td>\n",
              "      <td>117748.0</td>\n",
              "      <td>0,86</td>\n",
              "      <td>2300</td>\n",
              "    </tr>\n",
              "  </tbody>\n",
              "</table>\n",
              "</div>"
            ],
            "text/plain": [
              "    index                        song  ...  deezer_rate youtube_views\n",
              "0  248635   live-for-the-one-you-love  ...         3,03        104000\n",
              "1  117972                  perfection  ...          NaN         18000\n",
              "2  362048                  watch-this  ...         1,45        301000\n",
              "3  316112  stormy-ballad-of-a-vampire  ...         0,31            43\n",
              "4   23395     the-revelation-embodied  ...         0,86          2300\n",
              "\n",
              "[5 rows x 9 columns]"
            ]
          },
          "metadata": {
            "tags": []
          },
          "execution_count": 150
        }
      ]
    },
    {
      "cell_type": "code",
      "metadata": {
        "colab": {
          "base_uri": "https://localhost:8080/"
        },
        "id": "IZ0Uv0Q5fPP8",
        "outputId": "5e710049-95a1-4edf-e57d-70c6ab85edb8"
      },
      "source": [
        "data.shape"
      ],
      "execution_count": null,
      "outputs": [
        {
          "output_type": "execute_result",
          "data": {
            "text/plain": [
              "(100, 9)"
            ]
          },
          "metadata": {
            "tags": []
          },
          "execution_count": 151
        }
      ]
    },
    {
      "cell_type": "code",
      "metadata": {
        "colab": {
          "base_uri": "https://localhost:8080/"
        },
        "id": "BIsznW5HfPP9",
        "outputId": "0615f330-bf4f-4d18-83c3-bae9d52b11f8"
      },
      "source": [
        "data.dropna(subset=['youtube_views'], inplace=True)\n",
        "data.shape"
      ],
      "execution_count": null,
      "outputs": [
        {
          "output_type": "execute_result",
          "data": {
            "text/plain": [
              "(91, 9)"
            ]
          },
          "metadata": {
            "tags": []
          },
          "execution_count": 152
        }
      ]
    },
    {
      "cell_type": "code",
      "metadata": {
        "colab": {
          "base_uri": "https://localhost:8080/",
          "height": 204
        },
        "id": "wdlJn_r2fPP9",
        "outputId": "eebac883-e6a3-4342-9e93-943ddb859e7e"
      },
      "source": [
        "data = data.reset_index(drop=True)\n",
        "data.head()"
      ],
      "execution_count": null,
      "outputs": [
        {
          "output_type": "execute_result",
          "data": {
            "text/html": [
              "<div>\n",
              "<style scoped>\n",
              "    .dataframe tbody tr th:only-of-type {\n",
              "        vertical-align: middle;\n",
              "    }\n",
              "\n",
              "    .dataframe tbody tr th {\n",
              "        vertical-align: top;\n",
              "    }\n",
              "\n",
              "    .dataframe thead th {\n",
              "        text-align: right;\n",
              "    }\n",
              "</style>\n",
              "<table border=\"1\" class=\"dataframe\">\n",
              "  <thead>\n",
              "    <tr style=\"text-align: right;\">\n",
              "      <th></th>\n",
              "      <th>index</th>\n",
              "      <th>song</th>\n",
              "      <th>year</th>\n",
              "      <th>artist</th>\n",
              "      <th>genre</th>\n",
              "      <th>lyrics</th>\n",
              "      <th>spotify_streams</th>\n",
              "      <th>deezer_rate</th>\n",
              "      <th>youtube_views</th>\n",
              "    </tr>\n",
              "  </thead>\n",
              "  <tbody>\n",
              "    <tr>\n",
              "      <th>0</th>\n",
              "      <td>248635</td>\n",
              "      <td>live-for-the-one-you-love</td>\n",
              "      <td>2008</td>\n",
              "      <td>celine-dion</td>\n",
              "      <td>Pop</td>\n",
              "      <td>A million stars light This beautiful night Thi...</td>\n",
              "      <td>1724337.0</td>\n",
              "      <td>3,03</td>\n",
              "      <td>104000</td>\n",
              "    </tr>\n",
              "    <tr>\n",
              "      <th>1</th>\n",
              "      <td>117972</td>\n",
              "      <td>perfection</td>\n",
              "      <td>2006</td>\n",
              "      <td>bonnie-tyler</td>\n",
              "      <td>Pop</td>\n",
              "      <td>desmond child diane warren Producer for bonni...</td>\n",
              "      <td>NaN</td>\n",
              "      <td>NaN</td>\n",
              "      <td>18000</td>\n",
              "    </tr>\n",
              "    <tr>\n",
              "      <th>2</th>\n",
              "      <td>362048</td>\n",
              "      <td>watch-this</td>\n",
              "      <td>2006</td>\n",
              "      <td>clay-walker</td>\n",
              "      <td>Country</td>\n",
              "      <td>If you've never felt what happens When two hea...</td>\n",
              "      <td>751902.0</td>\n",
              "      <td>1,45</td>\n",
              "      <td>301000</td>\n",
              "    </tr>\n",
              "    <tr>\n",
              "      <th>3</th>\n",
              "      <td>316112</td>\n",
              "      <td>stormy-ballad-of-a-vampire</td>\n",
              "      <td>2008</td>\n",
              "      <td>blind-iris</td>\n",
              "      <td>Rock</td>\n",
              "      <td>Stormy says the sun is too bright She sleeps i...</td>\n",
              "      <td>1000.0</td>\n",
              "      <td>0,31</td>\n",
              "      <td>43</td>\n",
              "    </tr>\n",
              "    <tr>\n",
              "      <th>4</th>\n",
              "      <td>23395</td>\n",
              "      <td>the-revelation-embodied</td>\n",
              "      <td>2007</td>\n",
              "      <td>cult-of-luna</td>\n",
              "      <td>Rock</td>\n",
              "      <td>A time lost to the sick crowd of a new demonic...</td>\n",
              "      <td>117748.0</td>\n",
              "      <td>0,86</td>\n",
              "      <td>2300</td>\n",
              "    </tr>\n",
              "  </tbody>\n",
              "</table>\n",
              "</div>"
            ],
            "text/plain": [
              "    index                        song  ...  deezer_rate youtube_views\n",
              "0  248635   live-for-the-one-you-love  ...         3,03        104000\n",
              "1  117972                  perfection  ...          NaN         18000\n",
              "2  362048                  watch-this  ...         1,45        301000\n",
              "3  316112  stormy-ballad-of-a-vampire  ...         0,31            43\n",
              "4   23395     the-revelation-embodied  ...         0,86          2300\n",
              "\n",
              "[5 rows x 9 columns]"
            ]
          },
          "metadata": {
            "tags": []
          },
          "execution_count": 153
        }
      ]
    },
    {
      "cell_type": "code",
      "metadata": {
        "colab": {
          "base_uri": "https://localhost:8080/",
          "height": 204
        },
        "id": "qcFUzcc_gkSA",
        "outputId": "1fc63b0b-98a5-442b-b6bd-56e805e8dd87"
      },
      "source": [
        "data['youtube_views'] = data['youtube_views'].str.replace(' ','')\n",
        "data.head()"
      ],
      "execution_count": null,
      "outputs": [
        {
          "output_type": "execute_result",
          "data": {
            "text/html": [
              "<div>\n",
              "<style scoped>\n",
              "    .dataframe tbody tr th:only-of-type {\n",
              "        vertical-align: middle;\n",
              "    }\n",
              "\n",
              "    .dataframe tbody tr th {\n",
              "        vertical-align: top;\n",
              "    }\n",
              "\n",
              "    .dataframe thead th {\n",
              "        text-align: right;\n",
              "    }\n",
              "</style>\n",
              "<table border=\"1\" class=\"dataframe\">\n",
              "  <thead>\n",
              "    <tr style=\"text-align: right;\">\n",
              "      <th></th>\n",
              "      <th>index</th>\n",
              "      <th>song</th>\n",
              "      <th>year</th>\n",
              "      <th>artist</th>\n",
              "      <th>genre</th>\n",
              "      <th>lyrics</th>\n",
              "      <th>spotify_streams</th>\n",
              "      <th>deezer_rate</th>\n",
              "      <th>youtube_views</th>\n",
              "    </tr>\n",
              "  </thead>\n",
              "  <tbody>\n",
              "    <tr>\n",
              "      <th>0</th>\n",
              "      <td>248635</td>\n",
              "      <td>live-for-the-one-you-love</td>\n",
              "      <td>2008</td>\n",
              "      <td>celine-dion</td>\n",
              "      <td>Pop</td>\n",
              "      <td>A million stars light This beautiful night Thi...</td>\n",
              "      <td>1724337.0</td>\n",
              "      <td>3,03</td>\n",
              "      <td>104000</td>\n",
              "    </tr>\n",
              "    <tr>\n",
              "      <th>1</th>\n",
              "      <td>117972</td>\n",
              "      <td>perfection</td>\n",
              "      <td>2006</td>\n",
              "      <td>bonnie-tyler</td>\n",
              "      <td>Pop</td>\n",
              "      <td>desmond child diane warren Producer for bonni...</td>\n",
              "      <td>NaN</td>\n",
              "      <td>NaN</td>\n",
              "      <td>18000</td>\n",
              "    </tr>\n",
              "    <tr>\n",
              "      <th>2</th>\n",
              "      <td>362048</td>\n",
              "      <td>watch-this</td>\n",
              "      <td>2006</td>\n",
              "      <td>clay-walker</td>\n",
              "      <td>Country</td>\n",
              "      <td>If you've never felt what happens When two hea...</td>\n",
              "      <td>751902.0</td>\n",
              "      <td>1,45</td>\n",
              "      <td>301000</td>\n",
              "    </tr>\n",
              "    <tr>\n",
              "      <th>3</th>\n",
              "      <td>316112</td>\n",
              "      <td>stormy-ballad-of-a-vampire</td>\n",
              "      <td>2008</td>\n",
              "      <td>blind-iris</td>\n",
              "      <td>Rock</td>\n",
              "      <td>Stormy says the sun is too bright She sleeps i...</td>\n",
              "      <td>1000.0</td>\n",
              "      <td>0,31</td>\n",
              "      <td>43</td>\n",
              "    </tr>\n",
              "    <tr>\n",
              "      <th>4</th>\n",
              "      <td>23395</td>\n",
              "      <td>the-revelation-embodied</td>\n",
              "      <td>2007</td>\n",
              "      <td>cult-of-luna</td>\n",
              "      <td>Rock</td>\n",
              "      <td>A time lost to the sick crowd of a new demonic...</td>\n",
              "      <td>117748.0</td>\n",
              "      <td>0,86</td>\n",
              "      <td>2300</td>\n",
              "    </tr>\n",
              "  </tbody>\n",
              "</table>\n",
              "</div>"
            ],
            "text/plain": [
              "    index                        song  ...  deezer_rate youtube_views\n",
              "0  248635   live-for-the-one-you-love  ...         3,03        104000\n",
              "1  117972                  perfection  ...          NaN         18000\n",
              "2  362048                  watch-this  ...         1,45        301000\n",
              "3  316112  stormy-ballad-of-a-vampire  ...         0,31            43\n",
              "4   23395     the-revelation-embodied  ...         0,86          2300\n",
              "\n",
              "[5 rows x 9 columns]"
            ]
          },
          "metadata": {
            "tags": []
          },
          "execution_count": 154
        }
      ]
    },
    {
      "cell_type": "markdown",
      "metadata": {
        "id": "5eVlxXs5fPP-"
      },
      "source": [
        "We create 6 classes for our variable youtube_views :\n",
        "- $\\leq 10k$ views\n",
        "- $\\leq 50k$ views\n",
        "- $\\leq 100k$ views\n",
        "- $\\leq 500k$ views\n",
        "- $\\leq 1000k$ views\n",
        "- $> 1000k$ views"
      ]
    },
    {
      "cell_type": "code",
      "metadata": {
        "colab": {
          "base_uri": "https://localhost:8080/"
        },
        "id": "FNBZnCjcfPP-",
        "outputId": "d475d60c-7825-420c-e191-beaf28b04a83"
      },
      "source": [
        "for i in range(data.shape[0]):\n",
        "  val = data['youtube_views'][i]  \n",
        "  val = float(val)\n",
        "  if (val <= 10000):\n",
        "    data['youtube_views'][i] = '<10k'   \n",
        "  elif (val <= 50000) & (val > 10000):\n",
        "    data['youtube_views'][i] = '<50k'    \n",
        "  elif (val <= 100000) & (val > 50000):\n",
        "    data['youtube_views'][i] = '<100k'    \n",
        "  elif (val <= 500000) & (val > 100000):\n",
        "    data['youtube_views'][i] = '<500k'    \n",
        "  elif (val <= 1000000) & (val > 500000):\n",
        "    data['youtube_views'][i] = '<1000k'    \n",
        "  else:\n",
        "    data['youtube_views'][i] = '>1000k'"
      ],
      "execution_count": null,
      "outputs": [
        {
          "output_type": "stream",
          "text": [
            "/usr/local/lib/python3.7/dist-packages/ipykernel_launcher.py:11: SettingWithCopyWarning: \n",
            "A value is trying to be set on a copy of a slice from a DataFrame\n",
            "\n",
            "See the caveats in the documentation: https://pandas.pydata.org/pandas-docs/stable/user_guide/indexing.html#returning-a-view-versus-a-copy\n",
            "  # This is added back by InteractiveShellApp.init_path()\n",
            "/usr/local/lib/python3.7/dist-packages/ipykernel_launcher.py:7: SettingWithCopyWarning: \n",
            "A value is trying to be set on a copy of a slice from a DataFrame\n",
            "\n",
            "See the caveats in the documentation: https://pandas.pydata.org/pandas-docs/stable/user_guide/indexing.html#returning-a-view-versus-a-copy\n",
            "  import sys\n",
            "/usr/local/lib/python3.7/dist-packages/ipykernel_launcher.py:5: SettingWithCopyWarning: \n",
            "A value is trying to be set on a copy of a slice from a DataFrame\n",
            "\n",
            "See the caveats in the documentation: https://pandas.pydata.org/pandas-docs/stable/user_guide/indexing.html#returning-a-view-versus-a-copy\n",
            "  \"\"\"\n",
            "/usr/local/lib/python3.7/dist-packages/ipykernel_launcher.py:13: SettingWithCopyWarning: \n",
            "A value is trying to be set on a copy of a slice from a DataFrame\n",
            "\n",
            "See the caveats in the documentation: https://pandas.pydata.org/pandas-docs/stable/user_guide/indexing.html#returning-a-view-versus-a-copy\n",
            "  del sys.path[0]\n",
            "/usr/local/lib/python3.7/dist-packages/ipykernel_launcher.py:9: SettingWithCopyWarning: \n",
            "A value is trying to be set on a copy of a slice from a DataFrame\n",
            "\n",
            "See the caveats in the documentation: https://pandas.pydata.org/pandas-docs/stable/user_guide/indexing.html#returning-a-view-versus-a-copy\n",
            "  if __name__ == '__main__':\n",
            "/usr/local/lib/python3.7/dist-packages/ipykernel_launcher.py:15: SettingWithCopyWarning: \n",
            "A value is trying to be set on a copy of a slice from a DataFrame\n",
            "\n",
            "See the caveats in the documentation: https://pandas.pydata.org/pandas-docs/stable/user_guide/indexing.html#returning-a-view-versus-a-copy\n",
            "  from ipykernel import kernelapp as app\n"
          ],
          "name": "stderr"
        }
      ]
    },
    {
      "cell_type": "code",
      "metadata": {
        "colab": {
          "base_uri": "https://localhost:8080/",
          "height": 204
        },
        "id": "4_O9q-8EfPP-",
        "outputId": "6e5e8b58-1497-4c25-95dd-92a23680cc8f"
      },
      "source": [
        "data.head()"
      ],
      "execution_count": null,
      "outputs": [
        {
          "output_type": "execute_result",
          "data": {
            "text/html": [
              "<div>\n",
              "<style scoped>\n",
              "    .dataframe tbody tr th:only-of-type {\n",
              "        vertical-align: middle;\n",
              "    }\n",
              "\n",
              "    .dataframe tbody tr th {\n",
              "        vertical-align: top;\n",
              "    }\n",
              "\n",
              "    .dataframe thead th {\n",
              "        text-align: right;\n",
              "    }\n",
              "</style>\n",
              "<table border=\"1\" class=\"dataframe\">\n",
              "  <thead>\n",
              "    <tr style=\"text-align: right;\">\n",
              "      <th></th>\n",
              "      <th>index</th>\n",
              "      <th>song</th>\n",
              "      <th>year</th>\n",
              "      <th>artist</th>\n",
              "      <th>genre</th>\n",
              "      <th>lyrics</th>\n",
              "      <th>spotify_streams</th>\n",
              "      <th>deezer_rate</th>\n",
              "      <th>youtube_views</th>\n",
              "    </tr>\n",
              "  </thead>\n",
              "  <tbody>\n",
              "    <tr>\n",
              "      <th>0</th>\n",
              "      <td>248635</td>\n",
              "      <td>live-for-the-one-you-love</td>\n",
              "      <td>2008</td>\n",
              "      <td>celine-dion</td>\n",
              "      <td>Pop</td>\n",
              "      <td>A million stars light This beautiful night Thi...</td>\n",
              "      <td>1724337.0</td>\n",
              "      <td>3,03</td>\n",
              "      <td>&lt;500k</td>\n",
              "    </tr>\n",
              "    <tr>\n",
              "      <th>1</th>\n",
              "      <td>117972</td>\n",
              "      <td>perfection</td>\n",
              "      <td>2006</td>\n",
              "      <td>bonnie-tyler</td>\n",
              "      <td>Pop</td>\n",
              "      <td>desmond child diane warren Producer for bonni...</td>\n",
              "      <td>NaN</td>\n",
              "      <td>NaN</td>\n",
              "      <td>&lt;50k</td>\n",
              "    </tr>\n",
              "    <tr>\n",
              "      <th>2</th>\n",
              "      <td>362048</td>\n",
              "      <td>watch-this</td>\n",
              "      <td>2006</td>\n",
              "      <td>clay-walker</td>\n",
              "      <td>Country</td>\n",
              "      <td>If you've never felt what happens When two hea...</td>\n",
              "      <td>751902.0</td>\n",
              "      <td>1,45</td>\n",
              "      <td>&lt;500k</td>\n",
              "    </tr>\n",
              "    <tr>\n",
              "      <th>3</th>\n",
              "      <td>316112</td>\n",
              "      <td>stormy-ballad-of-a-vampire</td>\n",
              "      <td>2008</td>\n",
              "      <td>blind-iris</td>\n",
              "      <td>Rock</td>\n",
              "      <td>Stormy says the sun is too bright She sleeps i...</td>\n",
              "      <td>1000.0</td>\n",
              "      <td>0,31</td>\n",
              "      <td>&lt;10k</td>\n",
              "    </tr>\n",
              "    <tr>\n",
              "      <th>4</th>\n",
              "      <td>23395</td>\n",
              "      <td>the-revelation-embodied</td>\n",
              "      <td>2007</td>\n",
              "      <td>cult-of-luna</td>\n",
              "      <td>Rock</td>\n",
              "      <td>A time lost to the sick crowd of a new demonic...</td>\n",
              "      <td>117748.0</td>\n",
              "      <td>0,86</td>\n",
              "      <td>&lt;10k</td>\n",
              "    </tr>\n",
              "  </tbody>\n",
              "</table>\n",
              "</div>"
            ],
            "text/plain": [
              "    index                        song  ...  deezer_rate youtube_views\n",
              "0  248635   live-for-the-one-you-love  ...         3,03         <500k\n",
              "1  117972                  perfection  ...          NaN          <50k\n",
              "2  362048                  watch-this  ...         1,45         <500k\n",
              "3  316112  stormy-ballad-of-a-vampire  ...         0,31          <10k\n",
              "4   23395     the-revelation-embodied  ...         0,86          <10k\n",
              "\n",
              "[5 rows x 9 columns]"
            ]
          },
          "metadata": {
            "tags": []
          },
          "execution_count": 156
        }
      ]
    },
    {
      "cell_type": "code",
      "metadata": {
        "colab": {
          "base_uri": "https://localhost:8080/"
        },
        "id": "Xxdzha6afPP-",
        "outputId": "8ac17aea-2c4a-49d7-e644-71ded12d0f69"
      },
      "source": [
        "lyrics_data = data['lyrics'].values\n",
        "max_words = 1000\n",
        "\n",
        "# Create a new Tokenizer\n",
        "tokenizer = text.Tokenizer(num_words=max_words, oov_token='<UNK>')\n",
        "# Feed our song lyrics to the Tokenizer\n",
        "tokenizer.fit_on_texts(lyrics_data)\n",
        "\n",
        "# Tokenizers come with a convenient list of words and IDs\n",
        "dictionary = tokenizer.word_index\n",
        "\n",
        "with open('dictionary.json', 'w') as dictionary_file:\n",
        "    json.dump(dictionary, dictionary_file)\n",
        "    \n",
        "tokenizer.word_index = {e:i for e,i in tokenizer.word_index.items() if i <= max_words} # <= because tokenizer is 1 indexed\n",
        "tokenizer.word_index[tokenizer.oov_token] = max_words + 1\n",
        "indexed_data = tokenizer.texts_to_sequences(lyrics_data)\n",
        "indexed_data = np.array(indexed_data)\n",
        "\n",
        "label_encoder = skpp.LabelEncoder()\n",
        "indexed_labels = np.array(label_encoder.fit_transform(data['youtube_views'].values))\n",
        "\n",
        "\n",
        "num_test = 25 #91 linesin total, 25 are kept for testing, 66 for training\n",
        "\n",
        "# Shuffle data before splitting off test set\n",
        "random_indexes = np.random.permutation(len(indexed_labels))\n",
        "indexed_data = indexed_data[random_indexes]\n",
        "indexed_labels = indexed_labels[random_indexes]\n",
        "\n",
        "X_train = indexed_data[:-num_test]\n",
        "y_train = indexed_labels[:-num_test]\n",
        "X_test  = indexed_data[-num_test:]\n",
        "y_test  = indexed_labels[-num_test:]\n",
        "\n",
        "y_train = keras.utils.to_categorical(y_train)\n",
        "y_test = keras.utils.to_categorical(y_test)\n",
        "\n",
        "num_words = max_words + 2\n",
        "# Truncate and pad input sequences\n",
        "max_review_length = 500\n",
        "\n",
        "X_train_padded = sequence.pad_sequences(X_train, maxlen=max_review_length)\n",
        "X_test_padded = sequence.pad_sequences(X_test, maxlen=max_review_length)"
      ],
      "execution_count": null,
      "outputs": [
        {
          "output_type": "stream",
          "text": [
            "/usr/local/lib/python3.7/dist-packages/ipykernel_launcher.py:18: VisibleDeprecationWarning: Creating an ndarray from ragged nested sequences (which is a list-or-tuple of lists-or-tuples-or ndarrays with different lengths or shapes) is deprecated. If you meant to do this, you must specify 'dtype=object' when creating the ndarray\n"
          ],
          "name": "stderr"
        }
      ]
    },
    {
      "cell_type": "code",
      "metadata": {
        "colab": {
          "base_uri": "https://localhost:8080/"
        },
        "id": "ZGgKSCdFfPP_",
        "outputId": "5b09d41b-19ac-44a1-d38b-e0fbe6eed340"
      },
      "source": [
        "youtube_str = label_encoder.inverse_transform(np.array([0,1,2,3,4,5]))\n",
        "label_encoder.inverse_transform(np.array([0,1,2,3,4,5]))"
      ],
      "execution_count": null,
      "outputs": [
        {
          "output_type": "execute_result",
          "data": {
            "text/plain": [
              "array(['<1000k', '<100k', '<10k', '<500k', '<50k', '>1000k'], dtype=object)"
            ]
          },
          "metadata": {
            "tags": []
          },
          "execution_count": 158
        }
      ]
    },
    {
      "cell_type": "code",
      "metadata": {
        "colab": {
          "base_uri": "https://localhost:8080/"
        },
        "id": "91tyfUoVfPP_",
        "outputId": "f03e1e5a-a654-4adc-a2f7-ccd0028936ff"
      },
      "source": [
        "y_train.shape"
      ],
      "execution_count": null,
      "outputs": [
        {
          "output_type": "execute_result",
          "data": {
            "text/plain": [
              "(66, 6)"
            ]
          },
          "metadata": {
            "tags": []
          },
          "execution_count": 159
        }
      ]
    },
    {
      "cell_type": "code",
      "metadata": {
        "colab": {
          "base_uri": "https://localhost:8080/"
        },
        "id": "PbuxhDh6fPP_",
        "outputId": "7d00b318-47a5-4cf8-d619-cb031180642f"
      },
      "source": [
        "y_test.shape\n"
      ],
      "execution_count": null,
      "outputs": [
        {
          "output_type": "execute_result",
          "data": {
            "text/plain": [
              "(25, 6)"
            ]
          },
          "metadata": {
            "tags": []
          },
          "execution_count": 160
        }
      ]
    },
    {
      "cell_type": "markdown",
      "metadata": {
        "id": "3IudjPeLp0If"
      },
      "source": [
        "####**3.2.1. FastText Embedding**"
      ]
    },
    {
      "cell_type": "markdown",
      "metadata": {
        "id": "5tX4VhrAp0If"
      },
      "source": [
        "We then start with the FastText Embedding."
      ]
    },
    {
      "cell_type": "code",
      "metadata": {
        "colab": {
          "base_uri": "https://localhost:8080/"
        },
        "id": "1rda4yJefPP_",
        "outputId": "253f464d-85a0-4f12-dad8-111820e3bb09"
      },
      "source": [
        "import codecs\n",
        "from tqdm import tqdm\n",
        "embeddings_index = {}\n",
        "#f = codecs.open('wiki-news-300d-1M.vec', encoding='utf-8') #FastText trained on wikipedia 2017\n",
        "f = codecs.open('crawl-300d-2M.vec', encoding='utf-8') #FastText trained on common crawl\n",
        "for line in tqdm(f):\n",
        "  values = line.rstrip().rsplit(' ')\n",
        "  word = values[0]\n",
        "  coefs = np.asarray(values[1:], dtype='float32')\n",
        "  embeddings_index[word] = coefs\n",
        "f.close()"
      ],
      "execution_count": null,
      "outputs": [
        {
          "output_type": "stream",
          "text": [
            "1999996it [03:45, 8887.28it/s]\n"
          ],
          "name": "stderr"
        }
      ]
    },
    {
      "cell_type": "code",
      "metadata": {
        "colab": {
          "base_uri": "https://localhost:8080/"
        },
        "id": "Wp0Id3N0fPQA",
        "outputId": "740fc89d-1cb3-41a2-cbfe-0173fa296f67"
      },
      "source": [
        "word_index = tokenizer.word_index\n",
        "MAX_NB_WORDS = 1000\n",
        "embed_dim = 300\n",
        "\n",
        "words_not_found = []\n",
        "nb_words = min(MAX_NB_WORDS, len(word_index)+1)\n",
        "embedding_matrix = np.zeros((nb_words, embed_dim))\n",
        "for word, i in word_index.items():\n",
        "  if i >= nb_words:\n",
        "     continue\n",
        "  embedding_vector = embeddings_index.get(word)\n",
        "  \n",
        "  if (embedding_vector is not None) and len(embedding_vector) > 0:\n",
        "     embedding_matrix[i] = embedding_vector\n",
        "  else:\n",
        "     words_not_found.append(word)\n",
        "print('number of null word embeddings: %d' % np.sum(np.sum(embedding_matrix, axis=1) == 0))"
      ],
      "execution_count": null,
      "outputs": [
        {
          "output_type": "stream",
          "text": [
            "number of null word embeddings: 36\n"
          ],
          "name": "stdout"
        }
      ]
    },
    {
      "cell_type": "code",
      "metadata": {
        "colab": {
          "base_uri": "https://localhost:8080/"
        },
        "id": "7KSLx7xcfPQA",
        "outputId": "8e0ac2df-6777-49c0-fa22-4c1f515af04b"
      },
      "source": [
        "from keras.layers import BatchNormalization\n",
        "import tensorflow as tf\n",
        "from keras.layers import Dropout\n",
        "\n",
        "\n",
        "# Hyperparameters\n",
        "embedding_vector_length = 50\n",
        "\n",
        "# Create the Bidirectional LSTM model with Keras\n",
        "model_6 = Sequential()\n",
        "model_6.add(Embedding(num_words, embedding_vector_length, input_length=max_review_length))\n",
        "model_6.add(Bidirectional(LSTM(60, return_sequences=True)))\n",
        "model_6.add(GlobalMaxPooling1D())\n",
        "model_6.add(Dense(6, activation='softmax'))\n",
        "model_6.compile(loss='categorical_crossentropy', optimizer='adam', metrics=['accuracy'])\n",
        "\n",
        "print(model_6.summary())"
      ],
      "execution_count": null,
      "outputs": [
        {
          "output_type": "stream",
          "text": [
            "Model: \"sequential_6\"\n",
            "_________________________________________________________________\n",
            "Layer (type)                 Output Shape              Param #   \n",
            "=================================================================\n",
            "embedding_6 (Embedding)      (None, 500, 50)           50100     \n",
            "_________________________________________________________________\n",
            "bidirectional_6 (Bidirection (None, 500, 120)          53280     \n",
            "_________________________________________________________________\n",
            "global_max_pooling1d_6 (Glob (None, 120)               0         \n",
            "_________________________________________________________________\n",
            "dense_6 (Dense)              (None, 6)                 726       \n",
            "=================================================================\n",
            "Total params: 104,106\n",
            "Trainable params: 104,106\n",
            "Non-trainable params: 0\n",
            "_________________________________________________________________\n",
            "None\n"
          ],
          "name": "stdout"
        }
      ]
    },
    {
      "cell_type": "code",
      "metadata": {
        "colab": {
          "base_uri": "https://localhost:8080/"
        },
        "id": "-zQV9YijfPQA",
        "outputId": "9bfb48f0-b36f-4ebb-868f-c31084a280f3"
      },
      "source": [
        "X_train_padded.shape"
      ],
      "execution_count": null,
      "outputs": [
        {
          "output_type": "execute_result",
          "data": {
            "text/plain": [
              "(66, 500)"
            ]
          },
          "metadata": {
            "tags": []
          },
          "execution_count": 164
        }
      ]
    },
    {
      "cell_type": "code",
      "metadata": {
        "colab": {
          "base_uri": "https://localhost:8080/"
        },
        "id": "Q0_bB9v2fPQA",
        "outputId": "8ae37c55-87ef-405a-94e6-74c595e50d13"
      },
      "source": [
        "y_train.shape"
      ],
      "execution_count": null,
      "outputs": [
        {
          "output_type": "execute_result",
          "data": {
            "text/plain": [
              "(66, 6)"
            ]
          },
          "metadata": {
            "tags": []
          },
          "execution_count": 165
        }
      ]
    },
    {
      "cell_type": "code",
      "metadata": {
        "colab": {
          "base_uri": "https://localhost:8080/"
        },
        "id": "W8s1dCLafPQA",
        "outputId": "e3755fde-85ab-4e64-ce86-719259d0fd9e"
      },
      "source": [
        "model_6.fit(X_train_padded, y_train, batch_size=10, epochs=30)"
      ],
      "execution_count": null,
      "outputs": [
        {
          "output_type": "stream",
          "text": [
            "Epoch 1/30\n",
            "7/7 [==============================] - 7s 349ms/step - loss: 1.7875 - accuracy: 0.1490\n",
            "Epoch 2/30\n",
            "7/7 [==============================] - 2s 338ms/step - loss: 1.7347 - accuracy: 0.2785\n",
            "Epoch 3/30\n",
            "7/7 [==============================] - 2s 346ms/step - loss: 1.6742 - accuracy: 0.2920\n",
            "Epoch 4/30\n",
            "7/7 [==============================] - 2s 343ms/step - loss: 1.6204 - accuracy: 0.2687\n",
            "Epoch 5/30\n",
            "7/7 [==============================] - 2s 344ms/step - loss: 1.5523 - accuracy: 0.3089\n",
            "Epoch 6/30\n",
            "7/7 [==============================] - 2s 340ms/step - loss: 1.5794 - accuracy: 0.2420\n",
            "Epoch 7/30\n",
            "7/7 [==============================] - 2s 351ms/step - loss: 1.5850 - accuracy: 0.3108\n",
            "Epoch 8/30\n",
            "7/7 [==============================] - 2s 341ms/step - loss: 1.5413 - accuracy: 0.2801\n",
            "Epoch 9/30\n",
            "7/7 [==============================] - 2s 345ms/step - loss: 1.5318 - accuracy: 0.4164\n",
            "Epoch 10/30\n",
            "7/7 [==============================] - 2s 336ms/step - loss: 1.4112 - accuracy: 0.5559\n",
            "Epoch 11/30\n",
            "7/7 [==============================] - 2s 341ms/step - loss: 1.3289 - accuracy: 0.4895\n",
            "Epoch 12/30\n",
            "7/7 [==============================] - 2s 344ms/step - loss: 1.3987 - accuracy: 0.4377\n",
            "Epoch 13/30\n",
            "7/7 [==============================] - 2s 341ms/step - loss: 1.2494 - accuracy: 0.6259\n",
            "Epoch 14/30\n",
            "7/7 [==============================] - 2s 338ms/step - loss: 1.1652 - accuracy: 0.5866\n",
            "Epoch 15/30\n",
            "7/7 [==============================] - 2s 346ms/step - loss: 1.0501 - accuracy: 0.7453\n",
            "Epoch 16/30\n",
            "7/7 [==============================] - 2s 345ms/step - loss: 1.1045 - accuracy: 0.5661\n",
            "Epoch 17/30\n",
            "7/7 [==============================] - 2s 345ms/step - loss: 1.1896 - accuracy: 0.4826\n",
            "Epoch 18/30\n",
            "7/7 [==============================] - 2s 342ms/step - loss: 1.3050 - accuracy: 0.5250\n",
            "Epoch 19/30\n",
            "7/7 [==============================] - 2s 349ms/step - loss: 0.8413 - accuracy: 0.7697\n",
            "Epoch 20/30\n",
            "7/7 [==============================] - 2s 350ms/step - loss: 0.9442 - accuracy: 0.6375\n",
            "Epoch 21/30\n",
            "7/7 [==============================] - 2s 339ms/step - loss: 0.8044 - accuracy: 0.7125\n",
            "Epoch 22/30\n",
            "7/7 [==============================] - 2s 342ms/step - loss: 0.8319 - accuracy: 0.7360\n",
            "Epoch 23/30\n",
            "7/7 [==============================] - 2s 344ms/step - loss: 0.6853 - accuracy: 0.8101\n",
            "Epoch 24/30\n",
            "7/7 [==============================] - 2s 347ms/step - loss: 0.6712 - accuracy: 0.7698\n",
            "Epoch 25/30\n",
            "7/7 [==============================] - 2s 341ms/step - loss: 0.4640 - accuracy: 0.8849\n",
            "Epoch 26/30\n",
            "7/7 [==============================] - 2s 345ms/step - loss: 0.3279 - accuracy: 0.9374\n",
            "Epoch 27/30\n",
            "7/7 [==============================] - 2s 357ms/step - loss: 0.4018 - accuracy: 0.8704\n",
            "Epoch 28/30\n",
            "7/7 [==============================] - 2s 346ms/step - loss: 0.2866 - accuracy: 0.9529\n",
            "Epoch 29/30\n",
            "7/7 [==============================] - 2s 338ms/step - loss: 0.3778 - accuracy: 0.8520\n",
            "Epoch 30/30\n",
            "7/7 [==============================] - 2s 346ms/step - loss: 0.2298 - accuracy: 0.9569\n"
          ],
          "name": "stdout"
        },
        {
          "output_type": "execute_result",
          "data": {
            "text/plain": [
              "<tensorflow.python.keras.callbacks.History at 0x7fcd28adf510>"
            ]
          },
          "metadata": {
            "tags": []
          },
          "execution_count": 166
        }
      ]
    },
    {
      "cell_type": "code",
      "metadata": {
        "colab": {
          "base_uri": "https://localhost:8080/"
        },
        "id": "6zJNsj4efPQB",
        "outputId": "bfd3623a-d135-4181-d15d-76cf273febfa"
      },
      "source": [
        "preds_6 = model_6.predict(X_test_padded, batch_size=10)"
      ],
      "execution_count": null,
      "outputs": [
        {
          "output_type": "stream",
          "text": [
            "WARNING:tensorflow:5 out of the last 11 calls to <function Model.make_predict_function.<locals>.predict_function at 0x7fcd27f77440> triggered tf.function retracing. Tracing is expensive and the excessive number of tracings could be due to (1) creating @tf.function repeatedly in a loop, (2) passing tensors with different shapes, (3) passing Python objects instead of tensors. For (1), please define your @tf.function outside of the loop. For (2), @tf.function has experimental_relax_shapes=True option that relaxes argument shapes that can avoid unnecessary retracing. For (3), please refer to https://www.tensorflow.org/guide/function#controlling_retracing and https://www.tensorflow.org/api_docs/python/tf/function for  more details.\n"
          ],
          "name": "stdout"
        }
      ]
    },
    {
      "cell_type": "code",
      "metadata": {
        "colab": {
          "base_uri": "https://localhost:8080/"
        },
        "id": "eRyRuFoYfPQB",
        "outputId": "08e0c63a-a6a0-413b-87c5-8a6fe9621cc0"
      },
      "source": [
        "preds_6"
      ],
      "execution_count": null,
      "outputs": [
        {
          "output_type": "execute_result",
          "data": {
            "text/plain": [
              "array([[1.75021857e-01, 2.54840683e-03, 3.92881706e-02, 1.04348779e-01,\n",
              "        6.26676142e-01, 5.21165766e-02],\n",
              "       [1.56201329e-02, 4.24633035e-04, 9.10116076e-01, 1.58027431e-03,\n",
              "        6.40837029e-02, 8.17515515e-03],\n",
              "       [1.52409911e-01, 1.75668485e-03, 3.33169997e-02, 5.89498393e-02,\n",
              "        7.11028755e-01, 4.25377637e-02],\n",
              "       [5.65589890e-02, 3.15458365e-02, 4.64215949e-02, 5.14877379e-01,\n",
              "        3.86023452e-03, 3.46735954e-01],\n",
              "       [2.78288871e-01, 3.38703487e-03, 7.97027573e-02, 2.96426229e-02,\n",
              "        8.60727206e-02, 5.22906005e-01],\n",
              "       [1.17134176e-01, 1.63517299e-03, 3.44302952e-02, 3.40767093e-02,\n",
              "        7.85450339e-01, 2.72733606e-02],\n",
              "       [2.61327654e-01, 2.63211457e-03, 3.23219523e-02, 2.11845376e-02,\n",
              "        6.37124330e-02, 6.18821323e-01],\n",
              "       [1.48130730e-02, 4.86448960e-04, 9.19992328e-01, 1.73095590e-03,\n",
              "        5.42302355e-02, 8.74699745e-03],\n",
              "       [1.97861046e-01, 2.14016298e-03, 3.13812979e-02, 9.45968851e-02,\n",
              "        6.20001495e-01, 5.40191643e-02],\n",
              "       [2.16203004e-01, 2.36005755e-03, 3.59735228e-02, 9.99155492e-02,\n",
              "        5.84280610e-01, 6.12672716e-02],\n",
              "       [2.54042566e-01, 2.40180804e-03, 2.65045911e-02, 2.08656602e-02,\n",
              "        8.40542316e-02, 6.12131178e-01],\n",
              "       [8.01518410e-02, 2.13809009e-03, 3.15567963e-02, 2.35328078e-02,\n",
              "        8.38427663e-01, 2.41927933e-02],\n",
              "       [2.04778202e-02, 5.04354131e-04, 9.06490028e-01, 1.71163911e-03,\n",
              "        5.92111982e-02, 1.16050132e-02],\n",
              "       [1.42661585e-02, 4.26587852e-04, 9.17013347e-01, 1.60205108e-03,\n",
              "        5.94484210e-02, 7.24347075e-03],\n",
              "       [1.55001571e-02, 8.76365509e-03, 1.75940152e-02, 9.38062429e-01,\n",
              "        7.21485866e-03, 1.28648821e-02],\n",
              "       [1.46401361e-01, 4.07786947e-03, 8.72692689e-02, 1.20708933e-02,\n",
              "        6.74649596e-01, 7.55309612e-02],\n",
              "       [2.88366318e-01, 3.01397685e-03, 3.53365168e-02, 2.30981540e-02,\n",
              "        8.17075893e-02, 5.68477452e-01],\n",
              "       [5.83825782e-02, 3.37424129e-02, 4.74478751e-02, 5.31495392e-01,\n",
              "        3.00773699e-03, 3.25924039e-01],\n",
              "       [2.42069274e-01, 2.46959482e-03, 2.61660535e-02, 1.68124009e-02,\n",
              "        6.70730174e-02, 6.45409644e-01],\n",
              "       [1.59427688e-01, 5.08814771e-03, 2.65267581e-01, 1.35543710e-02,\n",
              "        4.48898584e-01, 1.07763715e-01],\n",
              "       [2.20826924e-01, 2.44462444e-03, 2.33385190e-02, 1.57200862e-02,\n",
              "        5.29815964e-02, 6.84688330e-01],\n",
              "       [2.33375952e-02, 4.39661584e-04, 9.09052968e-01, 2.53821118e-03,\n",
              "        5.06980643e-02, 1.39335543e-02],\n",
              "       [1.22566327e-01, 4.37284261e-03, 9.37494785e-02, 1.13229509e-02,\n",
              "        7.07550883e-01, 6.04374968e-02],\n",
              "       [1.68261826e-01, 1.91943441e-03, 3.01192701e-02, 8.08032453e-02,\n",
              "        6.73921108e-01, 4.49750982e-02],\n",
              "       [5.63515909e-02, 2.56180707e-02, 2.84700487e-02, 6.33543849e-01,\n",
              "        3.13832634e-03, 2.52878159e-01]], dtype=float32)"
            ]
          },
          "metadata": {
            "tags": []
          },
          "execution_count": 168
        }
      ]
    },
    {
      "cell_type": "code",
      "metadata": {
        "id": "e75WwEzDfPQB"
      },
      "source": [
        "preds_app_6 = preds_6"
      ],
      "execution_count": null,
      "outputs": []
    },
    {
      "cell_type": "code",
      "metadata": {
        "id": "zE9cZodOfPQB"
      },
      "source": [
        "for i in range(preds_app_6.shape[0]):\n",
        "  for j in range(preds_app_6.shape[1]):\n",
        "    if max(preds_app_6[i,]) == preds_app_6[i,j]:\n",
        "      preds_app_6[i,j] = 1\n",
        "    else:\n",
        "      preds_app_6[i,j] = 0"
      ],
      "execution_count": null,
      "outputs": []
    },
    {
      "cell_type": "code",
      "metadata": {
        "colab": {
          "base_uri": "https://localhost:8080/"
        },
        "id": "tWpB3_fDfPQB",
        "outputId": "f957d2d6-934d-4893-9c65-12103997f0c3"
      },
      "source": [
        "preds_app_6.shape\n",
        "y_test.shape"
      ],
      "execution_count": null,
      "outputs": [
        {
          "output_type": "execute_result",
          "data": {
            "text/plain": [
              "(25, 6)"
            ]
          },
          "metadata": {
            "tags": []
          },
          "execution_count": 171
        }
      ]
    },
    {
      "cell_type": "code",
      "metadata": {
        "id": "ZSAilEk6fPQB"
      },
      "source": [
        "preds_str_6 = np.zeros((3, preds_app_6.shape[0]))\n",
        "\n",
        "for i in range(preds_app_6.shape[0]):\n",
        "  for j in range(preds_app_6.shape[1]):\n",
        "    if (y_test[i,j] == 1) & (preds_app_6[i,j] == 1):\n",
        "      preds_str_6[0,i] = j\n",
        "      preds_str_6[1,i] = j\n",
        "      preds_str_6[2,i] = 1\n",
        "    elif (y_test[i,j] == 0) & (preds_app_6[i,j] == 1):\n",
        "      preds_str_6[1,i] = j\n",
        "    elif (y_test[i,j] == 1) & (preds_app_6[i,j] == 0):\n",
        "      preds_str_6[0,i] = j\n",
        "    else :\n",
        "      True"
      ],
      "execution_count": null,
      "outputs": []
    },
    {
      "cell_type": "code",
      "metadata": {
        "colab": {
          "base_uri": "https://localhost:8080/"
        },
        "id": "VgzGXAK1fPQB",
        "outputId": "8243db06-89bf-4f7f-93bc-2317d1ef5617"
      },
      "source": [
        "preds_str_6"
      ],
      "execution_count": null,
      "outputs": [
        {
          "output_type": "execute_result",
          "data": {
            "text/plain": [
              "array([[2., 2., 2., 2., 1., 4., 1., 2., 0., 3., 4., 3., 3., 3., 0., 2.,\n",
              "        4., 4., 5., 3., 4., 3., 4., 3., 5.],\n",
              "       [4., 2., 4., 3., 5., 4., 5., 2., 4., 4., 5., 4., 2., 2., 3., 4.,\n",
              "        5., 3., 5., 4., 5., 2., 4., 4., 3.],\n",
              "       [0., 1., 0., 0., 0., 1., 0., 1., 0., 0., 0., 0., 0., 0., 0., 0.,\n",
              "        0., 0., 1., 0., 0., 0., 1., 0., 0.]])"
            ]
          },
          "metadata": {
            "tags": []
          },
          "execution_count": 173
        }
      ]
    },
    {
      "cell_type": "code",
      "metadata": {
        "colab": {
          "base_uri": "https://localhost:8080/"
        },
        "id": "qSuDW3i5fPQC",
        "outputId": "e2350a1d-1ff5-4c05-ce6c-37e09333c11b"
      },
      "source": [
        "youtube_str"
      ],
      "execution_count": null,
      "outputs": [
        {
          "output_type": "execute_result",
          "data": {
            "text/plain": [
              "array(['<1000k', '<100k', '<10k', '<500k', '<50k', '>1000k'], dtype=object)"
            ]
          },
          "metadata": {
            "tags": []
          },
          "execution_count": 174
        }
      ]
    },
    {
      "cell_type": "markdown",
      "metadata": {
        "id": "JaSPwkOQfPQC"
      },
      "source": [
        "**Number of accurate predictions :**"
      ]
    },
    {
      "cell_type": "code",
      "metadata": {
        "colab": {
          "base_uri": "https://localhost:8080/"
        },
        "id": "F3MW_7yafPQC",
        "outputId": "febea92b-d406-4f33-e9d9-03965e07d738"
      },
      "source": [
        "sum(sum(preds_str_6[[2]]))\n"
      ],
      "execution_count": null,
      "outputs": [
        {
          "output_type": "execute_result",
          "data": {
            "text/plain": [
              "5.0"
            ]
          },
          "metadata": {
            "tags": []
          },
          "execution_count": 175
        }
      ]
    },
    {
      "cell_type": "markdown",
      "metadata": {
        "id": "pQ-GIzQjfPQC"
      },
      "source": [
        "**Error Rate :**"
      ]
    },
    {
      "cell_type": "code",
      "metadata": {
        "colab": {
          "base_uri": "https://localhost:8080/"
        },
        "id": "0z_9s-VcfPQC",
        "outputId": "508c772f-a2b3-484c-db04-7ad527449335"
      },
      "source": [
        "(preds_str_6.shape[1] - sum(sum(preds_str_6[[2]])))/preds_str_6.shape[1]"
      ],
      "execution_count": null,
      "outputs": [
        {
          "output_type": "execute_result",
          "data": {
            "text/plain": [
              "0.8"
            ]
          },
          "metadata": {
            "tags": []
          },
          "execution_count": 176
        }
      ]
    },
    {
      "cell_type": "markdown",
      "metadata": {
        "id": "4T86vzzwfPQC"
      },
      "source": [
        "The Bidirectionnal LSTM with FastText Embedding gives us an error of 80 % on success prediction measured with the number of YouTube views. Which means that 20% of the predictions are correct."
      ]
    },
    {
      "cell_type": "markdown",
      "metadata": {
        "id": "hvFZpqb2poY1"
      },
      "source": [
        "####**3.3.2. GloVe Embedding**"
      ]
    },
    {
      "cell_type": "markdown",
      "metadata": {
        "id": "rA710giPfPQD"
      },
      "source": [
        "Now for GloVe embedding"
      ]
    },
    {
      "cell_type": "code",
      "metadata": {
        "colab": {
          "base_uri": "https://localhost:8080/"
        },
        "id": "gaQ0rfYxfPQD",
        "outputId": "e8c2b394-f14f-4205-8f85-fd879fb67f6b"
      },
      "source": [
        "import codecs\n",
        "from tqdm import tqdm\n",
        "embeddings_index = {}\n",
        "f = codecs.open('glove.840B.300d.txt', encoding='utf-8') #GloVe trained on common crawl\n",
        "for line in tqdm(f):\n",
        "  values = line.rstrip().rsplit(' ')\n",
        "  word = values[0]\n",
        "  coefs = np.asarray(values[1:], dtype='float32')\n",
        "  embeddings_index[word] = coefs\n",
        "f.close()"
      ],
      "execution_count": null,
      "outputs": [
        {
          "output_type": "stream",
          "text": [
            "2196018it [04:45, 7688.45it/s]\n"
          ],
          "name": "stderr"
        }
      ]
    },
    {
      "cell_type": "code",
      "metadata": {
        "colab": {
          "base_uri": "https://localhost:8080/"
        },
        "id": "bcClleX_fPQD",
        "outputId": "44d1c497-eb98-4e5a-ae52-e1a49b509ca7"
      },
      "source": [
        "word_index = tokenizer.word_index\n",
        "MAX_NB_WORDS = 1000\n",
        "embed_dim = 300\n",
        "\n",
        "words_not_found = []\n",
        "nb_words = min(MAX_NB_WORDS, len(word_index)+1)\n",
        "embedding_matrix = np.zeros((nb_words, embed_dim))\n",
        "for word, i in word_index.items():\n",
        "  if i >= nb_words:\n",
        "     continue\n",
        "  embedding_vector = embeddings_index.get(word)\n",
        "  \n",
        "  if (embedding_vector is not None) and len(embedding_vector) > 0:\n",
        "     embedding_matrix[i] = embedding_vector\n",
        "  else:\n",
        "     words_not_found.append(word)\n",
        "print('number of null word embeddings: %d' % np.sum(np.sum(embedding_matrix, axis=1) == 0))"
      ],
      "execution_count": null,
      "outputs": [
        {
          "output_type": "stream",
          "text": [
            "number of null word embeddings: 41\n"
          ],
          "name": "stdout"
        }
      ]
    },
    {
      "cell_type": "code",
      "metadata": {
        "colab": {
          "base_uri": "https://localhost:8080/"
        },
        "id": "aBHUR7N8fPQD",
        "outputId": "266e6c56-2226-4717-cc2a-30b78a5f19f3"
      },
      "source": [
        "from keras.layers import BatchNormalization\n",
        "import tensorflow as tf\n",
        "from keras.layers import Dropout\n",
        "\n",
        "\n",
        "# Hyperparameters\n",
        "embedding_vector_length = 50\n",
        "\n",
        "# Create the Bidirectional LSTM model with Keras\n",
        "model_7 = Sequential()\n",
        "model_7.add(Embedding(num_words, embedding_vector_length, input_length=max_review_length))\n",
        "model_7.add(Bidirectional(LSTM(60, return_sequences=True)))\n",
        "model_7.add(GlobalMaxPooling1D())\n",
        "model_7.add(Dense(6, activation='softmax'))\n",
        "model_7.compile(loss='categorical_crossentropy', optimizer='adam', metrics=['accuracy'])\n",
        "\n",
        "print(model_7.summary())"
      ],
      "execution_count": null,
      "outputs": [
        {
          "output_type": "stream",
          "text": [
            "Model: \"sequential_7\"\n",
            "_________________________________________________________________\n",
            "Layer (type)                 Output Shape              Param #   \n",
            "=================================================================\n",
            "embedding_7 (Embedding)      (None, 500, 50)           50100     \n",
            "_________________________________________________________________\n",
            "bidirectional_7 (Bidirection (None, 500, 120)          53280     \n",
            "_________________________________________________________________\n",
            "global_max_pooling1d_7 (Glob (None, 120)               0         \n",
            "_________________________________________________________________\n",
            "dense_7 (Dense)              (None, 6)                 726       \n",
            "=================================================================\n",
            "Total params: 104,106\n",
            "Trainable params: 104,106\n",
            "Non-trainable params: 0\n",
            "_________________________________________________________________\n",
            "None\n"
          ],
          "name": "stdout"
        }
      ]
    },
    {
      "cell_type": "code",
      "metadata": {
        "colab": {
          "base_uri": "https://localhost:8080/"
        },
        "id": "Zo9ErvLnfPQD",
        "outputId": "daa9450b-8fd2-453d-e6ed-9de649a8cc25"
      },
      "source": [
        "model_7.fit(X_train_padded, y_train, batch_size=10, epochs=30)"
      ],
      "execution_count": null,
      "outputs": [
        {
          "output_type": "stream",
          "text": [
            "Epoch 1/30\n",
            "7/7 [==============================] - 6s 336ms/step - loss: 1.7888 - accuracy: 0.1753\n",
            "Epoch 2/30\n",
            "7/7 [==============================] - 2s 346ms/step - loss: 1.7471 - accuracy: 0.3261\n",
            "Epoch 3/30\n",
            "7/7 [==============================] - 2s 350ms/step - loss: 1.6881 - accuracy: 0.4148\n",
            "Epoch 4/30\n",
            "7/7 [==============================] - 2s 355ms/step - loss: 1.6246 - accuracy: 0.3434\n",
            "Epoch 5/30\n",
            "7/7 [==============================] - 2s 347ms/step - loss: 1.6227 - accuracy: 0.3355\n",
            "Epoch 6/30\n",
            "7/7 [==============================] - 2s 347ms/step - loss: 1.5433 - accuracy: 0.3811\n",
            "Epoch 7/30\n",
            "7/7 [==============================] - 3s 363ms/step - loss: 1.6734 - accuracy: 0.2622\n",
            "Epoch 8/30\n",
            "7/7 [==============================] - 3s 365ms/step - loss: 1.5422 - accuracy: 0.2662\n",
            "Epoch 9/30\n",
            "7/7 [==============================] - 2s 352ms/step - loss: 1.5021 - accuracy: 0.3035\n",
            "Epoch 10/30\n",
            "7/7 [==============================] - 2s 353ms/step - loss: 1.4405 - accuracy: 0.3876\n",
            "Epoch 11/30\n",
            "7/7 [==============================] - 3s 360ms/step - loss: 1.4308 - accuracy: 0.2859\n",
            "Epoch 12/30\n",
            "7/7 [==============================] - 2s 355ms/step - loss: 1.3613 - accuracy: 0.4313\n",
            "Epoch 13/30\n",
            "7/7 [==============================] - 2s 351ms/step - loss: 1.2617 - accuracy: 0.5253\n",
            "Epoch 14/30\n",
            "7/7 [==============================] - 2s 350ms/step - loss: 1.2405 - accuracy: 0.5854\n",
            "Epoch 15/30\n",
            "7/7 [==============================] - 3s 358ms/step - loss: 1.2283 - accuracy: 0.6866\n",
            "Epoch 16/30\n",
            "7/7 [==============================] - 3s 364ms/step - loss: 1.0870 - accuracy: 0.5953\n",
            "Epoch 17/30\n",
            "7/7 [==============================] - 2s 352ms/step - loss: 0.9950 - accuracy: 0.6167\n",
            "Epoch 18/30\n",
            "7/7 [==============================] - 2s 341ms/step - loss: 1.0728 - accuracy: 0.5049\n",
            "Epoch 19/30\n",
            "7/7 [==============================] - 2s 352ms/step - loss: 1.0514 - accuracy: 0.6631\n",
            "Epoch 20/30\n",
            "7/7 [==============================] - 3s 357ms/step - loss: 0.9701 - accuracy: 0.6063\n",
            "Epoch 21/30\n",
            "7/7 [==============================] - 3s 357ms/step - loss: 0.9143 - accuracy: 0.7775\n",
            "Epoch 22/30\n",
            "7/7 [==============================] - 2s 340ms/step - loss: 0.8023 - accuracy: 0.7925\n",
            "Epoch 23/30\n",
            "7/7 [==============================] - 2s 356ms/step - loss: 0.6618 - accuracy: 0.8482\n",
            "Epoch 24/30\n",
            "7/7 [==============================] - 2s 353ms/step - loss: 0.4982 - accuracy: 0.9173\n",
            "Epoch 25/30\n",
            "7/7 [==============================] - 2s 354ms/step - loss: 0.4088 - accuracy: 0.8878\n",
            "Epoch 26/30\n",
            "7/7 [==============================] - 2s 342ms/step - loss: 0.4572 - accuracy: 0.8853\n",
            "Epoch 27/30\n",
            "7/7 [==============================] - 2s 344ms/step - loss: 0.4868 - accuracy: 0.8297\n",
            "Epoch 28/30\n",
            "7/7 [==============================] - 2s 351ms/step - loss: 0.4886 - accuracy: 0.8286\n",
            "Epoch 29/30\n",
            "7/7 [==============================] - 2s 342ms/step - loss: 0.3312 - accuracy: 0.9030\n",
            "Epoch 30/30\n",
            "7/7 [==============================] - 2s 354ms/step - loss: 0.3366 - accuracy: 0.8584\n"
          ],
          "name": "stdout"
        },
        {
          "output_type": "execute_result",
          "data": {
            "text/plain": [
              "<tensorflow.python.keras.callbacks.History at 0x7fcd15632350>"
            ]
          },
          "metadata": {
            "tags": []
          },
          "execution_count": 180
        }
      ]
    },
    {
      "cell_type": "code",
      "metadata": {
        "colab": {
          "base_uri": "https://localhost:8080/"
        },
        "id": "W9nbRN38fPQD",
        "outputId": "d1d3e0db-306d-4050-f8a8-4a1e80513959"
      },
      "source": [
        "preds_7 = model_7.predict(X_test_padded, batch_size=10)"
      ],
      "execution_count": null,
      "outputs": [
        {
          "output_type": "stream",
          "text": [
            "WARNING:tensorflow:5 out of the last 12 calls to <function Model.make_predict_function.<locals>.predict_function at 0x7fcd0be48e60> triggered tf.function retracing. Tracing is expensive and the excessive number of tracings could be due to (1) creating @tf.function repeatedly in a loop, (2) passing tensors with different shapes, (3) passing Python objects instead of tensors. For (1), please define your @tf.function outside of the loop. For (2), @tf.function has experimental_relax_shapes=True option that relaxes argument shapes that can avoid unnecessary retracing. For (3), please refer to https://www.tensorflow.org/guide/function#controlling_retracing and https://www.tensorflow.org/api_docs/python/tf/function for  more details.\n"
          ],
          "name": "stdout"
        }
      ]
    },
    {
      "cell_type": "code",
      "metadata": {
        "id": "sjvF5DRjfPQE"
      },
      "source": [
        "preds_app_7 = preds_7"
      ],
      "execution_count": null,
      "outputs": []
    },
    {
      "cell_type": "code",
      "metadata": {
        "id": "Q0gPozwLfPQE"
      },
      "source": [
        "for i in range(preds_app_7.shape[0]):\n",
        "  for j in range(preds_app_7.shape[1]):\n",
        "    if max(preds_app_7[i,]) == preds_app_7[i,j]:\n",
        "      preds_app_7[i,j] = 1\n",
        "    else:\n",
        "      preds_app_7[i,j] = 0"
      ],
      "execution_count": null,
      "outputs": []
    },
    {
      "cell_type": "code",
      "metadata": {
        "id": "rGVef13RfPQE"
      },
      "source": [
        "preds_str_7 = np.zeros((3, preds_app_7.shape[0]))\n",
        "\n",
        "for i in range(preds_app_7.shape[0]):\n",
        "  for j in range(preds_app_7.shape[1]):\n",
        "    if (y_test[i,j] == 1) & (preds_app_7[i,j] == 1):\n",
        "      preds_str_7[0,i] = j\n",
        "      preds_str_7[1,i] = j\n",
        "      preds_str_7[2,i] = 1\n",
        "    elif (y_test[i,j] == 0) & (preds_app_7[i,j] == 1):\n",
        "      preds_str_7[1,i] = j\n",
        "    elif (y_test[i,j] == 1) & (preds_app_7[i,j] == 0):\n",
        "      preds_str_7[0,i] = j\n",
        "    else :\n",
        "      True"
      ],
      "execution_count": null,
      "outputs": []
    },
    {
      "cell_type": "code",
      "metadata": {
        "colab": {
          "base_uri": "https://localhost:8080/"
        },
        "id": "NK_X320gfPQE",
        "outputId": "dd37ba49-88b2-452a-efb2-20cd04da0c84"
      },
      "source": [
        "preds_str_7"
      ],
      "execution_count": null,
      "outputs": [
        {
          "output_type": "execute_result",
          "data": {
            "text/plain": [
              "array([[2., 2., 2., 2., 1., 4., 1., 2., 0., 3., 4., 3., 3., 3., 0., 2.,\n",
              "        4., 4., 5., 3., 4., 3., 4., 3., 5.],\n",
              "       [3., 2., 4., 3., 2., 4., 5., 3., 3., 4., 4., 3., 2., 2., 3., 4.,\n",
              "        3., 5., 5., 2., 5., 2., 5., 2., 3.],\n",
              "       [0., 1., 0., 0., 0., 1., 0., 0., 0., 0., 1., 1., 0., 0., 0., 0.,\n",
              "        0., 0., 1., 0., 0., 0., 0., 0., 0.]])"
            ]
          },
          "metadata": {
            "tags": []
          },
          "execution_count": 185
        }
      ]
    },
    {
      "cell_type": "code",
      "metadata": {
        "colab": {
          "base_uri": "https://localhost:8080/"
        },
        "id": "Fe6EvPp1fPQE",
        "outputId": "b81a1933-fb10-4b9e-d692-bf6ca6088855"
      },
      "source": [
        "youtube_str"
      ],
      "execution_count": null,
      "outputs": [
        {
          "output_type": "execute_result",
          "data": {
            "text/plain": [
              "array(['<1000k', '<100k', '<10k', '<500k', '<50k', '>1000k'], dtype=object)"
            ]
          },
          "metadata": {
            "tags": []
          },
          "execution_count": 186
        }
      ]
    },
    {
      "cell_type": "markdown",
      "metadata": {
        "id": "A88P4LjtfPQE"
      },
      "source": [
        "**Number of accurate predictions :**"
      ]
    },
    {
      "cell_type": "code",
      "metadata": {
        "colab": {
          "base_uri": "https://localhost:8080/"
        },
        "id": "Q-QVnZb3fPQE",
        "outputId": "c72d3e94-a9a7-497b-ccee-e342194e4f9b"
      },
      "source": [
        "sum(sum(preds_str_7[[2]]))\n"
      ],
      "execution_count": null,
      "outputs": [
        {
          "output_type": "execute_result",
          "data": {
            "text/plain": [
              "5.0"
            ]
          },
          "metadata": {
            "tags": []
          },
          "execution_count": 187
        }
      ]
    },
    {
      "cell_type": "markdown",
      "metadata": {
        "id": "uLjndKnQfPQG"
      },
      "source": [
        "**Error Rate :**"
      ]
    },
    {
      "cell_type": "code",
      "metadata": {
        "colab": {
          "base_uri": "https://localhost:8080/"
        },
        "id": "Kj0oYgPBfPQG",
        "outputId": "bf695c68-3265-4f1d-ae2d-090ffd27fd03"
      },
      "source": [
        "(preds_str_7.shape[1] - sum(sum(preds_str_7[[2]])))/preds_str_7.shape[1]\n"
      ],
      "execution_count": null,
      "outputs": [
        {
          "output_type": "execute_result",
          "data": {
            "text/plain": [
              "0.8"
            ]
          },
          "metadata": {
            "tags": []
          },
          "execution_count": 188
        }
      ]
    },
    {
      "cell_type": "markdown",
      "metadata": {
        "id": "1Vq6OETafPQG"
      },
      "source": [
        "The Bidirectionnal LSTM with GloVe Embedding gives us an error of 80 % on success prediction measured with the number of YouTube views. Which means that 20% of the predictions are correct."
      ]
    }
  ]
}